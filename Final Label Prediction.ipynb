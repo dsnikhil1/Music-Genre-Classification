{
 "cells": [
  {
   "cell_type": "markdown",
   "id": "c17497f8",
   "metadata": {},
   "source": [
    "# CNN Architectures"
   ]
  },
  {
   "cell_type": "code",
   "execution_count": 1,
   "id": "56cd8176",
   "metadata": {},
   "outputs": [],
   "source": [
    "import pandas as pd\n",
    "import numpy as np\n",
    "import librosa\n",
    "import torch\n",
    "import copy\n",
    "import matplotlib.pyplot as plt\n",
    "import torch.nn as nn\n",
    "import torchvision\n",
    "import torchvision.transforms as transforms\n",
    "import cv2\n",
    "from sklearn.model_selection import train_test_split\n",
    "from torch.utils.data import TensorDataset, DataLoader\n",
    "from sklearn.svm import LinearSVC\n",
    "from sklearn.model_selection import train_test_split\n",
    "from sklearn.metrics import accuracy_score\n",
    "from sklearn.metrics import confusion_matrix\n",
    "from sklearn.preprocessing import StandardScaler\n",
    "from warnings import simplefilter\n",
    "from sklearn.exceptions import ConvergenceWarning\n",
    "from sklearn.metrics import ConfusionMatrixDisplay\n",
    "from sklearn.ensemble import RandomForestClassifier\n",
    "from sklearn.linear_model import RidgeClassifier\n",
    "from sklearn.preprocessing import MinMaxScaler\n",
    "import pickle\n",
    "import os"
   ]
  },
  {
   "cell_type": "code",
   "execution_count": null,
   "id": "a692ab69",
   "metadata": {},
   "outputs": [],
   "source": []
  },
  {
   "cell_type": "code",
   "execution_count": 2,
   "id": "e64cc50c",
   "metadata": {},
   "outputs": [],
   "source": [
    "class SpectrogramCNN(nn.Module):   \n",
    "    def __init__(self):\n",
    "        super(SpectrogramCNN, self).__init__()\n",
    "        \n",
    "        self.layer1 = nn.Sequential(\n",
    "            nn.Conv2d(in_channels=1, out_channels=64, kernel_size=3),\n",
    "            nn.MaxPool2d(kernel_size=2, stride=2),\n",
    "            nn.ReLU()\n",
    "        )\n",
    "        \n",
    "        self.layer2 = nn.Sequential(\n",
    "            nn.Conv2d(in_channels=64, out_channels=64, kernel_size=(3,5)),\n",
    "            nn.MaxPool2d(kernel_size=2, stride=2),\n",
    "            nn.ReLU()\n",
    "        )\n",
    "        \n",
    "        self.layer3 = nn.Sequential(\n",
    "            nn.Conv2d(in_channels=64, out_channels=64, kernel_size=3),\n",
    "            nn.MaxPool2d(kernel_size=2, stride=2),\n",
    "            nn.ReLU()\n",
    "        )\n",
    "        \n",
    "        \n",
    "        \n",
    "        self.fc1 = nn.Sequential(\n",
    "            nn.Linear(in_features=64*14*51, out_features=2)\n",
    "        )\n",
    "\n",
    "        \n",
    "    def forward(self, x):\n",
    "        out = self.layer1(x)\n",
    "        out = self.layer2(out)\n",
    "        out = self.layer3(out)\n",
    "        out = out.view(out.size(0), -1)\n",
    "        out = self.fc1(out)\n",
    "        return out\n",
    "\n",
    "\n",
    "activation = {}\n",
    "def get_activation(name):\n",
    "    def hook(model, input, output):\n",
    "        activation[name] = output.detach()\n",
    "    return hook"
   ]
  },
  {
   "cell_type": "code",
   "execution_count": null,
   "id": "ce079b20",
   "metadata": {},
   "outputs": [],
   "source": []
  },
  {
   "cell_type": "code",
   "execution_count": 3,
   "id": "c7351533",
   "metadata": {},
   "outputs": [],
   "source": [
    "class ChromagramCNN(nn.Module):   \n",
    "    def __init__(self):\n",
    "        super(ChromagramCNN, self).__init__()\n",
    "        \n",
    "        self.layer1 = nn.Sequential(\n",
    "            nn.Conv2d(in_channels=1, out_channels=64, kernel_size=3,padding=(1,0)),\n",
    "            nn.MaxPool2d(kernel_size=(1,2), stride=(1,2)),\n",
    "            nn.ReLU()\n",
    "        )\n",
    "        \n",
    "        self.layer2 = nn.Sequential(\n",
    "            nn.Conv2d(in_channels=64, out_channels=64, kernel_size=(3,5), padding=(1,0)),\n",
    "            nn.MaxPool2d(kernel_size=(1,2), stride=(1,2)),\n",
    "            nn.ReLU()\n",
    "        )\n",
    "        \n",
    "        self.layer3 = nn.Sequential(\n",
    "            nn.Conv2d(in_channels=64, out_channels=64, kernel_size=3, padding=(1,0)),\n",
    "            nn.MaxPool2d(kernel_size=(1,2), stride=(1,2)),\n",
    "            nn.ReLU()\n",
    "        )\n",
    "        \n",
    "        \n",
    "        \n",
    "        self.fc1 = nn.Sequential(\n",
    "            nn.Linear(in_features=64*12*51, out_features=2)\n",
    "        )\n",
    "\n",
    "        \n",
    "    def forward(self, x):\n",
    "        out = self.layer1(x)\n",
    "        #print(out.shape)\n",
    "        out = self.layer2(out)\n",
    "        #print(out.shape)\n",
    "        out = self.layer3(out)\n",
    "        out = out.view(out.size(0), -1)\n",
    "        out = self.fc1(out)\n",
    "        return out"
   ]
  },
  {
   "cell_type": "code",
   "execution_count": null,
   "id": "0ab287f6",
   "metadata": {},
   "outputs": [],
   "source": []
  },
  {
   "cell_type": "code",
   "execution_count": 4,
   "id": "96914aa8",
   "metadata": {},
   "outputs": [],
   "source": [
    "class MfccCNN(nn.Module):   \n",
    "    def __init__(self):\n",
    "        super(MfccCNN, self).__init__()\n",
    "        \n",
    "        self.layer1 = nn.Sequential(\n",
    "            nn.Conv2d(in_channels=1, out_channels=64, kernel_size=3,padding=(1,0)),\n",
    "            nn.MaxPool2d(kernel_size=(1,2), stride=(1,2)),\n",
    "            nn.ReLU()\n",
    "        )\n",
    "        \n",
    "        self.layer2 = nn.Sequential(\n",
    "            nn.Conv2d(in_channels=64, out_channels=64, kernel_size=(3,5), padding=(1,0)),\n",
    "            nn.MaxPool2d(kernel_size=(1,2), stride=(1,2)),\n",
    "            nn.ReLU()\n",
    "        )\n",
    "        \n",
    "        self.layer3 = nn.Sequential(\n",
    "            nn.Conv2d(in_channels=64, out_channels=64, kernel_size=3, padding=(1,0)),\n",
    "            nn.MaxPool2d(kernel_size=(1,2), stride=(1,2)),\n",
    "            nn.ReLU()\n",
    "        )\n",
    "        \n",
    "        \n",
    "        \n",
    "        self.fc1 = nn.Sequential(\n",
    "            nn.Linear(in_features=64*20*51, out_features=2)\n",
    "        )\n",
    "\n",
    "        \n",
    "    def forward(self, x):\n",
    "        out = self.layer1(x)\n",
    "        #print(out.shape)\n",
    "        out = self.layer2(out)\n",
    "        #print(out.shape)\n",
    "        out = self.layer3(out)\n",
    "        out = out.view(out.size(0), -1)\n",
    "        out = self.fc1(out)\n",
    "        return out"
   ]
  },
  {
   "cell_type": "code",
   "execution_count": null,
   "id": "b7c504a7",
   "metadata": {},
   "outputs": [],
   "source": []
  },
  {
   "cell_type": "code",
   "execution_count": 5,
   "id": "600081d1",
   "metadata": {},
   "outputs": [],
   "source": [
    "class FourierCNN(nn.Module):   \n",
    "    def __init__(self):\n",
    "        super(FourierCNN, self).__init__()\n",
    "        \n",
    "        self.layer1 = nn.Sequential(\n",
    "            nn.Conv2d(in_channels=1, out_channels=64, kernel_size=3),\n",
    "            nn.MaxPool2d(kernel_size=2, stride=2),\n",
    "            nn.ReLU()\n",
    "        )\n",
    "        \n",
    "        self.layer2 = nn.Sequential(\n",
    "            nn.Conv2d(in_channels=64, out_channels=64, kernel_size=(3,5)),\n",
    "            nn.MaxPool2d(kernel_size=2, stride=2),\n",
    "            nn.ReLU()\n",
    "        )\n",
    "        \n",
    "        self.layer3 = nn.Sequential(\n",
    "            nn.Conv2d(in_channels=64, out_channels=64, kernel_size=3),\n",
    "            nn.MaxPool2d(kernel_size=2, stride=2),\n",
    "            nn.ReLU()\n",
    "        )\n",
    "        \n",
    "        \n",
    "        \n",
    "        self.fc1 = nn.Sequential(\n",
    "            nn.Linear(in_features=64*22*51, out_features=2)\n",
    "        )\n",
    "\n",
    "        \n",
    "    def forward(self, x):\n",
    "        out = self.layer1(x)\n",
    "        out = self.layer2(out)\n",
    "        out = self.layer3(out)\n",
    "        out = out.view(out.size(0), -1)\n",
    "        out = self.fc1(out)\n",
    "        return out"
   ]
  },
  {
   "cell_type": "code",
   "execution_count": null,
   "id": "ce3b3d3b",
   "metadata": {},
   "outputs": [],
   "source": []
  },
  {
   "cell_type": "code",
   "execution_count": 6,
   "id": "3536f1da",
   "metadata": {},
   "outputs": [],
   "source": [
    "os.chdir('/Users/sainikhil/Downloads/Machine Learning/Project 2/Extracted data')\n",
    "pickled_model = pickle.load(open('knn.pkl', 'rb'))"
   ]
  },
  {
   "cell_type": "code",
   "execution_count": 7,
   "id": "3d6087f2",
   "metadata": {},
   "outputs": [],
   "source": [
    "def extract_percentage_feature(filename):\n",
    "    # Params\n",
    "    spectrogram_list = []\n",
    "    chromagram_list = []\n",
    "    mfcc_list = []\n",
    "    tempogram_fourier = []\n",
    "\n",
    "    segment_length = 5 # Snippets in each track considered\n",
    "    # rp% of the spectral energy lies below the value of spectral rolloff\n",
    "    roll_percent = 0.85\n",
    "    sr = 44100 # Sampling rate - 22 kHz\n",
    "    #filename = \"/Users/sainikhil/Downloads/Machine Learning/Project 2/cap6610fa22_test_set/Not_Progressive_Rock/01 Dance Yrself Clean.mp3\"\n",
    "\n",
    "    x , sr = librosa.load(filename, sr=sr)\n",
    "\n",
    "    # Print track and genre\n",
    "    #print(\"Done\")\n",
    "\n",
    "    # compute number of 30sec audio segments\n",
    "    num_segments = int(len(x)/(sr*segment_length))\n",
    "\n",
    "\n",
    "    # Create segment list\n",
    "    segments = np.arange(4,num_segments-4,1,dtype=int)\n",
    "\n",
    "    for segment in segments:\n",
    "        x, sr = librosa.load(filename, sr=sr, offset=segment_length*segment, duration=segment_length)\n",
    "\n",
    "\n",
    "        #Spectrogram\n",
    "        melspectrogram = librosa.feature.melspectrogram(y=x, sr=sr, n_fft=4096)\n",
    "        log_mel_spectrogram = librosa.power_to_db(melspectrogram)\n",
    "        spectrogram_list.append(log_mel_spectrogram)\n",
    "\n",
    "        #Chromagram\n",
    "        chromagram = librosa.feature.chroma_stft(y=x, sr=sr, S=None, n_fft=2048,\n",
    "                                                    hop_length=512, win_length=None, window='hann', center=True,\n",
    "                                                    pad_mode='constant', tuning=None, n_chroma=12)\n",
    "        chromagram_list.append(chromagram)\n",
    "\n",
    "        # mfccs\n",
    "        mfccs = librosa.feature.mfcc(y=x, sr=sr)\n",
    "        mfcc_list.append(mfccs)\n",
    "\n",
    "\n",
    "        # Fourier tempogram\n",
    "        oenv = librosa.onset.onset_strength(y=x, sr=sr)\n",
    "        fourier_tempogram = librosa.feature.fourier_tempogram(onset_envelope=oenv, sr=sr)\n",
    "        tempogram_fourier.append(fourier_tempogram)\n",
    "\n",
    "    spectrogram_array = np.array(spectrogram_list,dtype=np.float32)\n",
    "    chromagram_array = np.array(chromagram_list,dtype=np.float32)\n",
    "    mfcc_array = np.array(mfcc_list,dtype=np.float32)\n",
    "    tempogram_fourier_array = np.array(tempogram_fourier,dtype=np.float32)\n",
    "    print(spectrogram_array)\n",
    "    \n",
    "    \n",
    "    output_test_fc1 = []\n",
    "    device = \"cpu\"\n",
    "    saved_model_path = '/Users/sainikhil/Downloads/Machine Learning/Project 2/Extracted data/'\n",
    "\n",
    "    # Saving output of fully connected layer of Spectrogram\n",
    "    loaded_model_spectrogram = SpectrogramCNN()\n",
    "    state_dict = torch.load(saved_model_path+'spectrogram.pth')['state_dict']\n",
    "    loaded_model_spectrogram.load_state_dict(state_dict)\n",
    "    loaded_model_spectrogram.to(device)\n",
    "    loaded_model_spectrogram.fc1.register_forward_hook(get_activation('fc1'))\n",
    "\n",
    "\n",
    "    with torch.no_grad():\n",
    "        x_dim = 128\n",
    "        y_dim = 431\n",
    "        images = spectrogram_array\n",
    "        #print(images)\n",
    "        images = torch.tensor(images)\n",
    "        train = images.view(images.shape[0], 1, x_dim, y_dim)\n",
    "        train = train.to(device)\n",
    "        outputs = loaded_model_spectrogram(train)\n",
    "        output_test_fc1.append(activation[\"fc1\"])\n",
    "\n",
    "\n",
    "    # Saving output of fully connected layer of Chromagram\n",
    "    loaded_model_chromagram = ChromagramCNN()\n",
    "    state_dict = torch.load(saved_model_path+'chromagram.pth')['state_dict']\n",
    "    loaded_model_chromagram.load_state_dict(state_dict)\n",
    "    loaded_model_chromagram.to(device)\n",
    "    loaded_model_chromagram.fc1.register_forward_hook(get_activation('fc1'))\n",
    "\n",
    "\n",
    "    with torch.no_grad():\n",
    "        x_dim = 12\n",
    "        y_dim = 431\n",
    "        images = chromagram_array\n",
    "        images = torch.tensor(images)\n",
    "        train = images.view(images.shape[0], 1, x_dim, y_dim)\n",
    "        train = train.to(device)\n",
    "        outputs = loaded_model_chromagram(train)\n",
    "        output_test_fc1.append(activation[\"fc1\"])\n",
    "\n",
    "    # Saving output of fully connected layer of MFCC\n",
    "    loaded_model_mfcc = MfccCNN()\n",
    "    state_dict = torch.load(saved_model_path+'mfcc.pth')['state_dict']\n",
    "    loaded_model_mfcc.load_state_dict(state_dict)\n",
    "    loaded_model_mfcc.to(device)\n",
    "    loaded_model_mfcc.fc1.register_forward_hook(get_activation('fc1'))\n",
    "\n",
    "\n",
    "    with torch.no_grad():\n",
    "        x_dim = 20\n",
    "        y_dim = 431\n",
    "        images = mfcc_array\n",
    "        images = torch.tensor(images)\n",
    "        train = images.view(images.shape[0], 1, x_dim, y_dim)\n",
    "        train = train.to(device)\n",
    "        outputs = loaded_model_mfcc(train)\n",
    "        output_test_fc1.append(activation[\"fc1\"])\n",
    "\n",
    "    # Saving output of fully connected layer of Fourier Tempogram\n",
    "    #device='cpu'\n",
    "    loaded_model_fourier_tempogram = FourierCNN()\n",
    "    state_dict = torch.load(saved_model_path+'fourier_tempogram.pth')['state_dict']\n",
    "    loaded_model_fourier_tempogram.load_state_dict(state_dict)\n",
    "    loaded_model_fourier_tempogram.to(device)\n",
    "    loaded_model_fourier_tempogram.fc1.register_forward_hook(get_activation('fc1'))\n",
    "\n",
    "\n",
    "    with torch.no_grad():\n",
    "        x_dim = 193\n",
    "        y_dim = 432\n",
    "        images = tempogram_fourier_array\n",
    "        images = torch.tensor(images)\n",
    "        train = images.view(images.shape[0], 1, x_dim, y_dim)\n",
    "        train2 = torch.tensor(train,dtype=torch.float32)\n",
    "        train2 = train2.to(device)\n",
    "        outputs = loaded_model_fourier_tempogram(train2)\n",
    "        output_test_fc1.append(activation[\"fc1\"])\n",
    "    \n",
    "    output_test_fc1= tuple(output_test_fc1)\n",
    "    output_array = np.array(torch.concat(output_test_fc1,dim=1).cpu())\n",
    "    \n",
    "    zeroes = 0\n",
    "    ones = 0\n",
    "    pred_array = pickled_model.predict(output_array)\n",
    "    for i in range(len(pred_array)):\n",
    "        if pred_array[i] == 0:\n",
    "            zeroes+=1\n",
    "        else:\n",
    "            ones+=1\n",
    "#     zeroes = np.unique(pickled_model.predict(output_array),return_counts=True)[1][0]\n",
    "#     ones = np.unique(pickled_model.predict(output_array),return_counts=True)[1][1]\n",
    "    zero_percentage = (zeroes/(ones+zeroes))*100\n",
    "    return zero_percentage"
   ]
  },
  {
   "cell_type": "code",
   "execution_count": 8,
   "id": "15a01cb4",
   "metadata": {},
   "outputs": [],
   "source": [
    "feature = []\n",
    "true_label = []\n",
    "song_name = []"
   ]
  },
  {
   "cell_type": "code",
   "execution_count": 9,
   "id": "52779ba3",
   "metadata": {},
   "outputs": [],
   "source": [
    "os.chdir('/Users/sainikhil/Downloads/Machine Learning/Project 2/cap6610fa22_test_set/Progressive Rock Songs')"
   ]
  },
  {
   "cell_type": "code",
   "execution_count": null,
   "id": "3bfe5163",
   "metadata": {
    "scrolled": true
   },
   "outputs": [],
   "source": [
    "for filename in os.listdir('.'):\n",
    "    try:\n",
    "        print(filename)\n",
    "        feature.append(extract_percentage_feature(filename))\n",
    "        true_label.append(1)\n",
    "        song_name.append(filename)\n",
    "        print('ok')\n",
    "    except:\n",
    "        print('not ok')\n",
    "        pass"
   ]
  },
  {
   "cell_type": "code",
   "execution_count": null,
   "id": "02616290",
   "metadata": {},
   "outputs": [],
   "source": []
  },
  {
   "cell_type": "code",
   "execution_count": 13,
   "id": "2ad35702",
   "metadata": {},
   "outputs": [],
   "source": [
    "os.chdir('/Users/sainikhil/Downloads/Machine Learning/Project 2/cap6610fa22_test_set/Not_Progressive_Rock')"
   ]
  },
  {
   "cell_type": "code",
   "execution_count": null,
   "id": "9a195944",
   "metadata": {},
   "outputs": [],
   "source": [
    "for filename in os.listdir('.'):\n",
    "    try:\n",
    "        print(filename)\n",
    "        feature.append(extract_percentage_feature(filename))\n",
    "        true_label.append(0)\n",
    "        song_name.append(filename)\n",
    "        print('ok')\n",
    "    except:\n",
    "        print('not ok')\n",
    "        pass"
   ]
  },
  {
   "cell_type": "code",
   "execution_count": null,
   "id": "6f0490af",
   "metadata": {},
   "outputs": [],
   "source": []
  },
  {
   "cell_type": "code",
   "execution_count": 20,
   "id": "24a3d1a0",
   "metadata": {},
   "outputs": [],
   "source": [
    "np.save('correct_zerofeature_test.npy',np.array(feature))\n",
    "np.save('correct_feature_test_labels.npy',np.array(true_label))\n",
    "np.save('correct_feature_test_songs.npy',np.array(song_name))"
   ]
  },
  {
   "cell_type": "markdown",
   "id": "c7cc6ac7",
   "metadata": {},
   "source": [
    "# Predictions on test songs excluding other songs"
   ]
  },
  {
   "cell_type": "code",
   "execution_count": 29,
   "id": "81f6ad41",
   "metadata": {},
   "outputs": [],
   "source": [
    "os.chdir('/Users/sainikhil/Downloads/Machine Learning/Project 2/Extracted data')\n",
    "pickled_model = pickle.load(open('decision_tree_version2.pkl', 'rb'))"
   ]
  },
  {
   "cell_type": "code",
   "execution_count": 30,
   "id": "3a79f6a6",
   "metadata": {},
   "outputs": [
    {
     "name": "stdout",
     "output_type": "stream",
     "text": [
      "Results excluding post prog rock songs\n",
      "Accuracy achieved on Test dataset is 0.7192118226600985\n",
      "Accuracy achieved on Prog rock songs is 0.7777777777777778\n",
      "Accuracy achieved on Non-prog rock songs is 0.6526315789473685\n"
     ]
    },
    {
     "data": {
      "image/png": "[encoded data removed]",
      "text/plain": [
       "<Figure size 640x480 with 2 Axes>"
      ]
     },
     "metadata": {},
     "output_type": "display_data"
    }
   ],
   "source": [
    "print(\"Results excluding post prog rock songs\")\n",
    "\n",
    "pred_label = []\n",
    "for i in range(len(feature)):\n",
    "    pred_label.append(pickled_model.predict(np.array(feature[i]).reshape(-1,1))[0])\n",
    "count = 0\n",
    "for i in range(len(true_label)):\n",
    "    if true_label[i]==pred_label[i]:\n",
    "        count+=1\n",
    "print(\"Accuracy achieved on Test dataset is {}\".format(count/len(feature)))\n",
    "prog_correct = 0\n",
    "total_prog = 108\n",
    "for i in range(108):\n",
    "    if true_label[i] == pred_label[i]:\n",
    "        prog_correct+=1\n",
    "print(\"Accuracy achieved on Prog rock songs is {}\".format(prog_correct/total_prog))\n",
    "non_prog_correct = 0\n",
    "total_non_prog = 95\n",
    "for i in range(108,len(feature)):\n",
    "    if true_label[i] == pred_label[i]:\n",
    "        non_prog_correct+=1\n",
    "print(\"Accuracy achieved on Non-prog rock songs is {}\".format(non_prog_correct/total_non_prog))\n",
    "cm_display = ConfusionMatrixDisplay(confusion_matrix = confusion_matrix(np.array(true_label),np.array(pred_label)),display_labels=np.array(['non-prog rock','prog rock']))\n",
    "cm_display.plot()\n",
    "plt.show()"
   ]
  },
  {
   "cell_type": "code",
   "execution_count": 40,
   "id": "68963b1d",
   "metadata": {},
   "outputs": [],
   "source": [
    "os.chdir('/Users/sainikhil/Downloads/Machine Learning/Project 2/Extracted data')\n",
    "pickled_model = pickle.load(open('knn.pkl', 'rb'))"
   ]
  },
  {
   "cell_type": "code",
   "execution_count": 41,
   "id": "3412377b",
   "metadata": {},
   "outputs": [],
   "source": [
    "os.chdir('/Users/sainikhil/Downloads/Machine Learning/Project 2/cap6610fa22_test_set/Other')"
   ]
  },
  {
   "cell_type": "code",
   "execution_count": null,
   "id": "fa04f903",
   "metadata": {},
   "outputs": [],
   "source": [
    "for filename in os.listdir('.'):\n",
    "    try:\n",
    "        print(filename)\n",
    "        feature.append(extract_percentage_feature(filename))\n",
    "        true_label.append(0)\n",
    "        song_name.append(filename)\n",
    "        print('ok')\n",
    "    except:\n",
    "        print('not ok')\n",
    "        pass"
   ]
  },
  {
   "cell_type": "markdown",
   "id": "1f76896b",
   "metadata": {},
   "source": [
    "# Predictions on all test songs including other songs"
   ]
  },
  {
   "cell_type": "code",
   "execution_count": 46,
   "id": "f510cab3",
   "metadata": {},
   "outputs": [
    {
     "name": "stdout",
     "output_type": "stream",
     "text": [
      "Results on all songs\n",
      "Accuracy achieved on Test dataset is 0.672645739910314\n",
      "Accuracy achieved on Prog rock songs is 0.7777777777777778\n",
      "Accuracy achieved on Non-prog rock songs is 0.5739130434782609\n"
     ]
    },
    {
     "data": {
      "image/png": "[encoded data removed]",
      "text/plain": [
       "<Figure size 640x480 with 2 Axes>"
      ]
     },
     "metadata": {},
     "output_type": "display_data"
    }
   ],
   "source": [
    "os.chdir('/Users/sainikhil/Downloads/Machine Learning/Project 2/Extracted data')\n",
    "pickled_model = pickle.load(open('decision_tree_version2.pkl', 'rb'))\n",
    "print(\"Results on all songs\")\n",
    "\n",
    "pred_label = []\n",
    "for i in range(len(feature)):\n",
    "    pred_label.append(pickled_model.predict(np.array(feature[i]).reshape(-1,1))[0])\n",
    "count = 0\n",
    "for i in range(len(true_label)):\n",
    "    if true_label[i]==pred_label[i]:\n",
    "        count+=1\n",
    "print(\"Accuracy achieved on Test dataset is {}\".format(count/len(feature)))\n",
    "prog_correct = 0\n",
    "total_prog = 108\n",
    "for i in range(108):\n",
    "    if true_label[i] == pred_label[i]:\n",
    "        prog_correct+=1\n",
    "print(\"Accuracy achieved on Prog rock songs is {}\".format(prog_correct/total_prog))\n",
    "non_prog_correct = 0\n",
    "total_non_prog = 115\n",
    "for i in range(108,len(feature)):\n",
    "    if true_label[i] == pred_label[i]:\n",
    "        non_prog_correct+=1\n",
    "print(\"Accuracy achieved on Non-prog rock songs is {}\".format(non_prog_correct/total_non_prog))\n",
    "cm_display = ConfusionMatrixDisplay(confusion_matrix = confusion_matrix(np.array(true_label),np.array(pred_label)),display_labels=np.array(['non-prog rock','prog rock']))\n",
    "cm_display.plot()\n",
    "plt.show()"
   ]
  },
  {
   "cell_type": "code",
   "execution_count": null,
   "id": "7baafcac",
   "metadata": {},
   "outputs": [],
   "source": []
  },
  {
   "cell_type": "markdown",
   "id": "01c284a0",
   "metadata": {},
   "source": [
    "# Predictions on other songs (post-prog rock set)"
   ]
  },
  {
   "cell_type": "code",
   "execution_count": 48,
   "id": "03c0e900",
   "metadata": {},
   "outputs": [
    {
     "name": "stdout",
     "output_type": "stream",
     "text": [
      "Results on post prog songs\n",
      "Accuracy achieved on Non-prog rock songs is 0.22727272727272727\n"
     ]
    },
    {
     "data": {
      "image/png": "[encoded data removed]",
      "text/plain": [
       "<Figure size 640x480 with 2 Axes>"
      ]
     },
     "metadata": {},
     "output_type": "display_data"
    }
   ],
   "source": [
    "os.chdir('/Users/sainikhil/Downloads/Machine Learning/Project 2/Extracted data')\n",
    "pickled_model = pickle.load(open('decision_tree_version2.pkl', 'rb'))\n",
    "print(\"Results on post prog songs\")\n",
    "\n",
    "pred_label = []\n",
    "for i in range(201,len(feature)):\n",
    "    pred_label.append(pickled_model.predict(np.array(feature[i]).reshape(-1,1))[0])\n",
    "post_prog_correct = 0\n",
    "total_post_prog = 22\n",
    "for i in range(201,len(feature)):\n",
    "    if true_label[i] == pred_label[i-201]:\n",
    "        post_prog_correct+=1\n",
    "print(\"Accuracy achieved on Non-prog rock songs is {}\".format(post_prog_correct/total_post_prog))\n",
    "cm_display = ConfusionMatrixDisplay(confusion_matrix = confusion_matrix(np.array(true_label[201:]),np.array(pred_label)),display_labels=np.array(['non-prog rock','prog rock']))\n",
    "cm_display.plot()\n",
    "plt.show()"
   ]
  },
  {
   "cell_type": "code",
   "execution_count": null,
   "id": "154a8227",
   "metadata": {},
   "outputs": [],
   "source": []
  }
 ],
 "metadata": {
  "kernelspec": {
   "display_name": "Python 3 (ipykernel)",
   "language": "python",
   "name": "python3"
  },
  "language_info": {
   "codemirror_mode": {
    "name": "ipython",
    "version": 3
   },
   "file_extension": ".py",
   "mimetype": "text/x-python",
   "name": "python",
   "nbconvert_exporter": "python",
   "pygments_lexer": "ipython3",
   "version": "3.9.12"
  }
 },
 "nbformat": 4,
 "nbformat_minor": 5
}
