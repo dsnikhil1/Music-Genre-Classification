{
 "cells": [
  {
   "cell_type": "code",
   "execution_count": 35,
   "metadata": {},
   "outputs": [],
   "source": [
    "import numpy as np\n",
    "from sklearn.model_selection import train_test_split\n",
    "from sklearn.preprocessing import StandardScaler\n",
    "from sklearn.feature_selection import mutual_info_classif, SelectKBest\n",
    "import pandas as pd\n",
    "import matplotlib.pyplot as plt\n",
    "import os"
   ]
  },
  {
   "cell_type": "code",
   "execution_count": 3,
   "metadata": {},
   "outputs": [
    {
     "data": {
      "text/plain": [
       "'/Users/sainikhil/Downloads/Machine Learning/Project 2'"
      ]
     },
     "execution_count": 3,
     "metadata": {},
     "output_type": "execute_result"
    }
   ],
   "source": []
  },
  {
   "cell_type": "code",
   "execution_count": 5,
   "metadata": {},
   "outputs": [
    {
     "name": "stdout",
     "output_type": "stream",
     "text": [
      "Shape without window avergaing: (8560, 89)\n",
      "Shape with window avergaing: (8560, 89)\n"
     ]
    }
   ],
   "source": [
    "# Load Feature matrix\n",
    "Feature_matrix1D_comp = np.load(\"Extracted data/Feature_matrix1D.npz\")\n",
    "Feature_matrix_window_comp = np.load(\"Extracted data/Feature_matrix_window.npz\")\n",
    "\n",
    "Feature_matrix1D = Feature_matrix1D_comp.f.arr_0\n",
    "Feature_matrix_window = Feature_matrix_window_comp.f.arr_0\n",
    "\n",
    "# Rectify shape\n",
    "print(\"Shape without window avergaing: {}\".format(Feature_matrix1D.shape))\n",
    "print(\"Shape with window avergaing: {}\".format(Feature_matrix_window.shape))"
   ]
  },
  {
   "cell_type": "code",
   "execution_count": 6,
   "metadata": {},
   "outputs": [
    {
     "name": "stdout",
     "output_type": "stream",
     "text": [
      "Shape label : (8560,) ; Feature: (8560, 88)\n",
      "Shape label : (8560,) ; Feature: (8560, 88)\n"
     ]
    }
   ],
   "source": [
    "# Separate data and labels\n",
    "\n",
    "label_1D = Feature_matrix1D[:,0]\n",
    "Features1D = Feature_matrix1D[:,1:]\n",
    "\n",
    "print(\"Shape label : {} ; Feature: {}\".format(label_1D.shape, Features1D.shape))\n",
    "\n",
    "label_window = Feature_matrix_window[:, 0]\n",
    "Features_window = Feature_matrix_window[:, 1:]\n",
    "\n",
    "print(\"Shape label : {} ; Feature: {}\".format(label_window.shape, Features_window.shape))\n"
   ]
  },
  {
   "cell_type": "code",
   "execution_count": 20,
   "metadata": {},
   "outputs": [],
   "source": [
    "#Select only mean features and skip variance features\n",
    "Features1D = Features1D[:,0::2]\n",
    "Features_window = Features_window[:,0::2]"
   ]
  },
  {
   "cell_type": "code",
   "execution_count": 21,
   "metadata": {},
   "outputs": [
    {
     "data": {
      "text/plain": [
       "(8560, 44)"
      ]
     },
     "execution_count": 21,
     "metadata": {},
     "output_type": "execute_result"
    }
   ],
   "source": [
    "Features1D.shape"
   ]
  },
  {
   "cell_type": "code",
   "execution_count": 45,
   "metadata": {},
   "outputs": [
    {
     "data": {
      "text/plain": [
       "(8560, 44)"
      ]
     },
     "execution_count": 45,
     "metadata": {},
     "output_type": "execute_result"
    }
   ],
   "source": [
    "Features1D.shape"
   ]
  },
  {
   "cell_type": "code",
   "execution_count": 44,
   "metadata": {},
   "outputs": [
    {
     "data": {
      "text/plain": [
       "array([0.01335778, 0.01489122, 0.        , 0.02475389, 0.01189234,\n",
       "       0.02807139, 0.0027321 , 0.01624795, 0.00844201, 0.02054874,\n",
       "       0.0147457 , 0.00650107, 0.01288063, 0.01172027, 0.        ,\n",
       "       0.        , 0.00540328, 0.01466874, 0.00278829, 0.        ,\n",
       "       0.01006486, 0.02057868, 0.00957273, 0.00586742, 0.00263644,\n",
       "       0.00238285, 0.00013538, 0.00178541, 0.00072389, 0.00161852,\n",
       "       0.01469227, 0.00732928, 0.01232477, 0.00834602, 0.00084038,\n",
       "       0.00887798, 0.01167157, 0.0035886 , 0.0112705 , 0.00391215,\n",
       "       0.0129313 , 0.01552117, 0.03418097, 0.0458594 ])"
      ]
     },
     "execution_count": 44,
     "metadata": {},
     "output_type": "execute_result"
    }
   ],
   "source": [
    "fs.scores_"
   ]
  },
  {
   "cell_type": "code",
   "execution_count": 22,
   "metadata": {},
   "outputs": [],
   "source": [
    "# Scale both feature sets\n",
    "\n",
    "scaler_window = StandardScaler()\n",
    "scaler1D = StandardScaler()\n",
    "\n",
    "Features1D_Scaled = scaler1D.fit_transform(Features1D)\n",
    "Features_window_Scaled = scaler_window.fit_transform(Features_window)"
   ]
  },
  {
   "cell_type": "code",
   "execution_count": 23,
   "metadata": {},
   "outputs": [
    {
     "name": "stdout",
     "output_type": "stream",
     "text": [
      "Unique window: (array([1.]), array([4280]))\n",
      "Unique 1D: (array([1.]), array([4280]))\n"
     ]
    }
   ],
   "source": [
    "# Separate into test and train \n",
    "X_train1D , X_test1D, y_train1D, y_test1D = train_test_split(\n",
    "    Features1D, label_1D, test_size=0.5,stratify=None, shuffle= False)\n",
    "\n",
    "X_train_window, X_test_window, y_train_window, y_test_window = train_test_split(\n",
    "    Features_window, label_window, test_size=0.5, stratify=None, shuffle=False)\n",
    "\n",
    "# Check class distribution\n",
    "print(\"Unique window: {}\".format(np.unique(y_train_window, return_counts=True)))\n",
    "print(\"Unique 1D: {}\".format(np.unique(y_train1D, return_counts=True)))"
   ]
  },
  {
   "cell_type": "code",
   "execution_count": 25,
   "metadata": {},
   "outputs": [
    {
     "name": "stdout",
     "output_type": "stream",
     "text": [
      "Features 1 : 0.0134\n",
      "Features 2 : 0.0149\n",
      "Features 3 : 0.0000\n",
      "Features 4 : 0.0248\n",
      "Features 5 : 0.0119\n",
      "Features 6 : 0.0281\n",
      "Features 7 : 0.0027\n",
      "Features 8 : 0.0162\n",
      "Features 9 : 0.0084\n",
      "Features 10 : 0.0205\n",
      "Features 11 : 0.0147\n",
      "Features 12 : 0.0065\n",
      "Features 13 : 0.0129\n",
      "Features 14 : 0.0117\n",
      "Features 15 : 0.0000\n",
      "Features 16 : 0.0000\n",
      "Features 17 : 0.0054\n",
      "Features 18 : 0.0147\n",
      "Features 19 : 0.0028\n",
      "Features 20 : 0.0000\n",
      "Features 21 : 0.0101\n",
      "Features 22 : 0.0206\n",
      "Features 23 : 0.0096\n",
      "Features 24 : 0.0059\n",
      "Features 25 : 0.0026\n",
      "Features 26 : 0.0024\n",
      "Features 27 : 0.0001\n",
      "Features 28 : 0.0018\n",
      "Features 29 : 0.0007\n",
      "Features 30 : 0.0016\n",
      "Features 31 : 0.0147\n",
      "Features 32 : 0.0073\n",
      "Features 33 : 0.0123\n",
      "Features 34 : 0.0083\n",
      "Features 35 : 0.0008\n",
      "Features 36 : 0.0089\n",
      "Features 37 : 0.0117\n",
      "Features 38 : 0.0036\n",
      "Features 39 : 0.0113\n",
      "Features 40 : 0.0039\n",
      "Features 41 : 0.0129\n",
      "Features 42 : 0.0155\n",
      "Features 43 : 0.0342\n",
      "Features 44 : 0.0459\n"
     ]
    }
   ],
   "source": [
    "#NOTE: Class - 1: Prog_Rock\n",
    "\n",
    "fs = SelectKBest(score_func=mutual_info_classif, k='all')\n",
    "\n",
    "fs.fit(Features_window, label_window)\n",
    "importance = []\n",
    "count = 1\n",
    "for score in fs.scores_:\n",
    "    print(\"Features {} : {:.4f}\".format(count, score))\n",
    "    importance.append(score)\n",
    "    count += 1"
   ]
  },
  {
   "cell_type": "code",
   "execution_count": 36,
   "metadata": {},
   "outputs": [
    {
     "data": {
      "text/plain": [
       "array([0.01335778, 0.01489122, 0.        , 0.02475389, 0.01189234,\n",
       "       0.02807139, 0.0027321 , 0.01624795, 0.00844201, 0.02054874,\n",
       "       0.0147457 , 0.00650107, 0.01288063, 0.01172027, 0.        ,\n",
       "       0.        , 0.00540328, 0.01466874, 0.00278829, 0.        ,\n",
       "       0.01006486, 0.02057868, 0.00957273, 0.00586742, 0.00263644,\n",
       "       0.00238285, 0.00013538, 0.00178541, 0.00072389, 0.00161852,\n",
       "       0.01469227, 0.00732928, 0.01232477, 0.00834602, 0.00084038,\n",
       "       0.00887798, 0.01167157, 0.0035886 , 0.0112705 , 0.00391215,\n",
       "       0.0129313 , 0.01552117, 0.03418097, 0.0458594 ])"
      ]
     },
     "execution_count": 36,
     "metadata": {},
     "output_type": "execute_result"
    }
   ],
   "source": [
    "fs.scores_"
   ]
  },
  {
   "cell_type": "code",
   "execution_count": null,
   "metadata": {},
   "outputs": [],
   "source": []
  },
  {
   "cell_type": "code",
   "execution_count": null,
   "metadata": {},
   "outputs": [],
   "source": []
  },
  {
   "cell_type": "code",
   "execution_count": 31,
   "metadata": {},
   "outputs": [],
   "source": [
    "features = []\n",
    "def feature_name_generator(feature_name,count):\n",
    "    for i in range(count):\n",
    "        features.append(feature_name+\"_{}\".format(i))"
   ]
  },
  {
   "cell_type": "code",
   "execution_count": 32,
   "metadata": {},
   "outputs": [],
   "source": [
    "feature_name_generator(\"Contrast\",7)\n",
    "feature_name_generator(\"Chroma\",12)\n",
    "feature_name_generator(\"mfcc\",20)\n",
    "features.append(\"Spectral centroid\")\n",
    "features.append(\"Zero crossing\")\n",
    "features.append(\"Spectral rolloff\")\n",
    "features.append(\"RMS\")\n",
    "features.append(\"Beat\")"
   ]
  },
  {
   "cell_type": "code",
   "execution_count": 33,
   "metadata": {},
   "outputs": [
    {
     "data": {
      "text/plain": [
       "['Contrast_0',\n",
       " 'Contrast_1',\n",
       " 'Contrast_2',\n",
       " 'Contrast_3',\n",
       " 'Contrast_4',\n",
       " 'Contrast_5',\n",
       " 'Contrast_6',\n",
       " 'Chroma_0',\n",
       " 'Chroma_1',\n",
       " 'Chroma_2',\n",
       " 'Chroma_3',\n",
       " 'Chroma_4',\n",
       " 'Chroma_5',\n",
       " 'Chroma_6',\n",
       " 'Chroma_7',\n",
       " 'Chroma_8',\n",
       " 'Chroma_9',\n",
       " 'Chroma_10',\n",
       " 'Chroma_11',\n",
       " 'mfcc_0',\n",
       " 'mfcc_1',\n",
       " 'mfcc_2',\n",
       " 'mfcc_3',\n",
       " 'mfcc_4',\n",
       " 'mfcc_5',\n",
       " 'mfcc_6',\n",
       " 'mfcc_7',\n",
       " 'mfcc_8',\n",
       " 'mfcc_9',\n",
       " 'mfcc_10',\n",
       " 'mfcc_11',\n",
       " 'mfcc_12',\n",
       " 'mfcc_13',\n",
       " 'mfcc_14',\n",
       " 'mfcc_15',\n",
       " 'mfcc_16',\n",
       " 'mfcc_17',\n",
       " 'mfcc_18',\n",
       " 'mfcc_19',\n",
       " 'Spectral centroid',\n",
       " 'Zero crossing',\n",
       " 'Spectral rolloff',\n",
       " 'RMS',\n",
       " 'Beat']"
      ]
     },
     "execution_count": 33,
     "metadata": {},
     "output_type": "execute_result"
    }
   ],
   "source": [
    "features"
   ]
  },
  {
   "cell_type": "code",
   "execution_count": null,
   "metadata": {},
   "outputs": [],
   "source": []
  },
  {
   "cell_type": "code",
   "execution_count": null,
   "metadata": {},
   "outputs": [],
   "source": []
  },
  {
   "cell_type": "code",
   "execution_count": 42,
   "metadata": {},
   "outputs": [
    {
     "data": {
      "text/plain": [
       "[Text(0, 0, 'Contrast_0'),\n",
       " Text(1, 0, 'Contrast_1'),\n",
       " Text(2, 0, 'Contrast_2'),\n",
       " Text(3, 0, 'Contrast_3'),\n",
       " Text(4, 0, 'Contrast_4'),\n",
       " Text(5, 0, 'Contrast_5'),\n",
       " Text(6, 0, 'Contrast_6'),\n",
       " Text(7, 0, 'Chroma_0'),\n",
       " Text(8, 0, 'Chroma_1'),\n",
       " Text(9, 0, 'Chroma_2'),\n",
       " Text(10, 0, 'Chroma_3'),\n",
       " Text(11, 0, 'Chroma_4'),\n",
       " Text(12, 0, 'Chroma_5'),\n",
       " Text(13, 0, 'Chroma_6'),\n",
       " Text(14, 0, 'Chroma_7'),\n",
       " Text(15, 0, 'Chroma_8'),\n",
       " Text(16, 0, 'Chroma_9'),\n",
       " Text(17, 0, 'Chroma_10'),\n",
       " Text(18, 0, 'Chroma_11'),\n",
       " Text(19, 0, 'mfcc_0'),\n",
       " Text(20, 0, 'mfcc_1'),\n",
       " Text(21, 0, 'mfcc_2'),\n",
       " Text(22, 0, 'mfcc_3'),\n",
       " Text(23, 0, 'mfcc_4'),\n",
       " Text(24, 0, 'mfcc_5'),\n",
       " Text(25, 0, 'mfcc_6'),\n",
       " Text(26, 0, 'mfcc_7'),\n",
       " Text(27, 0, 'mfcc_8'),\n",
       " Text(28, 0, 'mfcc_9'),\n",
       " Text(29, 0, 'mfcc_10'),\n",
       " Text(30, 0, 'mfcc_11'),\n",
       " Text(31, 0, 'mfcc_12'),\n",
       " Text(32, 0, 'mfcc_13'),\n",
       " Text(33, 0, 'mfcc_14'),\n",
       " Text(34, 0, 'mfcc_15'),\n",
       " Text(35, 0, 'mfcc_16'),\n",
       " Text(36, 0, 'mfcc_17'),\n",
       " Text(37, 0, 'mfcc_18'),\n",
       " Text(38, 0, 'mfcc_19'),\n",
       " Text(39, 0, 'Spectral centroid'),\n",
       " Text(40, 0, 'Zero crossing'),\n",
       " Text(41, 0, 'Spectral rolloff'),\n",
       " Text(42, 0, 'RMS'),\n",
       " Text(43, 0, 'Beat')]"
      ]
     },
     "execution_count": 42,
     "metadata": {},
     "output_type": "execute_result"
    },
    {
     "data": {
      "image/png": "[encoded data removed]",
      "text/plain": [
       "<Figure size 1200x800 with 1 Axes>"
      ]
     },
     "metadata": {},
     "output_type": "display_data"
    }
   ],
   "source": [
    "\n",
    "#pd.set_option('display.mpl_style', 'default') \n",
    "%matplotlib inline\n",
    "\n",
    "\n",
    "\n",
    "importance_series = pd.Series(fs.scores_)\n",
    "\n",
    "x_labels = features\n",
    "\n",
    "# Plot the figure.\n",
    "plt.figure(figsize=(12, 8))\n",
    "fig = importance_series.plot(kind='bar',color='tab:purple')\n",
    "fig.set_title('Feature Selection')\n",
    "fig.set_xlabel('Features')\n",
    "fig.set_ylabel('Importance')\n",
    "fig.set_xticklabels(x_labels)"
   ]
  },
  {
   "cell_type": "code",
   "execution_count": null,
   "metadata": {},
   "outputs": [],
   "source": []
  },
  {
   "cell_type": "code",
   "execution_count": null,
   "metadata": {},
   "outputs": [],
   "source": []
  },
  {
   "cell_type": "code",
   "execution_count": 10,
   "metadata": {},
   "outputs": [],
   "source": [
    "import pandas as pd\n",
    "from sklearn.ensemble import RandomForestClassifier\n",
    "from sklearn.feature_selection import SelectFromModel"
   ]
  },
  {
   "cell_type": "code",
   "execution_count": 11,
   "metadata": {},
   "outputs": [
    {
     "data": {
      "text/html": [
       "<style>#sk-container-id-1 {color: black;background-color: white;}#sk-container-id-1 pre{padding: 0;}#sk-container-id-1 div.sk-toggleable {background-color: white;}#sk-container-id-1 label.sk-toggleable__label {cursor: pointer;display: block;width: 100%;margin-bottom: 0;padding: 0.3em;box-sizing: border-box;text-align: center;}#sk-container-id-1 label.sk-toggleable__label-arrow:before {content: \"▸\";float: left;margin-right: 0.25em;color: #696969;}#sk-container-id-1 label.sk-toggleable__label-arrow:hover:before {color: black;}#sk-container-id-1 div.sk-estimator:hover label.sk-toggleable__label-arrow:before {color: black;}#sk-container-id-1 div.sk-toggleable__content {max-height: 0;max-width: 0;overflow: hidden;text-align: left;background-color: #f0f8ff;}#sk-container-id-1 div.sk-toggleable__content pre {margin: 0.2em;color: black;border-radius: 0.25em;background-color: #f0f8ff;}#sk-container-id-1 input.sk-toggleable__control:checked~div.sk-toggleable__content {max-height: 200px;max-width: 100%;overflow: auto;}#sk-container-id-1 input.sk-toggleable__control:checked~label.sk-toggleable__label-arrow:before {content: \"▾\";}#sk-container-id-1 div.sk-estimator input.sk-toggleable__control:checked~label.sk-toggleable__label {background-color: #d4ebff;}#sk-container-id-1 div.sk-label input.sk-toggleable__control:checked~label.sk-toggleable__label {background-color: #d4ebff;}#sk-container-id-1 input.sk-hidden--visually {border: 0;clip: rect(1px 1px 1px 1px);clip: rect(1px, 1px, 1px, 1px);height: 1px;margin: -1px;overflow: hidden;padding: 0;position: absolute;width: 1px;}#sk-container-id-1 div.sk-estimator {font-family: monospace;background-color: #f0f8ff;border: 1px dotted black;border-radius: 0.25em;box-sizing: border-box;margin-bottom: 0.5em;}#sk-container-id-1 div.sk-estimator:hover {background-color: #d4ebff;}#sk-container-id-1 div.sk-parallel-item::after {content: \"\";width: 100%;border-bottom: 1px solid gray;flex-grow: 1;}#sk-container-id-1 div.sk-label:hover label.sk-toggleable__label {background-color: #d4ebff;}#sk-container-id-1 div.sk-serial::before {content: \"\";position: absolute;border-left: 1px solid gray;box-sizing: border-box;top: 0;bottom: 0;left: 50%;z-index: 0;}#sk-container-id-1 div.sk-serial {display: flex;flex-direction: column;align-items: center;background-color: white;padding-right: 0.2em;padding-left: 0.2em;position: relative;}#sk-container-id-1 div.sk-item {position: relative;z-index: 1;}#sk-container-id-1 div.sk-parallel {display: flex;align-items: stretch;justify-content: center;background-color: white;position: relative;}#sk-container-id-1 div.sk-item::before, #sk-container-id-1 div.sk-parallel-item::before {content: \"\";position: absolute;border-left: 1px solid gray;box-sizing: border-box;top: 0;bottom: 0;left: 50%;z-index: -1;}#sk-container-id-1 div.sk-parallel-item {display: flex;flex-direction: column;z-index: 1;position: relative;background-color: white;}#sk-container-id-1 div.sk-parallel-item:first-child::after {align-self: flex-end;width: 50%;}#sk-container-id-1 div.sk-parallel-item:last-child::after {align-self: flex-start;width: 50%;}#sk-container-id-1 div.sk-parallel-item:only-child::after {width: 0;}#sk-container-id-1 div.sk-dashed-wrapped {border: 1px dashed gray;margin: 0 0.4em 0.5em 0.4em;box-sizing: border-box;padding-bottom: 0.4em;background-color: white;}#sk-container-id-1 div.sk-label label {font-family: monospace;font-weight: bold;display: inline-block;line-height: 1.2em;}#sk-container-id-1 div.sk-label-container {text-align: center;}#sk-container-id-1 div.sk-container {/* jupyter's `normalize.less` sets `[hidden] { display: none; }` but bootstrap.min.css set `[hidden] { display: none !important; }` so we also need the `!important` here to be able to override the default hidden behavior on the sphinx rendered scikit-learn.org. See: https://github.com/scikit-learn/scikit-learn/issues/21755 */display: inline-block !important;position: relative;}#sk-container-id-1 div.sk-text-repr-fallback {display: none;}</style><div id=\"sk-container-id-1\" class=\"sk-top-container\"><div class=\"sk-text-repr-fallback\"><pre>SelectFromModel(estimator=RandomForestClassifier(n_estimators=300))</pre><b>In a Jupyter environment, please rerun this cell to show the HTML representation or trust the notebook. <br />On GitHub, the HTML representation is unable to render, please try loading this page with nbviewer.org.</b></div><div class=\"sk-container\" hidden><div class=\"sk-item sk-dashed-wrapped\"><div class=\"sk-label-container\"><div class=\"sk-label sk-toggleable\"><input class=\"sk-toggleable__control sk-hidden--visually\" id=\"sk-estimator-id-1\" type=\"checkbox\" ><label for=\"sk-estimator-id-1\" class=\"sk-toggleable__label sk-toggleable__label-arrow\">SelectFromModel</label><div class=\"sk-toggleable__content\"><pre>SelectFromModel(estimator=RandomForestClassifier(n_estimators=300))</pre></div></div></div><div class=\"sk-parallel\"><div class=\"sk-parallel-item\"><div class=\"sk-item\"><div class=\"sk-label-container\"><div class=\"sk-label sk-toggleable\"><input class=\"sk-toggleable__control sk-hidden--visually\" id=\"sk-estimator-id-2\" type=\"checkbox\" ><label for=\"sk-estimator-id-2\" class=\"sk-toggleable__label sk-toggleable__label-arrow\">estimator: RandomForestClassifier</label><div class=\"sk-toggleable__content\"><pre>RandomForestClassifier(n_estimators=300)</pre></div></div></div><div class=\"sk-serial\"><div class=\"sk-item\"><div class=\"sk-estimator sk-toggleable\"><input class=\"sk-toggleable__control sk-hidden--visually\" id=\"sk-estimator-id-3\" type=\"checkbox\" ><label for=\"sk-estimator-id-3\" class=\"sk-toggleable__label sk-toggleable__label-arrow\">RandomForestClassifier</label><div class=\"sk-toggleable__content\"><pre>RandomForestClassifier(n_estimators=300)</pre></div></div></div></div></div></div></div></div></div></div>"
      ],
      "text/plain": [
       "SelectFromModel(estimator=RandomForestClassifier(n_estimators=300))"
      ]
     },
     "execution_count": 11,
     "metadata": {},
     "output_type": "execute_result"
    }
   ],
   "source": [
    "sel = SelectFromModel(RandomForestClassifier(n_estimators=300))\n",
    "sel.fit(Features1D_Scaled, label_1D)"
   ]
  },
  {
   "cell_type": "code",
   "execution_count": 12,
   "metadata": {},
   "outputs": [
    {
     "data": {
      "text/plain": [
       "array([False, False, False, False, False,  True,  True,  True,  True,\n",
       "        True,  True, False, False,  True,  True, False,  True, False,\n",
       "        True, False,  True, False, False, False,  True, False,  True,\n",
       "       False,  True, False,  True, False, False, False, False,  True,\n",
       "       False,  True, False, False, False, False, False,  True, False,\n",
       "       False, False, False, False, False, False, False, False, False,\n",
       "       False, False, False,  True, False, False, False, False, False,\n",
       "       False, False, False, False, False, False, False, False, False,\n",
       "       False, False,  True, False, False, False, False, False,  True,\n",
       "       False,  True, False,  True,  True,  True,  True])"
      ]
     },
     "execution_count": 12,
     "metadata": {},
     "output_type": "execute_result"
    }
   ],
   "source": [
    "sel.get_support()"
   ]
  },
  {
   "cell_type": "code",
   "execution_count": 13,
   "metadata": {},
   "outputs": [
    {
     "name": "stdout",
     "output_type": "stream",
     "text": [
      "26\n",
      "Int64Index([ 5,  6,  7,  8,  9, 10, 13, 14, 16, 18, 20, 24, 26, 28, 30, 35, 37,\n",
      "            43, 57, 74, 80, 82, 84, 85, 86, 87],\n",
      "           dtype='int64')\n"
     ]
    }
   ],
   "source": [
    "selected_feat = pd.DataFrame(Features1D_Scaled).columns[(sel.get_support())]\n",
    "print(len(selected_feat))\n",
    "print(selected_feat)\n"
   ]
  },
  {
   "cell_type": "code",
   "execution_count": 14,
   "metadata": {},
   "outputs": [
    {
     "data": {
      "text/plain": [
       "<AxesSubplot:>"
      ]
     },
     "execution_count": 14,
     "metadata": {},
     "output_type": "execute_result"
    },
    {
     "data": {
      "image/png": "[encoded data removed]",
      "text/plain": [
       "<Figure size 640x480 with 1 Axes>"
      ]
     },
     "metadata": {},
     "output_type": "display_data"
    }
   ],
   "source": [
    "pd.Series(sel.estimator_.feature_importances_.ravel(),\n",
    "          index=pd.DataFrame(Features1D_Scaled).columns).hist()\n"
   ]
  },
  {
   "cell_type": "code",
   "execution_count": 15,
   "metadata": {},
   "outputs": [
    {
     "data": {
      "text/plain": [
       "<AxesSubplot:>"
      ]
     },
     "execution_count": 15,
     "metadata": {},
     "output_type": "execute_result"
    },
    {
     "data": {
      "image/png": "[encoded data removed]",
      "text/plain": [
       "<Figure size 640x480 with 1 Axes>"
      ]
     },
     "metadata": {},
     "output_type": "display_data"
    }
   ],
   "source": [
    "pd.Series(fs.scores_.ravel(),\n",
    "          index=pd.DataFrame(Features1D_Scaled).columns).hist()\n"
   ]
  },
  {
   "cell_type": "code",
   "execution_count": null,
   "metadata": {},
   "outputs": [],
   "source": []
  }
 ],
 "metadata": {
  "kernelspec": {
   "display_name": "Python 3 (ipykernel)",
   "language": "python",
   "name": "python3"
  },
  "language_info": {
   "codemirror_mode": {
    "name": "ipython",
    "version": 3
   },
   "file_extension": ".py",
   "mimetype": "text/x-python",
   "name": "python",
   "nbconvert_exporter": "python",
   "pygments_lexer": "ipython3",
   "version": "3.9.12"
  },
  "vscode": {
   "interpreter": {
    "hash": "c347c8f9a7ef94e4c9e03b4513be7835ed18f45b99a2a817fb579f408b867b16"
   }
  }
 },
 "nbformat": 4,
 "nbformat_minor": 2
}
