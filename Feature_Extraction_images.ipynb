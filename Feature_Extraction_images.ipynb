{
 "cells": [
  {
   "cell_type": "code",
   "execution_count": 1,
   "id": "a36e3cce",
   "metadata": {},
   "outputs": [],
   "source": [
    "import librosa\n",
    "import librosa.display\n",
    "import numpy as np\n",
    "import os"
   ]
  },
  {
   "cell_type": "code",
   "execution_count": 2,
   "id": "a3aeded1",
   "metadata": {},
   "outputs": [],
   "source": [
    "# get the file names in the folders\n",
    "prog_rock_directory = \"/Users/sainikhil/Downloads/Machine Learning/Project 2/cap6610fa22_training_set/Progressive_Rock_Songs\"\n",
    "prog_rock_filenames = os.listdir(prog_rock_directory)\n",
    "\n",
    "other_songs_directory = \"/Users/sainikhil/Downloads/Machine Learning/Project 2/cap6610fa22_training_set/Not_Progressive_Rock/Other_Songs\"\n",
    "other_songs_filenames = os.listdir(other_songs_directory)\n",
    "\n",
    "top_of_the_pops_directory = \"/Users/sainikhil/Downloads/Machine Learning/Project 2/cap6610fa22_training_set/Not_Progressive_Rock/Top_Of_The_Pops\"\n",
    "top_of_the_pops_filenames = os.listdir(top_of_the_pops_directory)\n",
    "\n",
    "song_dict = {\n",
    "    \"prog_rock\" : prog_rock_filenames,\n",
    "    \"other_songs\" : other_songs_filenames,\n",
    "    \"top_of_the_pops\" : top_of_the_pops_filenames\n",
    "}\n",
    "\n",
    "path_dict = {\n",
    "    \"prog_rock\" : prog_rock_directory,\n",
    "    \"other_songs\" : other_songs_directory,\n",
    "    \"top_of_the_pops\" : top_of_the_pops_directory\n",
    "}\n",
    "\n",
    "folders = [\"prog_rock\", \"other_songs\", \"top_of_the_pops\"]\n",
    "\n",
    "# Params\n",
    "segment_length = 5 # Snippets in each track considered\n",
    "# rp% of the spectral energy lies below the value of spectral rolloff\n",
    "roll_percent = 0.85\n",
    "sr = 44100 # Sampling rate - 22 kHz"
   ]
  },
  {
   "cell_type": "markdown",
   "id": "618ffd2f",
   "metadata": {},
   "source": [
    "## Get Image snippets \n",
    "\n",
    "Features:\n",
    "- spectrogram\n",
    "- chromagram\n",
    "- spectral contrast\n",
    "- mfcc\n",
    "- tempogram (Fourier and autocorrelation)"
   ]
  },
  {
   "cell_type": "markdown",
   "id": "ef108a7b",
   "metadata": {},
   "source": [
    "### NOTE: \n",
    "- converted .m4a file: 2020_BTS_Dynamite.m4a to mp3\n",
    "- remove corrupt tracks form other songs folder: \n",
    "    - 01.ArmenMiran-PreciousStory\n",
    "    - 11-zao-a_last_time_for_everything"
   ]
  },
  {
   "cell_type": "code",
   "execution_count": 3,
   "id": "4bd45680",
   "metadata": {},
   "outputs": [
    {
     "name": "stdout",
     "output_type": "stream",
     "text": [
      "folder: prog_rock ; filename: 01. The Same River.mp3\n",
      "folder: prog_rock ; filename: 07 - Fool's Overture.mp3\n",
      "folder: prog_rock ; filename: Kraftwerk - 01 - Autobahn.mp3\n",
      "folder: prog_rock ; filename: 08 - Octavarium.mp3\n",
      "folder: prog_rock ; filename: Kansas_08_Magnum_Opus.mp3\n"
     ]
    },
    {
     "name": "stderr",
     "output_type": "stream",
     "text": [
      "Note: Illegal Audio-MPEG-Header 0x4c595249 at offset 20630146.\n",
      "Note: Trying to resync...\n",
      "Note: Hit end of (available) data during resync.\n"
     ]
    },
    {
     "name": "stdout",
     "output_type": "stream",
     "text": [
      "folder: prog_rock ; filename: 05_Schism.mp3\n",
      "folder: prog_rock ; filename: 105-emerson_lake_and_palmer-karn_evil_9_1st_impression_(part_1).mp3\n",
      "folder: prog_rock ; filename: 01-genesis-dancing_with_the_moonlit_knight.mp3\n",
      "folder: prog_rock ; filename: 05-Nine Feet Underground.mp3\n",
      "folder: prog_rock ; filename: 05 - Starless.mp3\n",
      "folder: prog_rock ; filename: 06-In a glass house.mp3\n",
      "folder: prog_rock ; filename: 205 The Court Of The Crimson King.mp3\n",
      "folder: prog_rock ; filename: 08 - White Walls.mp3\n",
      "folder: prog_rock ; filename: 01_2112_I_Overture_II_Temples_of_Syrinx_III_Discovery_IV_Presentation_V_Oracle_VI_Soliloquy_VII_Grand_Finale.mp3\n",
      "folder: prog_rock ; filename: 01. Folklore.mp3\n",
      "folder: prog_rock ; filename: Thick As A Brick.mp3\n",
      "folder: prog_rock ; filename: -04- Knots.mp3\n",
      "folder: prog_rock ; filename: 01_Genesis_The Musical Box.mp3\n",
      "folder: prog_rock ; filename: 06 - Scene Four  Beyond This Life.mp3\n",
      "folder: prog_rock ; filename: 06 - Ultimo Entardecer.mp3\n"
     ]
    },
    {
     "name": "stderr",
     "output_type": "stream",
     "text": [
      "[src/libmpg123/id3.c:process_comment():584] error: No comment text / valid description?\n",
      "[src/libmpg123/id3.c:process_comment():584] error: No comment text / valid description?\n",
      "[src/libmpg123/id3.c:process_comment():584] error: No comment text / valid description?\n",
      "[src/libmpg123/id3.c:process_comment():584] error: No comment text / valid description?\n",
      "[src/libmpg123/id3.c:process_comment():584] error: No comment text / valid description?\n",
      "[src/libmpg123/id3.c:process_comment():584] error: No comment text / valid description?\n",
      "[src/libmpg123/id3.c:process_comment():584] error: No comment text / valid description?\n",
      "[src/libmpg123/id3.c:process_comment():584] error: No comment text / valid description?\n",
      "[src/libmpg123/id3.c:process_comment():584] error: No comment text / valid description?\n",
      "[src/libmpg123/id3.c:process_comment():584] error: No comment text / valid description?\n",
      "[src/libmpg123/id3.c:process_comment():584] error: No comment text / valid description?\n",
      "[src/libmpg123/id3.c:process_comment():584] error: No comment text / valid description?\n",
      "[src/libmpg123/id3.c:process_comment():584] error: No comment text / valid description?\n",
      "[src/libmpg123/id3.c:process_comment():584] error: No comment text / valid description?\n",
      "[src/libmpg123/id3.c:process_comment():584] error: No comment text / valid description?\n",
      "[src/libmpg123/id3.c:process_comment():584] error: No comment text / valid description?\n",
      "[src/libmpg123/id3.c:process_comment():584] error: No comment text / valid description?\n",
      "[src/libmpg123/id3.c:process_comment():584] error: No comment text / valid description?\n",
      "[src/libmpg123/id3.c:process_comment():584] error: No comment text / valid description?\n",
      "[src/libmpg123/id3.c:process_comment():584] error: No comment text / valid description?\n",
      "[src/libmpg123/id3.c:process_comment():584] error: No comment text / valid description?\n",
      "[src/libmpg123/id3.c:process_comment():584] error: No comment text / valid description?\n",
      "[src/libmpg123/id3.c:process_comment():584] error: No comment text / valid description?\n",
      "[src/libmpg123/id3.c:process_comment():584] error: No comment text / valid description?\n",
      "[src/libmpg123/id3.c:process_comment():584] error: No comment text / valid description?\n",
      "[src/libmpg123/id3.c:process_comment():584] error: No comment text / valid description?\n",
      "[src/libmpg123/id3.c:process_comment():584] error: No comment text / valid description?\n",
      "[src/libmpg123/id3.c:process_comment():584] error: No comment text / valid description?\n",
      "[src/libmpg123/id3.c:process_comment():584] error: No comment text / valid description?\n",
      "[src/libmpg123/id3.c:process_comment():584] error: No comment text / valid description?\n",
      "[src/libmpg123/id3.c:process_comment():584] error: No comment text / valid description?\n",
      "[src/libmpg123/id3.c:process_comment():584] error: No comment text / valid description?\n",
      "[src/libmpg123/id3.c:process_comment():584] error: No comment text / valid description?\n",
      "[src/libmpg123/id3.c:process_comment():584] error: No comment text / valid description?\n",
      "[src/libmpg123/id3.c:process_comment():584] error: No comment text / valid description?\n",
      "[src/libmpg123/id3.c:process_comment():584] error: No comment text / valid description?\n",
      "[src/libmpg123/id3.c:process_comment():584] error: No comment text / valid description?\n",
      "[src/libmpg123/id3.c:process_comment():584] error: No comment text / valid description?\n",
      "[src/libmpg123/id3.c:process_comment():584] error: No comment text / valid description?\n",
      "[src/libmpg123/id3.c:process_comment():584] error: No comment text / valid description?\n",
      "[src/libmpg123/id3.c:process_comment():584] error: No comment text / valid description?\n",
      "[src/libmpg123/id3.c:process_comment():584] error: No comment text / valid description?\n",
      "[src/libmpg123/id3.c:process_comment():584] error: No comment text / valid description?\n",
      "[src/libmpg123/id3.c:process_comment():584] error: No comment text / valid description?\n",
      "[src/libmpg123/id3.c:process_comment():584] error: No comment text / valid description?\n",
      "[src/libmpg123/id3.c:process_comment():584] error: No comment text / valid description?\n",
      "[src/libmpg123/id3.c:process_comment():584] error: No comment text / valid description?\n",
      "[src/libmpg123/id3.c:process_comment():584] error: No comment text / valid description?\n",
      "[src/libmpg123/id3.c:process_comment():584] error: No comment text / valid description?\n",
      "[src/libmpg123/id3.c:process_comment():584] error: No comment text / valid description?\n",
      "[src/libmpg123/id3.c:process_comment():584] error: No comment text / valid description?\n",
      "[src/libmpg123/id3.c:process_comment():584] error: No comment text / valid description?\n",
      "[src/libmpg123/id3.c:process_comment():584] error: No comment text / valid description?\n",
      "[src/libmpg123/id3.c:process_comment():584] error: No comment text / valid description?\n",
      "[src/libmpg123/id3.c:process_comment():584] error: No comment text / valid description?\n",
      "[src/libmpg123/id3.c:process_comment():584] error: No comment text / valid description?\n",
      "[src/libmpg123/id3.c:process_comment():584] error: No comment text / valid description?\n",
      "[src/libmpg123/id3.c:process_comment():584] error: No comment text / valid description?\n",
      "[src/libmpg123/id3.c:process_comment():584] error: No comment text / valid description?\n",
      "[src/libmpg123/id3.c:process_comment():584] error: No comment text / valid description?\n",
      "[src/libmpg123/id3.c:process_comment():584] error: No comment text / valid description?\n",
      "[src/libmpg123/id3.c:process_comment():584] error: No comment text / valid description?\n",
      "[src/libmpg123/id3.c:process_comment():584] error: No comment text / valid description?\n",
      "[src/libmpg123/id3.c:process_comment():584] error: No comment text / valid description?\n",
      "[src/libmpg123/id3.c:process_comment():584] error: No comment text / valid description?\n",
      "[src/libmpg123/id3.c:process_comment():584] error: No comment text / valid description?\n",
      "[src/libmpg123/id3.c:process_comment():584] error: No comment text / valid description?\n",
      "[src/libmpg123/id3.c:process_comment():584] error: No comment text / valid description?\n",
      "[src/libmpg123/id3.c:process_comment():584] error: No comment text / valid description?\n",
      "[src/libmpg123/id3.c:process_comment():584] error: No comment text / valid description?\n",
      "[src/libmpg123/id3.c:process_comment():584] error: No comment text / valid description?\n",
      "[src/libmpg123/id3.c:process_comment():584] error: No comment text / valid description?\n",
      "[src/libmpg123/id3.c:process_comment():584] error: No comment text / valid description?\n",
      "[src/libmpg123/id3.c:process_comment():584] error: No comment text / valid description?\n",
      "[src/libmpg123/id3.c:process_comment():584] error: No comment text / valid description?\n",
      "[src/libmpg123/id3.c:process_comment():584] error: No comment text / valid description?\n",
      "[src/libmpg123/id3.c:process_comment():584] error: No comment text / valid description?\n",
      "[src/libmpg123/id3.c:process_comment():584] error: No comment text / valid description?\n",
      "[src/libmpg123/id3.c:process_comment():584] error: No comment text / valid description?\n",
      "[src/libmpg123/id3.c:process_comment():584] error: No comment text / valid description?\n",
      "[src/libmpg123/id3.c:process_comment():584] error: No comment text / valid description?\n",
      "[src/libmpg123/id3.c:process_comment():584] error: No comment text / valid description?\n",
      "[src/libmpg123/id3.c:process_comment():584] error: No comment text / valid description?\n",
      "[src/libmpg123/id3.c:process_comment():584] error: No comment text / valid description?\n",
      "[src/libmpg123/id3.c:process_comment():584] error: No comment text / valid description?\n",
      "[src/libmpg123/id3.c:process_comment():584] error: No comment text / valid description?\n",
      "[src/libmpg123/id3.c:process_comment():584] error: No comment text / valid description?\n",
      "[src/libmpg123/id3.c:process_comment():584] error: No comment text / valid description?\n",
      "[src/libmpg123/id3.c:process_comment():584] error: No comment text / valid description?\n",
      "[src/libmpg123/id3.c:process_comment():584] error: No comment text / valid description?\n",
      "[src/libmpg123/id3.c:process_comment():584] error: No comment text / valid description?\n",
      "[src/libmpg123/id3.c:process_comment():584] error: No comment text / valid description?\n",
      "[src/libmpg123/id3.c:process_comment():584] error: No comment text / valid description?\n",
      "[src/libmpg123/id3.c:process_comment():584] error: No comment text / valid description?\n",
      "[src/libmpg123/id3.c:process_comment():584] error: No comment text / valid description?\n"
     ]
    },
    {
     "name": "stderr",
     "output_type": "stream",
     "text": [
      "[src/libmpg123/id3.c:process_comment():584] error: No comment text / valid description?\n",
      "[src/libmpg123/id3.c:process_comment():584] error: No comment text / valid description?\n",
      "[src/libmpg123/id3.c:process_comment():584] error: No comment text / valid description?\n",
      "[src/libmpg123/id3.c:process_comment():584] error: No comment text / valid description?\n",
      "[src/libmpg123/id3.c:process_comment():584] error: No comment text / valid description?\n",
      "[src/libmpg123/id3.c:process_comment():584] error: No comment text / valid description?\n",
      "[src/libmpg123/id3.c:process_comment():584] error: No comment text / valid description?\n",
      "[src/libmpg123/id3.c:process_comment():584] error: No comment text / valid description?\n",
      "[src/libmpg123/id3.c:process_comment():584] error: No comment text / valid description?\n",
      "[src/libmpg123/id3.c:process_comment():584] error: No comment text / valid description?\n",
      "[src/libmpg123/id3.c:process_comment():584] error: No comment text / valid description?\n"
     ]
    },
    {
     "name": "stdout",
     "output_type": "stream",
     "text": [
      "folder: prog_rock ; filename: 01 - Songs From The Wood (2003 Digital Remaster).mp3\n",
      "folder: prog_rock ; filename: 01_Yours Is No Disgrace.mp3\n",
      "folder: prog_rock ; filename: 01_Shine On You Crazy Diamond I.mp3\n",
      "folder: prog_rock ; filename: 08. Guardian.mp3\n",
      "folder: prog_rock ; filename: 09 Heart Of The Sunrise.mp3\n",
      "folder: prog_rock ; filename: 05_The_Afternoon_a_Afternoon_b_Evening.mp3\n",
      "folder: prog_rock ; filename: 06. Milliontown.mp3\n",
      "folder: prog_rock ; filename: 01. Hazard Profile Part One.mp3\n",
      "folder: prog_rock ; filename: 03Uriah Heep - July Morning.mp3\n",
      "folder: prog_rock ; filename: 06 Mekanik Kommandoh.mp3\n",
      "folder: prog_rock ; filename: 01 Meeting of the Spirits.mp3\n",
      "folder: prog_rock ; filename: 06 - Echoes.mp3\n"
     ]
    },
    {
     "name": "stderr",
     "output_type": "stream",
     "text": [
      "[src/libmpg123/id3.c:process_comment():584] error: No comment text / valid description?\n"
     ]
    },
    {
     "name": "stdout",
     "output_type": "stream",
     "text": [
      "folder: prog_rock ; filename: 02_Dogs.mp3\n",
      "folder: prog_rock ; filename: The Flower Kings - 1997 Stardust We Are CD2 - 11 - Stardust We Are.mp3\n",
      "folder: prog_rock ; filename: 03_YYZ_Rush_Moving_Pictures_Deluxe_Edition_2011.mp3\n",
      "folder: prog_rock ; filename: 08-This Strange Engine.mp3\n"
     ]
    },
    {
     "name": "stderr",
     "output_type": "stream",
     "text": [
      "/Users/sainikhil/opt/anaconda3/lib/python3.9/site-packages/librosa/util/decorators.py:88: UserWarning: Trying to estimate tuning from empty frequency set.\n",
      "  return f(*args, **kwargs)\n"
     ]
    },
    {
     "name": "stdout",
     "output_type": "stream",
     "text": [
      "folder: prog_rock ; filename: 01.A passion play 1.mp3\n",
      "folder: prog_rock ; filename: 03_Time.mp3\n",
      "folder: prog_rock ; filename: 13 Aenema.mp3\n",
      "folder: prog_rock ; filename: 01_A_Change_of_Seasons_I_Sunrise_II_Innocence_III_Carpe_Diem_IV_Winters_V_Another_World_VI_Summer_VII_Sunset.flac\n",
      "folder: prog_rock ; filename: 06-king_crimson-larks_tounges_in_aspic_(part_ii).mp3\n",
      "folder: prog_rock ; filename: 01 - Birds of Fire.mp3\n",
      "folder: prog_rock ; filename: 05 - Vivaldi.mp3\n"
     ]
    },
    {
     "name": "stderr",
     "output_type": "stream",
     "text": [
      "[src/libmpg123/id3.c:process_comment():584] error: No comment text / valid description?\n",
      "[src/libmpg123/id3.c:process_comment():584] error: No comment text / valid description?\n",
      "[src/libmpg123/id3.c:process_comment():584] error: No comment text / valid description?\n",
      "[src/libmpg123/id3.c:process_comment():584] error: No comment text / valid description?\n",
      "[src/libmpg123/id3.c:process_comment():584] error: No comment text / valid description?\n",
      "[src/libmpg123/id3.c:process_comment():584] error: No comment text / valid description?\n",
      "[src/libmpg123/id3.c:process_comment():584] error: No comment text / valid description?\n",
      "[src/libmpg123/id3.c:process_comment():584] error: No comment text / valid description?\n",
      "[src/libmpg123/id3.c:process_comment():584] error: No comment text / valid description?\n",
      "[src/libmpg123/id3.c:process_comment():584] error: No comment text / valid description?\n",
      "[src/libmpg123/id3.c:process_comment():584] error: No comment text / valid description?\n",
      "[src/libmpg123/id3.c:process_comment():584] error: No comment text / valid description?\n",
      "[src/libmpg123/id3.c:process_comment():584] error: No comment text / valid description?\n",
      "[src/libmpg123/id3.c:process_comment():584] error: No comment text / valid description?\n",
      "[src/libmpg123/id3.c:process_comment():584] error: No comment text / valid description?\n",
      "[src/libmpg123/id3.c:process_comment():584] error: No comment text / valid description?\n",
      "[src/libmpg123/id3.c:process_comment():584] error: No comment text / valid description?\n",
      "[src/libmpg123/id3.c:process_comment():584] error: No comment text / valid description?\n",
      "[src/libmpg123/id3.c:process_comment():584] error: No comment text / valid description?\n",
      "[src/libmpg123/id3.c:process_comment():584] error: No comment text / valid description?\n",
      "[src/libmpg123/id3.c:process_comment():584] error: No comment text / valid description?\n",
      "[src/libmpg123/id3.c:process_comment():584] error: No comment text / valid description?\n",
      "[src/libmpg123/id3.c:process_comment():584] error: No comment text / valid description?\n",
      "[src/libmpg123/id3.c:process_comment():584] error: No comment text / valid description?\n",
      "[src/libmpg123/id3.c:process_comment():584] error: No comment text / valid description?\n",
      "[src/libmpg123/id3.c:process_comment():584] error: No comment text / valid description?\n",
      "[src/libmpg123/id3.c:process_comment():584] error: No comment text / valid description?\n",
      "[src/libmpg123/id3.c:process_comment():584] error: No comment text / valid description?\n",
      "[src/libmpg123/id3.c:process_comment():584] error: No comment text / valid description?\n",
      "[src/libmpg123/id3.c:process_comment():584] error: No comment text / valid description?\n",
      "[src/libmpg123/id3.c:process_comment():584] error: No comment text / valid description?\n",
      "[src/libmpg123/id3.c:process_comment():584] error: No comment text / valid description?\n",
      "[src/libmpg123/id3.c:process_comment():584] error: No comment text / valid description?\n",
      "[src/libmpg123/id3.c:process_comment():584] error: No comment text / valid description?\n",
      "[src/libmpg123/id3.c:process_comment():584] error: No comment text / valid description?\n",
      "[src/libmpg123/id3.c:process_comment():584] error: No comment text / valid description?\n",
      "[src/libmpg123/id3.c:process_comment():584] error: No comment text / valid description?\n",
      "[src/libmpg123/id3.c:process_comment():584] error: No comment text / valid description?\n",
      "[src/libmpg123/id3.c:process_comment():584] error: No comment text / valid description?\n",
      "[src/libmpg123/id3.c:process_comment():584] error: No comment text / valid description?\n",
      "[src/libmpg123/id3.c:process_comment():584] error: No comment text / valid description?\n",
      "[src/libmpg123/id3.c:process_comment():584] error: No comment text / valid description?\n",
      "[src/libmpg123/id3.c:process_comment():584] error: No comment text / valid description?\n",
      "[src/libmpg123/id3.c:process_comment():584] error: No comment text / valid description?\n",
      "[src/libmpg123/id3.c:process_comment():584] error: No comment text / valid description?\n",
      "[src/libmpg123/id3.c:process_comment():584] error: No comment text / valid description?\n",
      "[src/libmpg123/id3.c:process_comment():584] error: No comment text / valid description?\n",
      "[src/libmpg123/id3.c:process_comment():584] error: No comment text / valid description?\n",
      "[src/libmpg123/id3.c:process_comment():584] error: No comment text / valid description?\n",
      "[src/libmpg123/id3.c:process_comment():584] error: No comment text / valid description?\n",
      "[src/libmpg123/id3.c:process_comment():584] error: No comment text / valid description?\n",
      "[src/libmpg123/id3.c:process_comment():584] error: No comment text / valid description?\n",
      "[src/libmpg123/id3.c:process_comment():584] error: No comment text / valid description?\n",
      "[src/libmpg123/id3.c:process_comment():584] error: No comment text / valid description?\n",
      "[src/libmpg123/id3.c:process_comment():584] error: No comment text / valid description?\n",
      "[src/libmpg123/id3.c:process_comment():584] error: No comment text / valid description?\n",
      "[src/libmpg123/id3.c:process_comment():584] error: No comment text / valid description?\n",
      "[src/libmpg123/id3.c:process_comment():584] error: No comment text / valid description?\n",
      "[src/libmpg123/id3.c:process_comment():584] error: No comment text / valid description?\n",
      "[src/libmpg123/id3.c:process_comment():584] error: No comment text / valid description?\n",
      "[src/libmpg123/id3.c:process_comment():584] error: No comment text / valid description?\n",
      "[src/libmpg123/id3.c:process_comment():584] error: No comment text / valid description?\n",
      "[src/libmpg123/id3.c:process_comment():584] error: No comment text / valid description?\n",
      "[src/libmpg123/id3.c:process_comment():584] error: No comment text / valid description?\n",
      "[src/libmpg123/id3.c:process_comment():584] error: No comment text / valid description?\n",
      "[src/libmpg123/id3.c:process_comment():584] error: No comment text / valid description?\n",
      "[src/libmpg123/id3.c:process_comment():584] error: No comment text / valid description?\n",
      "[src/libmpg123/id3.c:process_comment():584] error: No comment text / valid description?\n",
      "[src/libmpg123/id3.c:process_comment():584] error: No comment text / valid description?\n",
      "[src/libmpg123/id3.c:process_comment():584] error: No comment text / valid description?\n",
      "[src/libmpg123/id3.c:process_comment():584] error: No comment text / valid description?\n",
      "[src/libmpg123/id3.c:process_comment():584] error: No comment text / valid description?\n",
      "[src/libmpg123/id3.c:process_comment():584] error: No comment text / valid description?\n",
      "[src/libmpg123/id3.c:process_comment():584] error: No comment text / valid description?\n",
      "[src/libmpg123/id3.c:process_comment():584] error: No comment text / valid description?\n",
      "[src/libmpg123/id3.c:process_comment():584] error: No comment text / valid description?\n",
      "[src/libmpg123/id3.c:process_comment():584] error: No comment text / valid description?\n",
      "[src/libmpg123/id3.c:process_comment():584] error: No comment text / valid description?\n",
      "[src/libmpg123/id3.c:process_comment():584] error: No comment text / valid description?\n",
      "[src/libmpg123/id3.c:process_comment():584] error: No comment text / valid description?\n",
      "[src/libmpg123/id3.c:process_comment():584] error: No comment text / valid description?\n",
      "[src/libmpg123/id3.c:process_comment():584] error: No comment text / valid description?\n",
      "[src/libmpg123/id3.c:process_comment():584] error: No comment text / valid description?\n"
     ]
    },
    {
     "name": "stdout",
     "output_type": "stream",
     "text": [
      "folder: prog_rock ; filename: 01-hymn_of_the_seventh_galaxy_320_lame_cbr.mp3\n",
      "folder: prog_rock ; filename: 09 - Headlong Flight.mp3\n",
      "folder: prog_rock ; filename: 5  The architect.mp3\n",
      "folder: prog_rock ; filename: 02 Can You Understand.mp3\n",
      "folder: prog_rock ; filename: 02. Bleed (live).mp3\n",
      "folder: prog_rock ; filename: 08_-_opeth_-_blackwater park_-_blackwater park.mp3\n",
      "folder: prog_rock ; filename: 01-Hocus Pocus.mp3\n",
      "folder: prog_rock ; filename: 01 Jordrok.mp3\n",
      "folder: prog_rock ; filename: 13 - A Day in the Life.mp3\n",
      "folder: other_songs ; filename: 04 - Ayasofya.mp3\n",
      "folder: other_songs ; filename: 03_Losfer Words (Big 'Orra).mp3\n",
      "folder: other_songs ; filename: 24-AudioTrek 24.mp3\n",
      "folder: other_songs ; filename: 03 - Angel of Music.mp3\n",
      "folder: other_songs ; filename: 04 - El corrido de Alfonso.mp3\n",
      "folder: other_songs ; filename: 16 - Madhuban Mein Radhika Nache Re (Kohinoor 1960).mp3\n",
      "folder: other_songs ; filename: 04 Dounounia.mp3\n",
      "folder: other_songs ; filename: notprog_other_training_set.ods\n"
     ]
    },
    {
     "name": "stderr",
     "output_type": "stream",
     "text": [
      "/Users/sainikhil/opt/anaconda3/lib/python3.9/site-packages/librosa/util/decorators.py:88: UserWarning: PySoundFile failed. Trying audioread instead.\n",
      "  return f(*args, **kwargs)\n"
     ]
    },
    {
     "name": "stdout",
     "output_type": "stream",
     "text": [
      "not Done\n",
      "folder: other_songs ; filename: 03 - Bayaty.mp3\n",
      "folder: other_songs ; filename: 08 Listen.mp3\n",
      "folder: other_songs ; filename: 03 - The national anthem.mp3\n"
     ]
    },
    {
     "name": "stderr",
     "output_type": "stream",
     "text": [
      "Note: Illegal Audio-MPEG-Header 0x040cfffb at offset 7708883.\n",
      "Note: Trying to resync...\n",
      "Note: Skipped 2 bytes in input.\n",
      "[src/libmpg123/layer3.c:INT123_do_layer3():1801] error: dequantization failed!\n",
      "Note: Illegal Audio-MPEG-Header 0xb0049200 at offset 7710137.\n",
      "Note: Trying to resync...\n",
      "Note: Skipped 285 bytes in input.\n"
     ]
    },
    {
     "name": "stdout",
     "output_type": "stream",
     "text": [
      "folder: other_songs ; filename: Paul Gilbert - Technical Difficulties (Racer X).mp3\n",
      "folder: other_songs ; filename: Lil Nas X - Old Town Road (feat. Billy Ray Cyrus).mp3\n",
      "folder: other_songs ; filename: 06 - Sigur Rós - Sæglópur.mp3\n",
      "folder: other_songs ; filename: 04 - Big Shot.mp3\n",
      "folder: other_songs ; filename: 13 - So Long, Farewell.mp3\n",
      "folder: other_songs ; filename: 03 Midnight At The Bazaar.mp3\n",
      "folder: other_songs ; filename: 04-The Rip.mp3\n",
      "folder: other_songs ; filename: 05-bangles-hazy_shade_of_winter.mp3\n",
      "folder: other_songs ; filename: 04 - Piano Concerto No. 2 - 1. Allegro.mp3\n",
      "folder: other_songs ; filename: the-chainsmokers-&-coldplay---something-just-like-this.mp3\n",
      "folder: other_songs ; filename: C-Pop_Hits_1.mp3\n",
      "folder: other_songs ; filename: 03 Horns Surrounding Me.mp3\n",
      "folder: other_songs ; filename: 08-love_to_love_320_lame_cbr.mp3\n",
      "folder: other_songs ; filename: Symphony_40_G_Minor.mp3\n"
     ]
    },
    {
     "name": "stderr",
     "output_type": "stream",
     "text": [
      "[src/libmpg123/layer3.c:INT123_do_layer3():1801] error: dequantization failed!\n",
      "[src/libmpg123/layer3.c:INT123_do_layer3():1801] error: dequantization failed!\n"
     ]
    },
    {
     "name": "stdout",
     "output_type": "stream",
     "text": [
      "folder: other_songs ; filename: 04 - Out Of The Blue.mp3\n",
      "folder: other_songs ; filename: Salif Keita - Cono.mp3\n",
      "folder: other_songs ; filename: 09 - Zum.mp3\n",
      "folder: other_songs ; filename: 02 End Game (feat. Ed Sheeran & Future).mp3\n",
      "folder: other_songs ; filename: rasme-asheghi.mp3\n",
      "not Done\n",
      "folder: other_songs ; filename: 08 I Could Have Danced All Night.mp3\n",
      "folder: other_songs ; filename: 02 - Petrichrist.mp3\n",
      "folder: other_songs ; filename: 01 - Mustt Mustt (Lost in His Work).mp3\n",
      "folder: other_songs ; filename: 04 - Devil's Advocate _ Bambodansarna.mp3\n",
      "folder: other_songs ; filename: 02 Aja.mp3\n",
      "folder: other_songs ; filename: 09. Tel Aviv.mp3\n",
      "folder: other_songs ; filename: 03-oneohtrix_point_never-betrayed_in_the_octagon-kouala.mp3\n",
      "folder: other_songs ; filename: 06 - Give It Up.mp3\n",
      "folder: other_songs ; filename: 01 - Tiempo Al Tiempo.mp3\n",
      "folder: other_songs ; filename: 07_Summoning Of The Muse.mp3\n",
      "folder: other_songs ; filename: 04-Invisible Limits.mp3\n",
      "folder: other_songs ; filename: Russ Conway - Pepe.mp3\n",
      "folder: other_songs ; filename: 16 - Navras.mp3\n",
      "folder: other_songs ; filename: 01 - Big Chief.mp3\n",
      "folder: other_songs ; filename: 04-deacon_blues_320_lame_cbr.mp3\n",
      "folder: other_songs ; filename: 08 - Tsinandali Choir - Orovela.mp3\n",
      "folder: other_songs ; filename: 05-Tjolky [Тьолки].mp3\n",
      "folder: top_of_the_pops ; filename: 1954_Rosemary_Clooney_Hey_There.mp3\n",
      "folder: top_of_the_pops ; filename: 2004_Usher_Yeah.mp3\n",
      "folder: top_of_the_pops ; filename: 2013_Bruno_Mars_Locked_Out_Of_Heaven.mp3\n"
     ]
    },
    {
     "name": "stderr",
     "output_type": "stream",
     "text": [
      "[src/libmpg123/id3.c:process_comment():584] error: No comment text / valid description?\n"
     ]
    },
    {
     "name": "stdout",
     "output_type": "stream",
     "text": [
      "folder: top_of_the_pops ; filename: 1958_The_Champs_Tequila.mp3\n"
     ]
    },
    {
     "name": "stderr",
     "output_type": "stream",
     "text": [
      "[src/libmpg123/id3.c:process_comment():584] error: No comment text / valid description?\n",
      "[src/libmpg123/id3.c:process_comment():584] error: No comment text / valid description?\n",
      "[src/libmpg123/id3.c:process_comment():584] error: No comment text / valid description?\n",
      "[src/libmpg123/id3.c:process_comment():584] error: No comment text / valid description?\n",
      "[src/libmpg123/id3.c:process_comment():584] error: No comment text / valid description?\n",
      "[src/libmpg123/id3.c:process_comment():584] error: No comment text / valid description?\n",
      "[src/libmpg123/id3.c:process_comment():584] error: No comment text / valid description?\n",
      "[src/libmpg123/id3.c:process_comment():584] error: No comment text / valid description?\n",
      "[src/libmpg123/id3.c:process_comment():584] error: No comment text / valid description?\n",
      "[src/libmpg123/id3.c:process_comment():584] error: No comment text / valid description?\n",
      "[src/libmpg123/id3.c:process_comment():584] error: No comment text / valid description?\n",
      "[src/libmpg123/id3.c:process_comment():584] error: No comment text / valid description?\n",
      "[src/libmpg123/id3.c:process_comment():584] error: No comment text / valid description?\n",
      "[src/libmpg123/id3.c:process_comment():584] error: No comment text / valid description?\n",
      "[src/libmpg123/id3.c:process_comment():584] error: No comment text / valid description?\n",
      "[src/libmpg123/id3.c:process_comment():584] error: No comment text / valid description?\n",
      "[src/libmpg123/id3.c:process_comment():584] error: No comment text / valid description?\n",
      "[src/libmpg123/id3.c:process_comment():584] error: No comment text / valid description?\n",
      "[src/libmpg123/id3.c:process_comment():584] error: No comment text / valid description?\n",
      "[src/libmpg123/id3.c:process_comment():584] error: No comment text / valid description?\n"
     ]
    },
    {
     "name": "stdout",
     "output_type": "stream",
     "text": [
      "folder: top_of_the_pops ; filename: 2005_Kelly_Clarkson_Since_U_Been_Gone.mp3\n",
      "folder: top_of_the_pops ; filename: 1972_Don_McLean_American_Pie.mp3\n",
      "folder: top_of_the_pops ; filename: 2009_Beyonce_Single_Ladies_Put_A_Ring_On_It.mp3\n",
      "folder: top_of_the_pops ; filename: 1988_INXS_Need_You_Tonight.mp3\n",
      "folder: top_of_the_pops ; filename: 1971_Rod_Stewart_Maggie_May.mp3\n",
      "folder: top_of_the_pops ; filename: 2001_Alan_Jackson_Where_Were_You.mp3\n",
      "folder: top_of_the_pops ; filename: 2017_Migos_Bad_&_Boujee.mp3\n",
      "folder: top_of_the_pops ; filename: 1944_Les_Brown_Twilight_Time.mp3\n",
      "folder: top_of_the_pops ; filename: 1941_Glenn_Miller_Chatanooga_Choo_Choo.mp3\n",
      "folder: top_of_the_pops ; filename: 2015_Rihanna_FourFiveSeconds.mp3\n"
     ]
    },
    {
     "name": "stderr",
     "output_type": "stream",
     "text": [
      "Note: Illegal Audio-MPEG-Header 0x00000000 at offset 2806046.\n",
      "Note: Trying to resync...\n",
      "Note: Hit end of (available) data during resync.\n"
     ]
    },
    {
     "name": "stdout",
     "output_type": "stream",
     "text": [
      "folder: top_of_the_pops ; filename: 1984_Prince_When_Doves_Cry.mp3\n",
      "folder: top_of_the_pops ; filename: 1997_The_Verve_Bittersweet_Symphony.mp3\n",
      "folder: top_of_the_pops ; filename: 2014_Katy_Perry_Roar.mp3\n",
      "folder: top_of_the_pops ; filename: 1990_Michael_Bolton_How_Am_I_Supposed_To_Live_Without_You.mp3\n",
      "folder: top_of_the_pops ; filename: 2022_Kendrick_Lamar_Beth_Gibbons_Mother_I_Sober.mp3\n",
      "folder: top_of_the_pops ; filename: 1946_Perry_Como_Prisoner_of_Love.mp3\n",
      "folder: top_of_the_pops ; filename: 1989_Milli_Vanilli_Girl_You_Know_It's_True.mp3\n",
      "folder: top_of_the_pops ; filename: 1956_Elvis_Presley_Heartbreak_Hotel.mp3\n",
      "folder: top_of_the_pops ; filename: 1950_Nat_King_Cole_Mona_Lisa.mp3\n",
      "folder: top_of_the_pops ; filename: 1982_Foreigner_Waiting_For_A_Girl_Like_You.mp3\n",
      "folder: top_of_the_pops ; filename: 1983_Police_Every_Breath_You_Take.mp3\n",
      "folder: top_of_the_pops ; filename: 1943_Duke_Ellington_In_A_Sentimental.mp3\n",
      "folder: top_of_the_pops ; filename: 1995_Hootie_And_The_Blowfish_Hold_My_Hand.mp3\n",
      "folder: top_of_the_pops ; filename: 1951_Tony_Bennett_Because_Of_You.mp3\n",
      "folder: top_of_the_pops ; filename: 2007_Fergie_Big_Girls_Don't_Cry.mp3\n",
      "folder: top_of_the_pops ; filename: 1969_Neil_Diamond_Sweet_Caroline.mp3\n",
      "folder: top_of_the_pops ; filename: 1957_Harry_Belafonte_Banana_Boat_Song.mp3\n"
     ]
    },
    {
     "name": "stderr",
     "output_type": "stream",
     "text": [
      "Note: Illegal Audio-MPEG-Header 0x00544147 at offset 3412749.\n",
      "Note: Trying to resync...\n",
      "Note: Hit end of (available) data during resync.\n"
     ]
    },
    {
     "name": "stdout",
     "output_type": "stream",
     "text": [
      "folder: top_of_the_pops ; filename: 1939_Judy_Garland_Somewhere_Over_The_Rainbow.mp3\n",
      "folder: top_of_the_pops ; filename: 2001_Train_Drops_Of_Jupiter.mp3\n",
      "folder: top_of_the_pops ; filename: 1992_Nirvana_Smells_Like_Teen_Spirit.mp3\n"
     ]
    },
    {
     "name": "stderr",
     "output_type": "stream",
     "text": [
      "[src/libmpg123/id3.c:process_comment():584] error: No comment text / valid description?\n"
     ]
    },
    {
     "name": "stdout",
     "output_type": "stream",
     "text": [
      "folder: top_of_the_pops ; filename: 2008_Alicia_Keys_No_One.mp3\n",
      "folder: top_of_the_pops ; filename: 2006_Kanye_West_Gold_Digger.mp3\n",
      "not Done\n",
      "folder: top_of_the_pops ; filename: 1955_Bill_Haley_And_His_Comets_Rock_Around_The_Clock.mp3\n",
      "folder: top_of_the_pops ; filename: 1968_Steppenwolf_Born_To_Be_Wild.mp3\n",
      "folder: top_of_the_pops ; filename: 1949_Vaughan_Monroe_Riders_In_The_Sky.mp3\n",
      "folder: top_of_the_pops ; filename: 2018_Drake_God's_Plan.mp3\n",
      "folder: top_of_the_pops ; filename: 1978_Bee_Gees_Night_Fever.mp3\n",
      "folder: top_of_the_pops ; filename: 1947_Francis_Craig_and_His_Orchestra_Near_You.mp3\n",
      "folder: top_of_the_pops ; filename: 1974_Jackson_5_Dancing_Machine.mp3\n",
      "folder: top_of_the_pops ; filename: 1942_Kay_Kyser_Praise_the_Lord_and_Pass_the_Ammunition.mp3\n"
     ]
    }
   ],
   "source": [
    "# Init\n",
    "spectrogram_list, chromagram_list, spectral_contrast_list = [], [], []\n",
    "mfcc_list, tempogram_fourier, tempogram_local_auto = [], [], []\n",
    "label_list  = []\n",
    "\n",
    "# Save image of segment length snippets\n",
    "for folder in folders:\n",
    "    os.chdir(path_dict[folder])\n",
    "    for filename in song_dict[folder]:\n",
    "        print(\"folder: {} ; filename: {}\".format(folder, filename))\n",
    "        try:\n",
    "            # Load Song\n",
    "            x , sr = librosa.load(filename, sr=sr)\n",
    "\n",
    "            # Print track and genre\n",
    "            #print(\"Done\")\n",
    "\n",
    "            # compute number of 30sec audio segments\n",
    "            num_segments = int(len(x)/(sr*segment_length))\n",
    "\n",
    "\n",
    "            # Create segment list\n",
    "            segments = np.arange(4,num_segments-4,1,dtype=int)\n",
    "            \n",
    "            for segment in segments:\n",
    "                x, sr = librosa.load(filename, sr=sr, offset=segment_length*segment, duration=segment_length)\n",
    "                # spectogram image\n",
    "                # x-axis = time\n",
    "                # y-axis = frequency\n",
    "                # color = amplitude\n",
    "                #X = librosa.stft(x)\n",
    "                #Xdb = librosa.amplitude_to_db(abs(X))\n",
    "                melspectrogram = librosa.feature.melspectrogram(y=x, sr=sr, n_fft=4096)\n",
    "                log_mel_spectrogram = librosa.power_to_db(melspectrogram)\n",
    "                spectrogram_list.append(log_mel_spectrogram)\n",
    "                \n",
    "                # Add label\n",
    "                if folder == 'prog_rock':\n",
    "                    label_list.append(1)\n",
    "                else:\n",
    "                    label_list.append(0)\n",
    "\n",
    "                \n",
    "                # chroma frequencies\n",
    "                # x-axis = time\n",
    "                # y-axis = chroma\n",
    "                chromagram = librosa.feature.chroma_stft(y=x, sr=sr, S=None, n_fft=2048,\n",
    "                                                hop_length=512, win_length=None, window='hann', center=True,\n",
    "                                                pad_mode='constant', tuning=None, n_chroma=12)\n",
    "                chromagram_list.append(chromagram)\n",
    "\n",
    "                # mfccs\n",
    "                mfccs = librosa.feature.mfcc(y=x, sr=sr)\n",
    "                mfcc_list.append(mfccs)\n",
    "\n",
    "                # spectral contrast\n",
    "                spectral_contrast = librosa.feature.spectral_contrast(y=x)\n",
    "                spectral_contrast_list.append(spectral_contrast)\n",
    "\n",
    "                # Autocorrelation tempogram\n",
    "                oenv = librosa.onset.onset_strength(y=x, sr=sr)\n",
    "                tempogram = librosa.feature.tempogram(onset_envelope=oenv, sr=sr)\n",
    "                tempogram_local_auto.append(tempogram)\n",
    "                \n",
    "                # Fourier tempogram\n",
    "                fourier_tempogram = librosa.feature.fourier_tempogram(onset_envelope=oenv, sr=sr)\n",
    "                tempogram_fourier.append(fourier_tempogram)\n",
    "\n",
    "            song_dict[folder].remove(filename)\n",
    "        except:\n",
    "            print(\"not Done\")\n",
    "            pass"
   ]
  },
  {
   "cell_type": "code",
   "execution_count": 4,
   "id": "1553ef7d",
   "metadata": {},
   "outputs": [
    {
     "name": "stdout",
     "output_type": "stream",
     "text": [
      "(array([0, 1]), array([3095, 4871]))\n"
     ]
    }
   ],
   "source": [
    "# Sanity check\n",
    "print(np.unique(label_list, return_counts=True))"
   ]
  },
  {
   "cell_type": "code",
   "execution_count": 5,
   "id": "93ed5815",
   "metadata": {},
   "outputs": [
    {
     "name": "stdout",
     "output_type": "stream",
     "text": [
      "Shape Tempogram fourier: (7966, 193, 432)\n",
      "Shape Tempogram auto cor: (7966, 384, 431)\n",
      "Shape spectral contrast: (7966, 7, 431)\n",
      "Shape mfcc: (7966, 20, 431)\n",
      "Shape chromagram: (7966, 12, 431)\n",
      "Shape spectrogram: (7966, 128, 431)\n"
     ]
    }
   ],
   "source": [
    "# Save list\n",
    "tempogram_fourier_arr = np.array(tempogram_fourier)\n",
    "tempogram_local_auto_arr = np.array(tempogram_local_auto)\n",
    "spectral_contrast_arr = np.array(spectral_contrast_list)\n",
    "mfcc_arr = np.array(mfcc_list)\n",
    "chromagram_arr = np.array(chromagram_list)\n",
    "spectrogram_arr = np.array(spectrogram_list)\n",
    "\n",
    "print(\"Shape Tempogram fourier: {}\".format(tempogram_fourier_arr.shape))\n",
    "print(\"Shape Tempogram auto cor: {}\".format(tempogram_local_auto_arr.shape))\n",
    "print(\"Shape spectral contrast: {}\".format(spectral_contrast_arr.shape))\n",
    "print(\"Shape mfcc: {}\".format(mfcc_arr.shape))\n",
    "print(\"Shape chromagram: {}\".format(chromagram_arr.shape))\n",
    "print(\"Shape spectrogram: {}\".format(spectrogram_arr.shape))\n"
   ]
  },
  {
   "cell_type": "code",
   "execution_count": 6,
   "id": "c5795eb2",
   "metadata": {},
   "outputs": [],
   "source": [
    "# Switch directory to current path\n",
    "os.chdir('/Users/sainikhil/Downloads/Machine Learning/Project 2/Extracted data')\n",
    "\n",
    "#Save data\n",
    "np.savez_compressed('tempogram_fourier', tempogram_fourier_arr)\n",
    "np.savez_compressed('tempogram_local_auto', tempogram_local_auto_arr)\n",
    "np.savez_compressed('mfcc', mfcc_arr)\n",
    "np.savez_compressed('chromagram', chromagram_arr)\n",
    "np.savez_compressed('spectrogram', spectrogram_arr)\n"
   ]
  },
  {
   "cell_type": "code",
   "execution_count": 8,
   "id": "6ad6ed7c",
   "metadata": {},
   "outputs": [
    {
     "data": {
      "text/plain": [
       "array([0, 1])"
      ]
     },
     "execution_count": 8,
     "metadata": {},
     "output_type": "execute_result"
    }
   ],
   "source": [
    "label_list = np.array(label_list)"
   ]
  },
  {
   "cell_type": "code",
   "execution_count": 9,
   "id": "24efaafa",
   "metadata": {},
   "outputs": [],
   "source": [
    "np.save('labels.npy',label_list)"
   ]
  },
  {
   "cell_type": "code",
   "execution_count": null,
   "id": "9682afee",
   "metadata": {},
   "outputs": [],
   "source": []
  }
 ],
 "metadata": {
  "kernelspec": {
   "display_name": "Python 3 (ipykernel)",
   "language": "python",
   "name": "python3"
  },
  "language_info": {
   "codemirror_mode": {
    "name": "ipython",
    "version": 3
   },
   "file_extension": ".py",
   "mimetype": "text/x-python",
   "name": "python",
   "nbconvert_exporter": "python",
   "pygments_lexer": "ipython3",
   "version": "3.9.12"
  },
  "vscode": {
   "interpreter": {
    "hash": "bbc15c2aec24558971d5abe21601ee71dd1fb1ef386ff55144614be297c6371c"
   }
  }
 },
 "nbformat": 4,
 "nbformat_minor": 5
}
