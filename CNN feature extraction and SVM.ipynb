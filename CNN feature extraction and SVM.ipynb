{
 "cells": [
  {
   "cell_type": "code",
   "execution_count": 186,
   "id": "64475533",
   "metadata": {},
   "outputs": [],
   "source": [
    "import pandas as pd\n",
    "import numpy as np\n",
    "import librosa\n",
    "import torch\n",
    "import copy\n",
    "import matplotlib.pyplot as plt\n",
    "import torch.nn as nn\n",
    "import torchvision\n",
    "import torchvision.transforms as transforms\n",
    "import cv2\n",
    "from sklearn.model_selection import train_test_split\n",
    "from torch.utils.data import TensorDataset, DataLoader\n",
    "from sklearn.svm import LinearSVC\n",
    "from sklearn.model_selection import train_test_split\n",
    "from sklearn.metrics import accuracy_score\n",
    "from sklearn.metrics import confusion_matrix\n",
    "from sklearn.preprocessing import StandardScaler\n",
    "from warnings import simplefilter\n",
    "from sklearn.exceptions import ConvergenceWarning\n",
    "from sklearn.metrics import ConfusionMatrixDisplay\n",
    "from sklearn.ensemble import RandomForestClassifier\n",
    "from sklearn.linear_model import RidgeClassifier\n",
    "from sklearn.preprocessing import MinMaxScaler"
   ]
  },
  {
   "cell_type": "code",
   "execution_count": 140,
   "id": "b3f53762",
   "metadata": {},
   "outputs": [],
   "source": [
    "num_classes = 2\n",
    "batch = 100\n",
    "num_epochs = 10\n",
    "learning_rate = 0.0001"
   ]
  },
  {
   "cell_type": "code",
   "execution_count": 141,
   "id": "67fc42b2",
   "metadata": {},
   "outputs": [],
   "source": [
    "def output_label(label):\n",
    "    output_mapping = {\n",
    "                 0: \"Not Prog Rock\",\n",
    "                 1: \"Prog rock\"\n",
    "                 }\n",
    "    input = (label.item() if type(label) == torch.Tensor else label)\n",
    "    return output_mapping[input]"
   ]
  },
  {
   "cell_type": "markdown",
   "id": "3e20b697",
   "metadata": {},
   "source": [
    "# Data information\n",
    "\n",
    "Shape of spectrogram.npz is (7966, 128, 431)\n",
    "\n",
    "Shape of chromagram.npz is (7966, 12, 431)\n",
    "\n",
    "Shape of mfcc.npz is (7966, 20, 431)\n",
    "\n",
    "Shape of tempogram_fourier is (7966, 193, 432)\n",
    "\n",
    "Shape of tempogram_local_auto is (7966, 384, 431)\n"
   ]
  },
  {
   "cell_type": "markdown",
   "id": "c716ee6b",
   "metadata": {},
   "source": [
    "# Data Shuffler"
   ]
  },
  {
   "cell_type": "code",
   "execution_count": 142,
   "id": "2a9b6b17",
   "metadata": {},
   "outputs": [],
   "source": [
    "y = np.load('labels.npy')\n",
    "total_samples = data.shape[0]\n",
    "all_indices = [i for i in range(total_samples)]\n",
    "np.random.seed(27)\n",
    "np.random.shuffle(all_indices,)\n",
    "train_percentage=50\n",
    "train_size = int(7966/2)\n",
    "y_train = []\n",
    "y_test = []\n",
    "for indice in all_indices[:train_size]:\n",
    "    y_train.append(y[indice])\n",
    "for indice in all_indices[train_size:]:\n",
    "    y_test.append(y[indice])\n",
    "y_train = np.array(y_train)\n",
    "y_test = np.array(y_test)\n",
    "\n",
    "labels_save_array = []\n",
    "for i in range(y_train.shape[0]):\n",
    "    labels_save_array.append(y_train[i])\n",
    "for i in range(y_test.shape[0]):\n",
    "    labels_save_array.append(y_test[i])\n",
    "labels_save_array = np.array(labels_save_array)"
   ]
  },
  {
   "cell_type": "markdown",
   "id": "5a95bd67",
   "metadata": {},
   "source": [
    "# Modeling with Spectrograms"
   ]
  },
  {
   "cell_type": "code",
   "execution_count": null,
   "id": "3b24b989",
   "metadata": {},
   "outputs": [],
   "source": []
  },
  {
   "cell_type": "code",
   "execution_count": 143,
   "id": "2d78f946",
   "metadata": {},
   "outputs": [],
   "source": [
    "data = np.load('spectrogram.npz')['arr_0']\n",
    "x_dim = data.shape[1]\n",
    "y_dim = data.shape[2]\n",
    "\n",
    "X_train = []\n",
    "X_test = []\n",
    "for indice in all_indices[:train_size]:\n",
    "    X_train.append(data[indice])\n",
    "for indice in all_indices[train_size:]:\n",
    "    X_test.append(data[indice])\n",
    "X_train = np.array(X_train)\n",
    "y_train = np.array(y_train)\n",
    "X_test = np.array(X_test)\n",
    "y_test = np.array(y_test)\n",
    "\n",
    "tensor_X_train = torch.Tensor(X_train) \n",
    "tensor_y_train = torch.Tensor(y_train)\n",
    "tensor_y_train=tensor_y_train.long()\n",
    "\n",
    "traindataset = TensorDataset(tensor_X_train,tensor_y_train)\n",
    "trainloader = DataLoader(traindataset,batch_size=batch,shuffle=False)\n",
    "\n",
    "tensor_X_test = torch.Tensor(X_test) \n",
    "tensor_y_test = torch.Tensor(y_test)\n",
    "tensor_y_test=tensor_y_test.long()\n",
    "\n",
    "\n",
    "testdataset = TensorDataset(tensor_X_test,tensor_y_test)\n",
    "testloader = DataLoader(testdataset,batch_size=batch,shuffle=False)"
   ]
  },
  {
   "cell_type": "code",
   "execution_count": null,
   "id": "e7e88bbb",
   "metadata": {},
   "outputs": [],
   "source": []
  },
  {
   "cell_type": "code",
   "execution_count": null,
   "id": "a79f2d87",
   "metadata": {},
   "outputs": [],
   "source": []
  },
  {
   "cell_type": "code",
   "execution_count": 144,
   "id": "e46e363d",
   "metadata": {},
   "outputs": [],
   "source": [
    "class SpectrogramCNN(nn.Module):   \n",
    "    def __init__(self):\n",
    "        super(SpectrogramCNN, self).__init__()\n",
    "        \n",
    "        self.layer1 = nn.Sequential(\n",
    "            nn.Conv2d(in_channels=1, out_channels=64, kernel_size=3),\n",
    "            nn.MaxPool2d(kernel_size=2, stride=2),\n",
    "            nn.ReLU()\n",
    "        )\n",
    "        \n",
    "        self.layer2 = nn.Sequential(\n",
    "            nn.Conv2d(in_channels=64, out_channels=64, kernel_size=(3,5)),\n",
    "            nn.MaxPool2d(kernel_size=2, stride=2),\n",
    "            nn.ReLU()\n",
    "        )\n",
    "        \n",
    "        self.layer3 = nn.Sequential(\n",
    "            nn.Conv2d(in_channels=64, out_channels=64, kernel_size=3),\n",
    "            nn.MaxPool2d(kernel_size=2, stride=2),\n",
    "            nn.ReLU()\n",
    "        )\n",
    "        \n",
    "        \n",
    "        \n",
    "        self.fc1 = nn.Sequential(\n",
    "            nn.Linear(in_features=64*14*51, out_features=2)\n",
    "        )\n",
    "\n",
    "        \n",
    "    def forward(self, x):\n",
    "        out = self.layer1(x)\n",
    "        out = self.layer2(out)\n",
    "        out = self.layer3(out)\n",
    "        out = out.view(out.size(0), -1)\n",
    "        out = self.fc1(out)\n",
    "        return out\n",
    "\n",
    "#Code to pull the intermediary layers\n",
    "activation = {}\n",
    "def get_activation(name):\n",
    "    def hook(model, input, output):\n",
    "        activation[name] = output.detach()\n",
    "    return hook"
   ]
  },
  {
   "cell_type": "code",
   "execution_count": 145,
   "id": "e54b03c6",
   "metadata": {},
   "outputs": [
    {
     "name": "stdout",
     "output_type": "stream",
     "text": [
      "Device mps\n",
      "batch_size: 100\n",
      "number of epochs: 10\n",
      "learning rate: 0.0001\n",
      "optimizer: Adam\n",
      "Loss function Cross Entropy Loss\n",
      "SpectrogramCNN(\n",
      "  (layer1): Sequential(\n",
      "    (0): Conv2d(1, 64, kernel_size=(3, 3), stride=(1, 1))\n",
      "    (1): MaxPool2d(kernel_size=2, stride=2, padding=0, dilation=1, ceil_mode=False)\n",
      "    (2): ReLU()\n",
      "  )\n",
      "  (layer2): Sequential(\n",
      "    (0): Conv2d(64, 64, kernel_size=(3, 5), stride=(1, 1))\n",
      "    (1): MaxPool2d(kernel_size=2, stride=2, padding=0, dilation=1, ceil_mode=False)\n",
      "    (2): ReLU()\n",
      "  )\n",
      "  (layer3): Sequential(\n",
      "    (0): Conv2d(64, 64, kernel_size=(3, 3), stride=(1, 1))\n",
      "    (1): MaxPool2d(kernel_size=2, stride=2, padding=0, dilation=1, ceil_mode=False)\n",
      "    (2): ReLU()\n",
      "  )\n",
      "  (fc1): Sequential(\n",
      "    (0): Linear(in_features=45696, out_features=2, bias=True)\n",
      "  )\n",
      ")\n",
      "Epoch: 0, Loss: 0.5375202\n",
      "Epoch: 1, Loss: 0.5241039\n",
      "Epoch: 2, Loss: 0.4575893\n",
      "Epoch: 3, Loss: 0.4079357\n",
      "Epoch: 4, Loss: 0.3630989\n",
      "Epoch: 5, Loss: 0.3227904\n",
      "Epoch: 6, Loss: 0.2945292\n",
      "Epoch: 7, Loss: 0.2495717\n",
      "Epoch: 8, Loss: 0.2053777\n",
      "Epoch: 9, Loss: 0.1746608\n"
     ]
    }
   ],
   "source": [
    "device = torch.device(\"mps\" if torch.backends.mps.is_available() else \"cpu\")\n",
    "print(\"Device\", device)\n",
    "print(\"batch_size:\",batch)\n",
    "print(\"number of epochs:\",num_epochs)\n",
    "print(\"learning rate:\",learning_rate)\n",
    "print(\"optimizer:\",\"Adam\")\n",
    "print(\"Loss function\",\"Cross Entropy Loss\")\n",
    "model = SpectrogramCNN()\n",
    "model.to(device)\n",
    "model.fc1.register_forward_hook(get_activation('fc1'))\n",
    "# model.fc2.register_forward_hook(get_activation('fc2'))\n",
    "# model.layer4.register_forward_hook(get_activation('layer4'))\n",
    "\n",
    "error = nn.CrossEntropyLoss()\n",
    "optimizer = torch.optim.Adam(model.parameters(), lr=learning_rate)\n",
    "print(model)\n",
    "\n",
    "\n",
    "for epoch in range(num_epochs):\n",
    "    for images, labels in trainloader:\n",
    "        # Transfering images and labels to GPU if available\n",
    "        images, labels = images.to(device), labels.to(device)\n",
    "        #print(labels)\n",
    "    \n",
    "        train = images.view(images.shape[0], 1, x_dim, y_dim)\n",
    "        \n",
    "        # Forward pass \n",
    "        outputs = model(train)\n",
    "        loss = error(outputs, labels)\n",
    "        \n",
    "        # Initializing a gradient as 0 so there is no mixing of gradient among the batches\n",
    "        optimizer.zero_grad()\n",
    "        \n",
    "        #Propagating the error backward\n",
    "        loss.backward()\n",
    "        \n",
    "        # Optimizing the parameters\n",
    "        optimizer.step()\n",
    "        \n",
    "    \n",
    "    print(\"Epoch: {}, Loss: {:.7f}\".format(epoch, loss.data))"
   ]
  },
  {
   "cell_type": "code",
   "execution_count": null,
   "id": "1c286cd1",
   "metadata": {},
   "outputs": [],
   "source": []
  },
  {
   "cell_type": "markdown",
   "id": "012566ed",
   "metadata": {},
   "source": [
    "# Saving model"
   ]
  },
  {
   "cell_type": "code",
   "execution_count": 146,
   "id": "97193f2e",
   "metadata": {},
   "outputs": [],
   "source": [
    "checkpoint = {'state_dict': model.state_dict()}\n",
    "torch.save(checkpoint, './spectrogram.pth')"
   ]
  },
  {
   "cell_type": "markdown",
   "id": "1919b76b",
   "metadata": {},
   "source": [
    "# Training Accuracy"
   ]
  },
  {
   "cell_type": "code",
   "execution_count": 147,
   "id": "4f5c49e2",
   "metadata": {},
   "outputs": [
    {
     "name": "stdout",
     "output_type": "stream",
     "text": [
      "Train Set Accuracy\n",
      "Accuracy of Not Prog Rock: 74.40%\n",
      "Accuracy of Prog rock: 98.49%\n"
     ]
    }
   ],
   "source": [
    "class_correct = [0. for _ in range(num_classes)]\n",
    "total_correct = [0. for _ in range(num_classes)]\n",
    "\n",
    "with torch.no_grad():\n",
    "    for images, labels in trainloader:\n",
    "        images, labels = images.to(device), labels.to(device)\n",
    "        test = images.view(images.shape[0], 1, x_dim, y_dim)\n",
    "        outputs = model(test)\n",
    "        predicted = torch.max(outputs, 1)[1]\n",
    "        c = (predicted == labels).squeeze()\n",
    "        \n",
    "        for i in range(images.shape[0]):\n",
    "            label = labels[i]\n",
    "            class_correct[label] += c[i].item()\n",
    "            total_correct[label] += 1\n",
    "\n",
    "\n",
    "print(\"Train Set Accuracy\")      \n",
    "for i in range(num_classes):\n",
    "    print(\"Accuracy of {}: {:.2f}%\".format(output_label(i), class_correct[i] * 100 / total_correct[i]))"
   ]
  },
  {
   "cell_type": "code",
   "execution_count": null,
   "id": "8906fd84",
   "metadata": {},
   "outputs": [],
   "source": []
  },
  {
   "cell_type": "markdown",
   "id": "53ce96da",
   "metadata": {},
   "source": [
    "# Saving output of fully connected layer and Test Accuracy"
   ]
  },
  {
   "cell_type": "code",
   "execution_count": 148,
   "id": "88073b1f",
   "metadata": {},
   "outputs": [
    {
     "name": "stdout",
     "output_type": "stream",
     "text": [
      "Test Set Accuracy\n",
      "Accuracy of Not Prog Rock: 54.92%\n",
      "Accuracy of Prog rock: 93.92%\n"
     ]
    }
   ],
   "source": [
    "class_correct = [0. for _ in range(num_classes)]\n",
    "total_correct = [0. for _ in range(num_classes)]\n",
    "\n",
    "with torch.no_grad():\n",
    "    for images, labels in testloader:\n",
    "        images, labels = images.to(device), labels.to(device)\n",
    "        test = images.view(images.shape[0], 1, x_dim, y_dim)\n",
    "        outputs = model(test)\n",
    "        predicted = torch.max(outputs, 1)[1]\n",
    "        c = (predicted == labels).squeeze()\n",
    "        \n",
    "        for i in range(images.shape[0]):\n",
    "            label = labels[i]\n",
    "            class_correct[label] += c[i].item()\n",
    "            total_correct[label] += 1\n",
    "\n",
    "# Saving different layer outputs\n",
    "\n",
    "output_train_fc1 = []\n",
    "for images, labels in trainloader:\n",
    "        # Transfering images and labels to GPU if available\n",
    "        images, labels = images.to(device), labels.to(device)\n",
    "        train = images.view(images.shape[0], 1, x_dim, y_dim)\n",
    "        outputs = model(train)\n",
    "        output_train_fc1.append(activation[\"fc1\"])\n",
    "        \n",
    "\n",
    "output_test_fc1 = []\n",
    "for images, labels in testloader:\n",
    "        # Transfering images and labels to GPU if available\n",
    "        images, labels = images.to(device), labels.to(device)\n",
    "        test = images.view(images.shape[0], 1, x_dim, y_dim)\n",
    "        outputs = model(test)\n",
    "        output_test_fc1.append(activation[\"fc1\"])\n",
    "\n",
    "\n",
    "print(\"Test Set Accuracy\")      \n",
    "for i in range(num_classes):\n",
    "    print(\"Accuracy of {}: {:.2f}%\".format(output_label(i), class_correct[i] * 100 / total_correct[i]))"
   ]
  },
  {
   "cell_type": "code",
   "execution_count": 149,
   "id": "db063059",
   "metadata": {},
   "outputs": [],
   "source": [
    "all_outputs=[]\n",
    "for j in range(len(output_train_fc1)):\n",
    "    for i in range(len(output_train_fc1[j])):\n",
    "        all_outputs.append(np.array(output_train_fc1[j].detach().cpu()[i]))\n",
    "for j in range(len(output_test_fc1)):\n",
    "    for i in range(len(output_test_fc1[j])):\n",
    "        all_outputs.append(np.array(output_test_fc1[j].detach().cpu()[i]))\n",
    "all_outputs=np.array(all_outputs)\n",
    "\n",
    "df_spectrogram=pd.DataFrame(data=all_outputs)\n",
    "column_dict = {}\n",
    "for i in range(2):\n",
    "    column_dict[i]='Feature{}'.format(i+1)\n",
    "df_spectrogram=df_spectrogram.rename(columns=column_dict)"
   ]
  },
  {
   "cell_type": "code",
   "execution_count": 150,
   "id": "4664f93e",
   "metadata": {},
   "outputs": [
    {
     "data": {
      "text/html": [
       "<div>\n",
       "<style scoped>\n",
       "    .dataframe tbody tr th:only-of-type {\n",
       "        vertical-align: middle;\n",
       "    }\n",
       "\n",
       "    .dataframe tbody tr th {\n",
       "        vertical-align: top;\n",
       "    }\n",
       "\n",
       "    .dataframe thead th {\n",
       "        text-align: right;\n",
       "    }\n",
       "</style>\n",
       "<table border=\"1\" class=\"dataframe\">\n",
       "  <thead>\n",
       "    <tr style=\"text-align: right;\">\n",
       "      <th></th>\n",
       "      <th>Feature1</th>\n",
       "      <th>Feature2</th>\n",
       "    </tr>\n",
       "  </thead>\n",
       "  <tbody>\n",
       "    <tr>\n",
       "      <th>0</th>\n",
       "      <td>0.573465</td>\n",
       "      <td>-0.921595</td>\n",
       "    </tr>\n",
       "    <tr>\n",
       "      <th>1</th>\n",
       "      <td>0.258623</td>\n",
       "      <td>0.294131</td>\n",
       "    </tr>\n",
       "    <tr>\n",
       "      <th>2</th>\n",
       "      <td>-1.577313</td>\n",
       "      <td>3.604646</td>\n",
       "    </tr>\n",
       "    <tr>\n",
       "      <th>3</th>\n",
       "      <td>-0.026562</td>\n",
       "      <td>-0.788662</td>\n",
       "    </tr>\n",
       "    <tr>\n",
       "      <th>4</th>\n",
       "      <td>0.736023</td>\n",
       "      <td>-0.375732</td>\n",
       "    </tr>\n",
       "    <tr>\n",
       "      <th>...</th>\n",
       "      <td>...</td>\n",
       "      <td>...</td>\n",
       "    </tr>\n",
       "    <tr>\n",
       "      <th>7961</th>\n",
       "      <td>-1.026285</td>\n",
       "      <td>1.126576</td>\n",
       "    </tr>\n",
       "    <tr>\n",
       "      <th>7962</th>\n",
       "      <td>0.909533</td>\n",
       "      <td>-0.322924</td>\n",
       "    </tr>\n",
       "    <tr>\n",
       "      <th>7963</th>\n",
       "      <td>0.095035</td>\n",
       "      <td>0.231692</td>\n",
       "    </tr>\n",
       "    <tr>\n",
       "      <th>7964</th>\n",
       "      <td>-0.686978</td>\n",
       "      <td>1.807584</td>\n",
       "    </tr>\n",
       "    <tr>\n",
       "      <th>7965</th>\n",
       "      <td>0.334149</td>\n",
       "      <td>-0.154997</td>\n",
       "    </tr>\n",
       "  </tbody>\n",
       "</table>\n",
       "<p>7966 rows × 2 columns</p>\n",
       "</div>"
      ],
      "text/plain": [
       "      Feature1  Feature2\n",
       "0     0.573465 -0.921595\n",
       "1     0.258623  0.294131\n",
       "2    -1.577313  3.604646\n",
       "3    -0.026562 -0.788662\n",
       "4     0.736023 -0.375732\n",
       "...        ...       ...\n",
       "7961 -1.026285  1.126576\n",
       "7962  0.909533 -0.322924\n",
       "7963  0.095035  0.231692\n",
       "7964 -0.686978  1.807584\n",
       "7965  0.334149 -0.154997\n",
       "\n",
       "[7966 rows x 2 columns]"
      ]
     },
     "execution_count": 150,
     "metadata": {},
     "output_type": "execute_result"
    }
   ],
   "source": [
    "df_spectrogram"
   ]
  },
  {
   "cell_type": "code",
   "execution_count": 151,
   "id": "5bdd1e7a",
   "metadata": {},
   "outputs": [],
   "source": [
    "df_spectrogram['label']=labels_save_array"
   ]
  },
  {
   "cell_type": "code",
   "execution_count": 152,
   "id": "2b858c41",
   "metadata": {},
   "outputs": [],
   "source": [
    "df_spectrogram.to_csv('spectrogram.csv',index=False)"
   ]
  },
  {
   "cell_type": "markdown",
   "id": "f364f125",
   "metadata": {},
   "source": [
    "# Modeling with Chromagrams"
   ]
  },
  {
   "cell_type": "code",
   "execution_count": 153,
   "id": "efe3c7e5",
   "metadata": {},
   "outputs": [],
   "source": [
    "data = np.load('chromagram.npz')['arr_0']\n",
    "x_dim = data.shape[1]\n",
    "y_dim = data.shape[2]\n",
    "\n",
    "X_train = []\n",
    "X_test = []\n",
    "for indice in all_indices[:train_size]:\n",
    "    X_train.append(data[indice])\n",
    "for indice in all_indices[train_size:]:\n",
    "    X_test.append(data[indice])\n",
    "X_train = np.array(X_train)\n",
    "X_test = np.array(X_test)\n",
    "\n",
    "\n",
    "tensor_X_train = torch.Tensor(X_train) \n",
    "tensor_y_train = torch.Tensor(y_train)\n",
    "tensor_y_train=tensor_y_train.long()\n",
    "\n",
    "traindataset = TensorDataset(tensor_X_train,tensor_y_train)\n",
    "trainloader = DataLoader(traindataset,batch_size=batch,shuffle=False)\n",
    "\n",
    "tensor_X_test = torch.Tensor(X_test) \n",
    "tensor_y_test = torch.Tensor(y_test)\n",
    "tensor_y_test=tensor_y_test.long()\n",
    "\n",
    "\n",
    "testdataset = TensorDataset(tensor_X_test,tensor_y_test)\n",
    "testloader = DataLoader(testdataset,batch_size=batch,shuffle=False)"
   ]
  },
  {
   "cell_type": "code",
   "execution_count": 154,
   "id": "e71959b0",
   "metadata": {},
   "outputs": [],
   "source": [
    "class ChromagramCNN(nn.Module):   \n",
    "    def __init__(self):\n",
    "        super(ChromagramCNN, self).__init__()\n",
    "        \n",
    "        self.layer1 = nn.Sequential(\n",
    "            nn.Conv2d(in_channels=1, out_channels=64, kernel_size=3,padding=(1,0)),\n",
    "            nn.MaxPool2d(kernel_size=(1,2), stride=(1,2)),\n",
    "            nn.ReLU()\n",
    "        )\n",
    "        \n",
    "        self.layer2 = nn.Sequential(\n",
    "            nn.Conv2d(in_channels=64, out_channels=64, kernel_size=(3,5), padding=(1,0)),\n",
    "            nn.MaxPool2d(kernel_size=(1,2), stride=(1,2)),\n",
    "            nn.ReLU()\n",
    "        )\n",
    "        \n",
    "        self.layer3 = nn.Sequential(\n",
    "            nn.Conv2d(in_channels=64, out_channels=64, kernel_size=3, padding=(1,0)),\n",
    "            nn.MaxPool2d(kernel_size=(1,2), stride=(1,2)),\n",
    "            nn.ReLU()\n",
    "        )\n",
    "        \n",
    "        \n",
    "        \n",
    "        self.fc1 = nn.Sequential(\n",
    "            nn.Linear(in_features=64*12*51, out_features=2)\n",
    "        )\n",
    "\n",
    "        \n",
    "    def forward(self, x):\n",
    "        out = self.layer1(x)\n",
    "        #print(out.shape)\n",
    "        out = self.layer2(out)\n",
    "        #print(out.shape)\n",
    "        out = self.layer3(out)\n",
    "        out = out.view(out.size(0), -1)\n",
    "        out = self.fc1(out)\n",
    "        return out\n",
    "\n",
    "#Code to pull the intermediary layers\n",
    "activation = {}\n",
    "def get_activation(name):\n",
    "    def hook(model, input, output):\n",
    "        activation[name] = output.detach()\n",
    "    return hook"
   ]
  },
  {
   "cell_type": "code",
   "execution_count": 155,
   "id": "5db0b508",
   "metadata": {},
   "outputs": [
    {
     "name": "stdout",
     "output_type": "stream",
     "text": [
      "Device mps\n",
      "batch_size: 100\n",
      "number of epochs: 10\n",
      "learning rate: 0.0001\n",
      "optimizer: Adam\n",
      "Loss function Cross Entropy Loss\n",
      "ChromagramCNN(\n",
      "  (layer1): Sequential(\n",
      "    (0): Conv2d(1, 64, kernel_size=(3, 3), stride=(1, 1), padding=(1, 0))\n",
      "    (1): MaxPool2d(kernel_size=(1, 2), stride=(1, 2), padding=0, dilation=1, ceil_mode=False)\n",
      "    (2): ReLU()\n",
      "  )\n",
      "  (layer2): Sequential(\n",
      "    (0): Conv2d(64, 64, kernel_size=(3, 5), stride=(1, 1), padding=(1, 0))\n",
      "    (1): MaxPool2d(kernel_size=(1, 2), stride=(1, 2), padding=0, dilation=1, ceil_mode=False)\n",
      "    (2): ReLU()\n",
      "  )\n",
      "  (layer3): Sequential(\n",
      "    (0): Conv2d(64, 64, kernel_size=(3, 3), stride=(1, 1), padding=(1, 0))\n",
      "    (1): MaxPool2d(kernel_size=(1, 2), stride=(1, 2), padding=0, dilation=1, ceil_mode=False)\n",
      "    (2): ReLU()\n",
      "  )\n",
      "  (fc1): Sequential(\n",
      "    (0): Linear(in_features=39168, out_features=2, bias=True)\n",
      "  )\n",
      ")\n",
      "Epoch: 49, Loss: 0.2067152\n"
     ]
    }
   ],
   "source": [
    "device = torch.device(\"mps\" if torch.backends.mps.is_available() else \"cpu\")\n",
    "print(\"Device\", device)\n",
    "print(\"batch_size:\",batch)\n",
    "print(\"number of epochs:\",num_epochs)\n",
    "print(\"learning rate:\",learning_rate)\n",
    "print(\"optimizer:\",\"Adam\")\n",
    "print(\"Loss function\",\"Cross Entropy Loss\")\n",
    "model = ChromagramCNN()\n",
    "model.to(device)\n",
    "model.fc1.register_forward_hook(get_activation('fc1'))\n",
    "# model.fc2.register_forward_hook(get_activation('fc2'))\n",
    "# model.layer4.register_forward_hook(get_activation('layer4'))\n",
    "\n",
    "error = nn.CrossEntropyLoss()\n",
    "optimizer = torch.optim.Adam(model.parameters(), lr=learning_rate)\n",
    "print(model)\n",
    "\n",
    "\n",
    "for epoch in range(50):\n",
    "    for images, labels in trainloader:\n",
    "        # Transfering images and labels to GPU if available\n",
    "        images, labels = images.to(device), labels.to(device)\n",
    "        #print(labels)\n",
    "    \n",
    "        train = images.view(images.shape[0], 1, x_dim, y_dim)\n",
    "        #print(train.shape)\n",
    "        \n",
    "        # Forward pass \n",
    "        outputs = model(train)\n",
    "        loss = error(outputs, labels)\n",
    "        \n",
    "        # Initializing a gradient as 0 so there is no mixing of gradient among the batches\n",
    "        optimizer.zero_grad()\n",
    "        \n",
    "        #Propagating the error backward\n",
    "        loss.backward()\n",
    "        \n",
    "        # Optimizing the parameters\n",
    "        optimizer.step()\n",
    "        \n",
    "    if epoch==49:\n",
    "        print(\"Epoch: {}, Loss: {:.7f}\".format(epoch, loss.data))"
   ]
  },
  {
   "cell_type": "markdown",
   "id": "ec9849eb",
   "metadata": {},
   "source": [
    "# Saving Model"
   ]
  },
  {
   "cell_type": "code",
   "execution_count": 156,
   "id": "9567b3c1",
   "metadata": {},
   "outputs": [],
   "source": [
    "checkpoint = {'state_dict': model.state_dict()}\n",
    "torch.save(checkpoint, './chromagram.pth')"
   ]
  },
  {
   "cell_type": "markdown",
   "id": "e47f0629",
   "metadata": {},
   "source": [
    "# Training Accuracy"
   ]
  },
  {
   "cell_type": "code",
   "execution_count": 157,
   "id": "892dfb3a",
   "metadata": {},
   "outputs": [
    {
     "name": "stdout",
     "output_type": "stream",
     "text": [
      "Train Set Accuracy\n",
      "Accuracy of Not Prog Rock: 91.44%\n",
      "Accuracy of Prog rock: 96.29%\n"
     ]
    }
   ],
   "source": [
    "class_correct = [0. for _ in range(num_classes)]\n",
    "total_correct = [0. for _ in range(num_classes)]\n",
    "\n",
    "with torch.no_grad():\n",
    "    for images, labels in trainloader:\n",
    "        images, labels = images.to(device), labels.to(device)\n",
    "        test = images.view(images.shape[0], 1, x_dim, y_dim)\n",
    "        outputs = model(test)\n",
    "        predicted = torch.max(outputs, 1)[1]\n",
    "        c = (predicted == labels).squeeze()\n",
    "        \n",
    "        for i in range(images.shape[0]):\n",
    "            label = labels[i]\n",
    "            class_correct[label] += c[i].item()\n",
    "            total_correct[label] += 1\n",
    "\n",
    "\n",
    "print(\"Train Set Accuracy\")      \n",
    "for i in range(num_classes):\n",
    "    print(\"Accuracy of {}: {:.2f}%\".format(output_label(i), class_correct[i] * 100 / total_correct[i]))"
   ]
  },
  {
   "cell_type": "code",
   "execution_count": null,
   "id": "ca9af5cd",
   "metadata": {},
   "outputs": [],
   "source": []
  },
  {
   "cell_type": "markdown",
   "id": "bad6a18c",
   "metadata": {},
   "source": [
    "# Saving output of fully connected layer and Test Accuracy"
   ]
  },
  {
   "cell_type": "code",
   "execution_count": 158,
   "id": "55c17230",
   "metadata": {},
   "outputs": [
    {
     "name": "stdout",
     "output_type": "stream",
     "text": [
      "Test Set Accuracy\n",
      "Accuracy of Not Prog Rock: 57.42%\n",
      "Accuracy of Prog rock: 76.23%\n"
     ]
    }
   ],
   "source": [
    "class_correct = [0. for _ in range(num_classes)]\n",
    "total_correct = [0. for _ in range(num_classes)]\n",
    "\n",
    "with torch.no_grad():\n",
    "    for images, labels in testloader:\n",
    "        images, labels = images.to(device), labels.to(device)\n",
    "        test = images.view(images.shape[0], 1, x_dim, y_dim)\n",
    "        outputs = model(test)\n",
    "        predicted = torch.max(outputs, 1)[1]\n",
    "        c = (predicted == labels).squeeze()\n",
    "        \n",
    "        for i in range(images.shape[0]):\n",
    "            label = labels[i]\n",
    "            class_correct[label] += c[i].item()\n",
    "            total_correct[label] += 1\n",
    "\n",
    "# Saving different layer outputs\n",
    "\n",
    "output_train_fc1 = []\n",
    "for images, labels in trainloader:\n",
    "        # Transfering images and labels to GPU if available\n",
    "        images, labels = images.to(device), labels.to(device)\n",
    "        train = images.view(images.shape[0], 1, x_dim, y_dim)\n",
    "        outputs = model(train)\n",
    "        output_train_fc1.append(activation[\"fc1\"])\n",
    "        \n",
    "\n",
    "output_test_fc1 = []\n",
    "for images, labels in testloader:\n",
    "        # Transfering images and labels to GPU if available\n",
    "        images, labels = images.to(device), labels.to(device)\n",
    "        test = images.view(images.shape[0], 1, x_dim, y_dim)\n",
    "        outputs = model(test)\n",
    "        output_test_fc1.append(activation[\"fc1\"])\n",
    "\n",
    "\n",
    "print(\"Test Set Accuracy\")      \n",
    "for i in range(num_classes):\n",
    "    print(\"Accuracy of {}: {:.2f}%\".format(output_label(i), class_correct[i] * 100 / total_correct[i]))"
   ]
  },
  {
   "cell_type": "code",
   "execution_count": 159,
   "id": "35097cdd",
   "metadata": {},
   "outputs": [],
   "source": [
    "all_outputs=[]\n",
    "for j in range(len(output_train_fc1)):\n",
    "    for i in range(len(output_train_fc1[j])):\n",
    "        all_outputs.append(np.array(output_train_fc1[j].detach().cpu()[i]))\n",
    "for j in range(len(output_test_fc1)):\n",
    "    for i in range(len(output_test_fc1[j])):\n",
    "        all_outputs.append(np.array(output_test_fc1[j].detach().cpu()[i]))\n",
    "all_outputs=np.array(all_outputs)\n",
    "\n",
    "df_chromagram=pd.DataFrame(data=all_outputs)\n",
    "# column_dict = {}\n",
    "# for i in range(3,5):\n",
    "#     column_dict[i]='Feature{}'.format(i+1)\n",
    "# df_chromagram=df_chromagram.rename(columns=column_dict)"
   ]
  },
  {
   "cell_type": "code",
   "execution_count": 160,
   "id": "79244624",
   "metadata": {},
   "outputs": [
    {
     "data": {
      "text/html": [
       "<div>\n",
       "<style scoped>\n",
       "    .dataframe tbody tr th:only-of-type {\n",
       "        vertical-align: middle;\n",
       "    }\n",
       "\n",
       "    .dataframe tbody tr th {\n",
       "        vertical-align: top;\n",
       "    }\n",
       "\n",
       "    .dataframe thead th {\n",
       "        text-align: right;\n",
       "    }\n",
       "</style>\n",
       "<table border=\"1\" class=\"dataframe\">\n",
       "  <thead>\n",
       "    <tr style=\"text-align: right;\">\n",
       "      <th></th>\n",
       "      <th>0</th>\n",
       "      <th>1</th>\n",
       "    </tr>\n",
       "  </thead>\n",
       "  <tbody>\n",
       "    <tr>\n",
       "      <th>0</th>\n",
       "      <td>1.320225</td>\n",
       "      <td>-1.390412</td>\n",
       "    </tr>\n",
       "    <tr>\n",
       "      <th>1</th>\n",
       "      <td>0.656168</td>\n",
       "      <td>-0.475169</td>\n",
       "    </tr>\n",
       "    <tr>\n",
       "      <th>2</th>\n",
       "      <td>-2.199626</td>\n",
       "      <td>1.992025</td>\n",
       "    </tr>\n",
       "    <tr>\n",
       "      <th>3</th>\n",
       "      <td>1.348634</td>\n",
       "      <td>-1.487818</td>\n",
       "    </tr>\n",
       "    <tr>\n",
       "      <th>4</th>\n",
       "      <td>1.147982</td>\n",
       "      <td>-0.426968</td>\n",
       "    </tr>\n",
       "    <tr>\n",
       "      <th>...</th>\n",
       "      <td>...</td>\n",
       "      <td>...</td>\n",
       "    </tr>\n",
       "    <tr>\n",
       "      <th>7961</th>\n",
       "      <td>-0.443271</td>\n",
       "      <td>0.463939</td>\n",
       "    </tr>\n",
       "    <tr>\n",
       "      <th>7962</th>\n",
       "      <td>0.321434</td>\n",
       "      <td>-0.496746</td>\n",
       "    </tr>\n",
       "    <tr>\n",
       "      <th>7963</th>\n",
       "      <td>-0.791881</td>\n",
       "      <td>0.606543</td>\n",
       "    </tr>\n",
       "    <tr>\n",
       "      <th>7964</th>\n",
       "      <td>-1.140626</td>\n",
       "      <td>1.351388</td>\n",
       "    </tr>\n",
       "    <tr>\n",
       "      <th>7965</th>\n",
       "      <td>-0.342731</td>\n",
       "      <td>0.039254</td>\n",
       "    </tr>\n",
       "  </tbody>\n",
       "</table>\n",
       "<p>7966 rows × 2 columns</p>\n",
       "</div>"
      ],
      "text/plain": [
       "             0         1\n",
       "0     1.320225 -1.390412\n",
       "1     0.656168 -0.475169\n",
       "2    -2.199626  1.992025\n",
       "3     1.348634 -1.487818\n",
       "4     1.147982 -0.426968\n",
       "...        ...       ...\n",
       "7961 -0.443271  0.463939\n",
       "7962  0.321434 -0.496746\n",
       "7963 -0.791881  0.606543\n",
       "7964 -1.140626  1.351388\n",
       "7965 -0.342731  0.039254\n",
       "\n",
       "[7966 rows x 2 columns]"
      ]
     },
     "execution_count": 160,
     "metadata": {},
     "output_type": "execute_result"
    }
   ],
   "source": [
    "df_chromagram"
   ]
  },
  {
   "cell_type": "code",
   "execution_count": 161,
   "id": "4607eb2c",
   "metadata": {},
   "outputs": [],
   "source": [
    "df_chromagram['label']=labels_save_array\n",
    "df_chromagram.to_csv('chromagram.csv',index=False)"
   ]
  },
  {
   "cell_type": "markdown",
   "id": "78ebd2a3",
   "metadata": {},
   "source": [
    "# Modeling with MFCCs"
   ]
  },
  {
   "cell_type": "code",
   "execution_count": 162,
   "id": "960fb4b5",
   "metadata": {},
   "outputs": [],
   "source": [
    "data = np.load('mfcc.npz')['arr_0']\n",
    "x_dim = data.shape[1]\n",
    "y_dim = data.shape[2]\n",
    "\n",
    "X_train = []\n",
    "X_test = []\n",
    "for indice in all_indices[:train_size]:\n",
    "    X_train.append(data[indice])\n",
    "for indice in all_indices[train_size:]:\n",
    "    X_test.append(data[indice])\n",
    "X_train = np.array(X_train)\n",
    "X_test = np.array(X_test)\n",
    "\n",
    "\n",
    "tensor_X_train = torch.Tensor(X_train) \n",
    "tensor_y_train = torch.Tensor(y_train)\n",
    "tensor_y_train=tensor_y_train.long()\n",
    "\n",
    "traindataset = TensorDataset(tensor_X_train,tensor_y_train)\n",
    "trainloader = DataLoader(traindataset,batch_size=batch,shuffle=False)\n",
    "\n",
    "tensor_X_test = torch.Tensor(X_test) \n",
    "tensor_y_test = torch.Tensor(y_test)\n",
    "tensor_y_test=tensor_y_test.long()\n",
    "\n",
    "\n",
    "testdataset = TensorDataset(tensor_X_test,tensor_y_test)\n",
    "testloader = DataLoader(testdataset,batch_size=batch,shuffle=False)"
   ]
  },
  {
   "cell_type": "code",
   "execution_count": 163,
   "id": "2228e87c",
   "metadata": {},
   "outputs": [],
   "source": [
    "class MfccCNN(nn.Module):   \n",
    "    def __init__(self):\n",
    "        super(MfccCNN, self).__init__()\n",
    "        \n",
    "        self.layer1 = nn.Sequential(\n",
    "            nn.Conv2d(in_channels=1, out_channels=64, kernel_size=3,padding=(1,0)),\n",
    "            nn.MaxPool2d(kernel_size=(1,2), stride=(1,2)),\n",
    "            nn.ReLU()\n",
    "        )\n",
    "        \n",
    "        self.layer2 = nn.Sequential(\n",
    "            nn.Conv2d(in_channels=64, out_channels=64, kernel_size=(3,5), padding=(1,0)),\n",
    "            nn.MaxPool2d(kernel_size=(1,2), stride=(1,2)),\n",
    "            nn.ReLU()\n",
    "        )\n",
    "        \n",
    "        self.layer3 = nn.Sequential(\n",
    "            nn.Conv2d(in_channels=64, out_channels=64, kernel_size=3, padding=(1,0)),\n",
    "            nn.MaxPool2d(kernel_size=(1,2), stride=(1,2)),\n",
    "            nn.ReLU()\n",
    "        )\n",
    "        \n",
    "        \n",
    "        \n",
    "        self.fc1 = nn.Sequential(\n",
    "            nn.Linear(in_features=64*20*51, out_features=2)\n",
    "        )\n",
    "\n",
    "        \n",
    "    def forward(self, x):\n",
    "        out = self.layer1(x)\n",
    "        #print(out.shape)\n",
    "        out = self.layer2(out)\n",
    "        #print(out.shape)\n",
    "        out = self.layer3(out)\n",
    "        out = out.view(out.size(0), -1)\n",
    "        out = self.fc1(out)\n",
    "        return out\n",
    "\n",
    "#Code to pull the intermediary layers\n",
    "activation = {}\n",
    "def get_activation(name):\n",
    "    def hook(model, input, output):\n",
    "        activation[name] = output.detach()\n",
    "    return hook"
   ]
  },
  {
   "cell_type": "code",
   "execution_count": 164,
   "id": "d1610906",
   "metadata": {},
   "outputs": [
    {
     "name": "stdout",
     "output_type": "stream",
     "text": [
      "Device mps\n",
      "batch_size: 100\n",
      "number of epochs: 10\n",
      "learning rate: 0.0001\n",
      "optimizer: Adam\n",
      "Loss function Cross Entropy Loss\n",
      "MfccCNN(\n",
      "  (layer1): Sequential(\n",
      "    (0): Conv2d(1, 64, kernel_size=(3, 3), stride=(1, 1), padding=(1, 0))\n",
      "    (1): MaxPool2d(kernel_size=(1, 2), stride=(1, 2), padding=0, dilation=1, ceil_mode=False)\n",
      "    (2): ReLU()\n",
      "  )\n",
      "  (layer2): Sequential(\n",
      "    (0): Conv2d(64, 64, kernel_size=(3, 5), stride=(1, 1), padding=(1, 0))\n",
      "    (1): MaxPool2d(kernel_size=(1, 2), stride=(1, 2), padding=0, dilation=1, ceil_mode=False)\n",
      "    (2): ReLU()\n",
      "  )\n",
      "  (layer3): Sequential(\n",
      "    (0): Conv2d(64, 64, kernel_size=(3, 3), stride=(1, 1), padding=(1, 0))\n",
      "    (1): MaxPool2d(kernel_size=(1, 2), stride=(1, 2), padding=0, dilation=1, ceil_mode=False)\n",
      "    (2): ReLU()\n",
      "  )\n",
      "  (fc1): Sequential(\n",
      "    (0): Linear(in_features=65280, out_features=2, bias=True)\n",
      "  )\n",
      ")\n",
      "Epoch: 0, Loss: 0.5238191\n",
      "Epoch: 1, Loss: 0.4892946\n",
      "Epoch: 2, Loss: 0.3969509\n",
      "Epoch: 3, Loss: 0.3362081\n",
      "Epoch: 4, Loss: 0.2604139\n",
      "Epoch: 5, Loss: 0.2103413\n",
      "Epoch: 6, Loss: 0.1652665\n",
      "Epoch: 7, Loss: 0.1310641\n",
      "Epoch: 8, Loss: 0.0997105\n",
      "Epoch: 9, Loss: 0.0711456\n"
     ]
    }
   ],
   "source": [
    "device = torch.device(\"mps\" if torch.backends.mps.is_available() else \"cpu\")\n",
    "print(\"Device\", device)\n",
    "print(\"batch_size:\",batch)\n",
    "print(\"number of epochs:\",num_epochs)\n",
    "print(\"learning rate:\",learning_rate)\n",
    "print(\"optimizer:\",\"Adam\")\n",
    "print(\"Loss function\",\"Cross Entropy Loss\")\n",
    "model = MfccCNN()\n",
    "model.to(device)\n",
    "model.fc1.register_forward_hook(get_activation('fc1'))\n",
    "# model.fc2.register_forward_hook(get_activation('fc2'))\n",
    "# model.layer4.register_forward_hook(get_activation('layer4'))\n",
    "\n",
    "error = nn.CrossEntropyLoss()\n",
    "optimizer = torch.optim.Adam(model.parameters(), lr=learning_rate)\n",
    "print(model)\n",
    "\n",
    "\n",
    "for epoch in range(10):\n",
    "    for images, labels in trainloader:\n",
    "        # Transfering images and labels to GPU if available\n",
    "        images, labels = images.to(device), labels.to(device)\n",
    "        #print(labels)\n",
    "    \n",
    "        train = images.view(images.shape[0], 1, x_dim, y_dim)\n",
    "        #print(train.shape)\n",
    "        \n",
    "        # Forward pass \n",
    "        outputs = model(train)\n",
    "        loss = error(outputs, labels)\n",
    "        \n",
    "        # Initializing a gradient as 0 so there is no mixing of gradient among the batches\n",
    "        optimizer.zero_grad()\n",
    "        \n",
    "        #Propagating the error backward\n",
    "        loss.backward()\n",
    "        \n",
    "        # Optimizing the parameters\n",
    "        optimizer.step()\n",
    "        \n",
    "    #if epoch==49:\n",
    "    print(\"Epoch: {}, Loss: {:.7f}\".format(epoch, loss.data))"
   ]
  },
  {
   "cell_type": "markdown",
   "id": "96e333a7",
   "metadata": {},
   "source": [
    "# Saving model"
   ]
  },
  {
   "cell_type": "code",
   "execution_count": 165,
   "id": "41bbc818",
   "metadata": {},
   "outputs": [],
   "source": [
    "checkpoint = {'state_dict': model.state_dict()}\n",
    "torch.save(checkpoint, './mfcc.pth')"
   ]
  },
  {
   "cell_type": "markdown",
   "id": "fcf55b5c",
   "metadata": {},
   "source": [
    "# Training Accuracy"
   ]
  },
  {
   "cell_type": "code",
   "execution_count": 166,
   "id": "1cb7638a",
   "metadata": {},
   "outputs": [
    {
     "name": "stdout",
     "output_type": "stream",
     "text": [
      "Train Set Accuracy\n",
      "Accuracy of Not Prog Rock: 93.53%\n",
      "Accuracy of Prog rock: 98.82%\n"
     ]
    }
   ],
   "source": [
    "class_correct = [0. for _ in range(num_classes)]\n",
    "total_correct = [0. for _ in range(num_classes)]\n",
    "\n",
    "with torch.no_grad():\n",
    "    for images, labels in trainloader:\n",
    "        images, labels = images.to(device), labels.to(device)\n",
    "        test = images.view(images.shape[0], 1, x_dim, y_dim)\n",
    "        outputs = model(test)\n",
    "        predicted = torch.max(outputs, 1)[1]\n",
    "        c = (predicted == labels).squeeze()\n",
    "        \n",
    "        for i in range(images.shape[0]):\n",
    "            label = labels[i]\n",
    "            class_correct[label] += c[i].item()\n",
    "            total_correct[label] += 1\n",
    "\n",
    "\n",
    "print(\"Train Set Accuracy\")      \n",
    "for i in range(num_classes):\n",
    "    print(\"Accuracy of {}: {:.2f}%\".format(output_label(i), class_correct[i] * 100 / total_correct[i]))"
   ]
  },
  {
   "cell_type": "code",
   "execution_count": null,
   "id": "67a38148",
   "metadata": {},
   "outputs": [],
   "source": []
  },
  {
   "cell_type": "markdown",
   "id": "a9c497e0",
   "metadata": {},
   "source": [
    "# Saving output of fully connected layer and test accuracy"
   ]
  },
  {
   "cell_type": "code",
   "execution_count": 167,
   "id": "73527c7b",
   "metadata": {},
   "outputs": [
    {
     "name": "stdout",
     "output_type": "stream",
     "text": [
      "Test Set Accuracy\n",
      "Accuracy of Not Prog Rock: 68.41%\n",
      "Accuracy of Prog rock: 88.80%\n"
     ]
    }
   ],
   "source": [
    "class_correct = [0. for _ in range(num_classes)]\n",
    "total_correct = [0. for _ in range(num_classes)]\n",
    "\n",
    "with torch.no_grad():\n",
    "    for images, labels in testloader:\n",
    "        images, labels = images.to(device), labels.to(device)\n",
    "        test = images.view(images.shape[0], 1, x_dim, y_dim)\n",
    "        outputs = model(test)\n",
    "        predicted = torch.max(outputs, 1)[1]\n",
    "        c = (predicted == labels).squeeze()\n",
    "        \n",
    "        for i in range(images.shape[0]):\n",
    "            label = labels[i]\n",
    "            class_correct[label] += c[i].item()\n",
    "            total_correct[label] += 1\n",
    "\n",
    "# Saving different layer outputs\n",
    "\n",
    "output_train_fc1 = []\n",
    "for images, labels in trainloader:\n",
    "        # Transfering images and labels to GPU if available\n",
    "        images, labels = images.to(device), labels.to(device)\n",
    "        train = images.view(images.shape[0], 1, x_dim, y_dim)\n",
    "        outputs = model(train)\n",
    "        output_train_fc1.append(activation[\"fc1\"])\n",
    "        \n",
    "\n",
    "output_test_fc1 = []\n",
    "for images, labels in testloader:\n",
    "        # Transfering images and labels to GPU if available\n",
    "        images, labels = images.to(device), labels.to(device)\n",
    "        test = images.view(images.shape[0], 1, x_dim, y_dim)\n",
    "        outputs = model(test)\n",
    "        output_test_fc1.append(activation[\"fc1\"])\n",
    "\n",
    "\n",
    "print(\"Test Set Accuracy\")      \n",
    "for i in range(num_classes):\n",
    "    print(\"Accuracy of {}: {:.2f}%\".format(output_label(i), class_correct[i] * 100 / total_correct[i]))"
   ]
  },
  {
   "cell_type": "code",
   "execution_count": null,
   "id": "11b36f65",
   "metadata": {},
   "outputs": [],
   "source": []
  },
  {
   "cell_type": "code",
   "execution_count": 168,
   "id": "f0f1761c",
   "metadata": {},
   "outputs": [],
   "source": [
    "all_outputs=[]\n",
    "for j in range(len(output_train_fc1)):\n",
    "    for i in range(len(output_train_fc1[j])):\n",
    "        all_outputs.append(np.array(output_train_fc1[j].detach().cpu()[i]))\n",
    "for j in range(len(output_test_fc1)):\n",
    "    for i in range(len(output_test_fc1[j])):\n",
    "        all_outputs.append(np.array(output_test_fc1[j].detach().cpu()[i]))\n",
    "all_outputs=np.array(all_outputs)\n",
    "\n",
    "df_mfcc=pd.DataFrame(data=all_outputs)\n",
    "# column_dict = {}\n",
    "# for i in range(5,7):\n",
    "#     column_dict[i]='Feature{}'.format(i+1)\n",
    "# df_mfcc=df_mfcc.rename(columns=column_dict)"
   ]
  },
  {
   "cell_type": "code",
   "execution_count": 169,
   "id": "e23f6a9b",
   "metadata": {},
   "outputs": [
    {
     "data": {
      "text/html": [
       "<div>\n",
       "<style scoped>\n",
       "    .dataframe tbody tr th:only-of-type {\n",
       "        vertical-align: middle;\n",
       "    }\n",
       "\n",
       "    .dataframe tbody tr th {\n",
       "        vertical-align: top;\n",
       "    }\n",
       "\n",
       "    .dataframe thead th {\n",
       "        text-align: right;\n",
       "    }\n",
       "</style>\n",
       "<table border=\"1\" class=\"dataframe\">\n",
       "  <thead>\n",
       "    <tr style=\"text-align: right;\">\n",
       "      <th></th>\n",
       "      <th>0</th>\n",
       "      <th>1</th>\n",
       "    </tr>\n",
       "  </thead>\n",
       "  <tbody>\n",
       "    <tr>\n",
       "      <th>0</th>\n",
       "      <td>2.059067</td>\n",
       "      <td>-1.699888</td>\n",
       "    </tr>\n",
       "    <tr>\n",
       "      <th>1</th>\n",
       "      <td>1.057308</td>\n",
       "      <td>-1.669801</td>\n",
       "    </tr>\n",
       "    <tr>\n",
       "      <th>2</th>\n",
       "      <td>-11.311894</td>\n",
       "      <td>12.829426</td>\n",
       "    </tr>\n",
       "    <tr>\n",
       "      <th>3</th>\n",
       "      <td>1.365380</td>\n",
       "      <td>-0.524324</td>\n",
       "    </tr>\n",
       "    <tr>\n",
       "      <th>4</th>\n",
       "      <td>0.275750</td>\n",
       "      <td>-0.415322</td>\n",
       "    </tr>\n",
       "    <tr>\n",
       "      <th>...</th>\n",
       "      <td>...</td>\n",
       "      <td>...</td>\n",
       "    </tr>\n",
       "    <tr>\n",
       "      <th>7961</th>\n",
       "      <td>-0.105682</td>\n",
       "      <td>-0.168393</td>\n",
       "    </tr>\n",
       "    <tr>\n",
       "      <th>7962</th>\n",
       "      <td>1.484818</td>\n",
       "      <td>-1.296433</td>\n",
       "    </tr>\n",
       "    <tr>\n",
       "      <th>7963</th>\n",
       "      <td>1.550550</td>\n",
       "      <td>-1.507257</td>\n",
       "    </tr>\n",
       "    <tr>\n",
       "      <th>7964</th>\n",
       "      <td>0.271451</td>\n",
       "      <td>0.290763</td>\n",
       "    </tr>\n",
       "    <tr>\n",
       "      <th>7965</th>\n",
       "      <td>-1.749931</td>\n",
       "      <td>-0.080431</td>\n",
       "    </tr>\n",
       "  </tbody>\n",
       "</table>\n",
       "<p>7966 rows × 2 columns</p>\n",
       "</div>"
      ],
      "text/plain": [
       "              0          1\n",
       "0      2.059067  -1.699888\n",
       "1      1.057308  -1.669801\n",
       "2    -11.311894  12.829426\n",
       "3      1.365380  -0.524324\n",
       "4      0.275750  -0.415322\n",
       "...         ...        ...\n",
       "7961  -0.105682  -0.168393\n",
       "7962   1.484818  -1.296433\n",
       "7963   1.550550  -1.507257\n",
       "7964   0.271451   0.290763\n",
       "7965  -1.749931  -0.080431\n",
       "\n",
       "[7966 rows x 2 columns]"
      ]
     },
     "execution_count": 169,
     "metadata": {},
     "output_type": "execute_result"
    }
   ],
   "source": [
    "df_mfcc"
   ]
  },
  {
   "cell_type": "code",
   "execution_count": 170,
   "id": "475541aa",
   "metadata": {},
   "outputs": [],
   "source": [
    "df_mfcc['label']=labels_save_array\n",
    "df_mfcc.to_csv('mfcc.csv',index=False)"
   ]
  },
  {
   "cell_type": "code",
   "execution_count": null,
   "id": "80fc0a0e",
   "metadata": {},
   "outputs": [],
   "source": []
  },
  {
   "cell_type": "markdown",
   "id": "8a0645b1",
   "metadata": {},
   "source": [
    "# Modeling with Fourier Tempogram"
   ]
  },
  {
   "cell_type": "code",
   "execution_count": 171,
   "id": "f3930a37",
   "metadata": {},
   "outputs": [],
   "source": [
    "data = np.load('tempogram_fourier.npz')['arr_0']\n",
    "x_dim = data.shape[1]\n",
    "y_dim = data.shape[2]\n",
    "\n",
    "X_train = []\n",
    "X_test = []\n",
    "for indice in all_indices[:train_size]:\n",
    "    X_train.append(data[indice])\n",
    "for indice in all_indices[train_size:]:\n",
    "    X_test.append(data[indice])\n",
    "X_train = np.array(X_train)\n",
    "y_train = np.array(y_train)\n",
    "X_test = np.array(X_test)\n",
    "y_test = np.array(y_test)\n",
    "\n",
    "tensor_X_train = torch.Tensor(X_train) \n",
    "tensor_y_train = torch.Tensor(y_train)\n",
    "tensor_y_train=tensor_y_train.long()\n",
    "\n",
    "traindataset = TensorDataset(tensor_X_train,tensor_y_train)\n",
    "trainloader = DataLoader(traindataset,batch_size=batch,shuffle=False)\n",
    "\n",
    "tensor_X_test = torch.Tensor(X_test) \n",
    "tensor_y_test = torch.Tensor(y_test)\n",
    "tensor_y_test=tensor_y_test.long()\n",
    "\n",
    "\n",
    "testdataset = TensorDataset(tensor_X_test,tensor_y_test)\n",
    "testloader = DataLoader(testdataset,batch_size=batch,shuffle=False)"
   ]
  },
  {
   "cell_type": "code",
   "execution_count": null,
   "id": "3e0456b6",
   "metadata": {},
   "outputs": [],
   "source": []
  },
  {
   "cell_type": "code",
   "execution_count": 172,
   "id": "71f58d13",
   "metadata": {},
   "outputs": [],
   "source": [
    "class FourierCNN(nn.Module):   \n",
    "    def __init__(self):\n",
    "        super(FourierCNN, self).__init__()\n",
    "        \n",
    "        self.layer1 = nn.Sequential(\n",
    "            nn.Conv2d(in_channels=1, out_channels=64, kernel_size=3),\n",
    "            nn.MaxPool2d(kernel_size=2, stride=2),\n",
    "            nn.ReLU()\n",
    "        )\n",
    "        \n",
    "        self.layer2 = nn.Sequential(\n",
    "            nn.Conv2d(in_channels=64, out_channels=64, kernel_size=(3,5)),\n",
    "            nn.MaxPool2d(kernel_size=2, stride=2),\n",
    "            nn.ReLU()\n",
    "        )\n",
    "        \n",
    "        self.layer3 = nn.Sequential(\n",
    "            nn.Conv2d(in_channels=64, out_channels=64, kernel_size=3),\n",
    "            nn.MaxPool2d(kernel_size=2, stride=2),\n",
    "            nn.ReLU()\n",
    "        )\n",
    "        \n",
    "        \n",
    "        \n",
    "        self.fc1 = nn.Sequential(\n",
    "            nn.Linear(in_features=64*22*51, out_features=2)\n",
    "        )\n",
    "\n",
    "        \n",
    "    def forward(self, x):\n",
    "        out = self.layer1(x)\n",
    "        out = self.layer2(out)\n",
    "        out = self.layer3(out)\n",
    "        out = out.view(out.size(0), -1)\n",
    "        out = self.fc1(out)\n",
    "        return out\n",
    "\n",
    "#Code to pull the intermediary layers\n",
    "activation = {}\n",
    "def get_activation(name):\n",
    "    def hook(model, input, output):\n",
    "        activation[name] = output.detach()\n",
    "    return hook"
   ]
  },
  {
   "cell_type": "code",
   "execution_count": 173,
   "id": "d74e4c20",
   "metadata": {},
   "outputs": [
    {
     "data": {
      "text/plain": [
       "(7966, 193, 432)"
      ]
     },
     "execution_count": 173,
     "metadata": {},
     "output_type": "execute_result"
    }
   ],
   "source": [
    "data.shape"
   ]
  },
  {
   "cell_type": "code",
   "execution_count": 174,
   "id": "6b2c6390",
   "metadata": {},
   "outputs": [
    {
     "name": "stdout",
     "output_type": "stream",
     "text": [
      "Device mps\n",
      "batch_size: 100\n",
      "number of epochs: 10\n",
      "learning rate: 0.0001\n",
      "optimizer: Adam\n",
      "Loss function Cross Entropy Loss\n",
      "FourierCNN(\n",
      "  (layer1): Sequential(\n",
      "    (0): Conv2d(1, 64, kernel_size=(3, 3), stride=(1, 1))\n",
      "    (1): MaxPool2d(kernel_size=2, stride=2, padding=0, dilation=1, ceil_mode=False)\n",
      "    (2): ReLU()\n",
      "  )\n",
      "  (layer2): Sequential(\n",
      "    (0): Conv2d(64, 64, kernel_size=(3, 5), stride=(1, 1))\n",
      "    (1): MaxPool2d(kernel_size=2, stride=2, padding=0, dilation=1, ceil_mode=False)\n",
      "    (2): ReLU()\n",
      "  )\n",
      "  (layer3): Sequential(\n",
      "    (0): Conv2d(64, 64, kernel_size=(3, 3), stride=(1, 1))\n",
      "    (1): MaxPool2d(kernel_size=2, stride=2, padding=0, dilation=1, ceil_mode=False)\n",
      "    (2): ReLU()\n",
      "  )\n",
      "  (fc1): Sequential(\n",
      "    (0): Linear(in_features=71808, out_features=2, bias=True)\n",
      "  )\n",
      ")\n",
      "Epoch: 0, Loss: 0.5637505\n",
      "Epoch: 1, Loss: 0.5167858\n",
      "Epoch: 2, Loss: 0.4346141\n",
      "Epoch: 3, Loss: 0.3907695\n",
      "Epoch: 4, Loss: 0.3576892\n",
      "Epoch: 5, Loss: 0.3479774\n",
      "Epoch: 6, Loss: 0.3257057\n",
      "Epoch: 7, Loss: 0.3113381\n",
      "Epoch: 8, Loss: 0.3114338\n",
      "Epoch: 9, Loss: 0.2746608\n"
     ]
    }
   ],
   "source": [
    "device = torch.device(\"mps\" if torch.backends.mps.is_available() else \"cpu\")\n",
    "print(\"Device\", device)\n",
    "print(\"batch_size:\",batch)\n",
    "print(\"number of epochs:\",num_epochs)\n",
    "print(\"learning rate:\",learning_rate)\n",
    "print(\"optimizer:\",\"Adam\")\n",
    "print(\"Loss function\",\"Cross Entropy Loss\")\n",
    "model = FourierCNN()\n",
    "model.to(device)\n",
    "model.fc1.register_forward_hook(get_activation('fc1'))\n",
    "# model.fc2.register_forward_hook(get_activation('fc2'))\n",
    "# model.layer4.register_forward_hook(get_activation('layer4'))\n",
    "\n",
    "error = nn.CrossEntropyLoss()\n",
    "optimizer = torch.optim.Adam(model.parameters(), lr=learning_rate)\n",
    "print(model)\n",
    "\n",
    "\n",
    "for epoch in range(10):\n",
    "    for images, labels in trainloader:\n",
    "        # Transfering images and labels to GPU if available\n",
    "        images, labels = images.to(device), labels.to(device)\n",
    "        #print(labels)\n",
    "    \n",
    "        train = images.view(images.shape[0], 1, x_dim, y_dim)\n",
    "        #print(train.shape)\n",
    "        \n",
    "        # Forward pass \n",
    "        outputs = model(train)\n",
    "        loss = error(outputs, labels)\n",
    "        \n",
    "        # Initializing a gradient as 0 so there is no mixing of gradient among the batches\n",
    "        optimizer.zero_grad()\n",
    "        \n",
    "        #Propagating the error backward\n",
    "        loss.backward()\n",
    "        \n",
    "        # Optimizing the parameters\n",
    "        optimizer.step()\n",
    "        \n",
    "    #if epoch==49:\n",
    "    print(\"Epoch: {}, Loss: {:.7f}\".format(epoch, loss.data))"
   ]
  },
  {
   "cell_type": "markdown",
   "id": "e1b6cef2",
   "metadata": {},
   "source": [
    "# Saving model"
   ]
  },
  {
   "cell_type": "code",
   "execution_count": 175,
   "id": "0eb17258",
   "metadata": {},
   "outputs": [],
   "source": [
    "checkpoint = {'state_dict': model.state_dict()}\n",
    "torch.save(checkpoint, './fourier_tempogram.pth')"
   ]
  },
  {
   "cell_type": "markdown",
   "id": "2d40f766",
   "metadata": {},
   "source": [
    "# Training Accuracy"
   ]
  },
  {
   "cell_type": "code",
   "execution_count": 176,
   "id": "c9a13249",
   "metadata": {},
   "outputs": [
    {
     "name": "stdout",
     "output_type": "stream",
     "text": [
      "Train Set Accuracy\n",
      "Accuracy of Not Prog Rock: 78.25%\n",
      "Accuracy of Prog rock: 94.00%\n"
     ]
    }
   ],
   "source": [
    "class_correct = [0. for _ in range(num_classes)]\n",
    "total_correct = [0. for _ in range(num_classes)]\n",
    "\n",
    "with torch.no_grad():\n",
    "    for images, labels in trainloader:\n",
    "        images, labels = images.to(device), labels.to(device)\n",
    "        test = images.view(images.shape[0], 1, x_dim, y_dim)\n",
    "        outputs = model(test)\n",
    "        predicted = torch.max(outputs, 1)[1]\n",
    "        c = (predicted == labels).squeeze()\n",
    "        \n",
    "        for i in range(images.shape[0]):\n",
    "            label = labels[i]\n",
    "            class_correct[label] += c[i].item()\n",
    "            total_correct[label] += 1\n",
    "\n",
    "\n",
    "print(\"Train Set Accuracy\")      \n",
    "for i in range(num_classes):\n",
    "    print(\"Accuracy of {}: {:.2f}%\".format(output_label(i), class_correct[i] * 100 / total_correct[i]))"
   ]
  },
  {
   "cell_type": "code",
   "execution_count": null,
   "id": "076c2121",
   "metadata": {},
   "outputs": [],
   "source": []
  },
  {
   "cell_type": "markdown",
   "id": "fa94a787",
   "metadata": {},
   "source": [
    "# Saving output of fully connected layer and test accuracy"
   ]
  },
  {
   "cell_type": "code",
   "execution_count": 177,
   "id": "b0d613b7",
   "metadata": {},
   "outputs": [
    {
     "name": "stdout",
     "output_type": "stream",
     "text": [
      "Test Set Accuracy\n",
      "Accuracy of Not Prog Rock: 58.95%\n",
      "Accuracy of Prog rock: 86.65%\n"
     ]
    }
   ],
   "source": [
    "class_correct = [0. for _ in range(num_classes)]\n",
    "total_correct = [0. for _ in range(num_classes)]\n",
    "\n",
    "with torch.no_grad():\n",
    "    for images, labels in testloader:\n",
    "        images, labels = images.to(device), labels.to(device)\n",
    "        test = images.view(images.shape[0], 1, x_dim, y_dim)\n",
    "        outputs = model(test)\n",
    "        predicted = torch.max(outputs, 1)[1]\n",
    "        c = (predicted == labels).squeeze()\n",
    "        \n",
    "        for i in range(images.shape[0]):\n",
    "            label = labels[i]\n",
    "            class_correct[label] += c[i].item()\n",
    "            total_correct[label] += 1\n",
    "\n",
    "# Saving different layer outputs\n",
    "\n",
    "output_train_fc1 = []\n",
    "for images, labels in trainloader:\n",
    "        # Transfering images and labels to GPU if available\n",
    "        images, labels = images.to(device), labels.to(device)\n",
    "        train = images.view(images.shape[0], 1, x_dim, y_dim)\n",
    "        outputs = model(train)\n",
    "        output_train_fc1.append(activation[\"fc1\"])\n",
    "        \n",
    "\n",
    "output_test_fc1 = []\n",
    "for images, labels in testloader:\n",
    "        # Transfering images and labels to GPU if available\n",
    "        images, labels = images.to(device), labels.to(device)\n",
    "        test = images.view(images.shape[0], 1, x_dim, y_dim)\n",
    "        outputs = model(test)\n",
    "        output_test_fc1.append(activation[\"fc1\"])\n",
    "\n",
    "\n",
    "print(\"Test Set Accuracy\")      \n",
    "for i in range(num_classes):\n",
    "    print(\"Accuracy of {}: {:.2f}%\".format(output_label(i), class_correct[i] * 100 / total_correct[i]))"
   ]
  },
  {
   "cell_type": "code",
   "execution_count": 178,
   "id": "75f6215d",
   "metadata": {},
   "outputs": [],
   "source": [
    "all_outputs=[]\n",
    "for j in range(len(output_train_fc1)):\n",
    "    for i in range(len(output_train_fc1[j])):\n",
    "        all_outputs.append(np.array(output_train_fc1[j].detach().cpu()[i]))\n",
    "for j in range(len(output_test_fc1)):\n",
    "    for i in range(len(output_test_fc1[j])):\n",
    "        all_outputs.append(np.array(output_test_fc1[j].detach().cpu()[i]))\n",
    "all_outputs=np.array(all_outputs)\n",
    "\n",
    "df_fourier_tempogram=pd.DataFrame(data=all_outputs)\n",
    "# column_dict = {}\n",
    "# for i in range(7,9):\n",
    "#     column_dict[i]='Feature{}'.format(i+1)\n",
    "# df_fourier_tempogram=df_fourier_tempogram.rename(columns=column_dict)"
   ]
  },
  {
   "cell_type": "code",
   "execution_count": null,
   "id": "37edd1f9",
   "metadata": {},
   "outputs": [],
   "source": []
  },
  {
   "cell_type": "code",
   "execution_count": 179,
   "id": "59c8af9b",
   "metadata": {},
   "outputs": [],
   "source": [
    "df_fourier_tempogram['label']=labels_save_array\n",
    "df_fourier_tempogram.to_csv('fourier_tempogram.csv',index=False)"
   ]
  },
  {
   "cell_type": "code",
   "execution_count": null,
   "id": "1d62fd2b",
   "metadata": {},
   "outputs": [],
   "source": []
  },
  {
   "cell_type": "markdown",
   "id": "dbfd29e9",
   "metadata": {},
   "source": [
    "# Predictions"
   ]
  },
  {
   "cell_type": "code",
   "execution_count": 180,
   "id": "63b78733",
   "metadata": {},
   "outputs": [
    {
     "data": {
      "text/plain": [
       "<All keys matched successfully>"
      ]
     },
     "execution_count": 180,
     "metadata": {},
     "output_type": "execute_result"
    }
   ],
   "source": [
    "loaded_model_spectrogram = SpectrogramCNN()\n",
    "state_dict = torch.load('spectrogram.pth')['state_dict']\n",
    "loaded_model_spectrogram.load_state_dict(state_dict)"
   ]
  },
  {
   "cell_type": "code",
   "execution_count": null,
   "id": "fd33e964",
   "metadata": {},
   "outputs": [],
   "source": []
  },
  {
   "cell_type": "code",
   "execution_count": 308,
   "id": "68f9dd17",
   "metadata": {},
   "outputs": [],
   "source": [
    "# Params\n",
    "spectrogram_list = []\n",
    "chromagram_list = []\n",
    "mfcc_list = []\n",
    "tempogram_fourier = []\n",
    "\n",
    "segment_length = 5 # Snippets in each track considered\n",
    "# rp% of the spectral energy lies below the value of spectral rolloff\n",
    "roll_percent = 0.85\n",
    "sr = 44100 # Sampling rate - 22 kHz\n",
    "filename = \"/Users/sainikhil/Downloads/Machine Learning/Project 2/cap6610fa22_training_set/Progressive_Rock_Songs/Pain of Salvation - The Perfect Element I - 02. In the Flesh.mp3\"\n",
    "\n",
    "x , sr = librosa.load(filename, sr=sr)\n",
    "\n",
    "# Print track and genre\n",
    "#print(\"Done\")\n",
    "\n",
    "# compute number of 30sec audio segments\n",
    "num_segments = int(len(x)/(sr*segment_length))\n",
    "\n",
    "\n",
    "# Create segment list\n",
    "segments = np.arange(4,num_segments-4,1,dtype=int)\n",
    "\n",
    "for segment in segments:\n",
    "    x, sr = librosa.load(filename, sr=sr, offset=segment_length*segment, duration=segment_length)\n",
    "    \n",
    "    \n",
    "    #Spectrogram\n",
    "    melspectrogram = librosa.feature.melspectrogram(y=x, sr=sr, n_fft=4096)\n",
    "    log_mel_spectrogram = librosa.power_to_db(melspectrogram)\n",
    "    spectrogram_list.append(log_mel_spectrogram)\n",
    "    \n",
    "    #Chromagram\n",
    "    chromagram = librosa.feature.chroma_stft(y=x, sr=sr, S=None, n_fft=2048,\n",
    "                                                hop_length=512, win_length=None, window='hann', center=True,\n",
    "                                                pad_mode='constant', tuning=None, n_chroma=12)\n",
    "    chromagram_list.append(chromagram)\n",
    "\n",
    "    # mfccs\n",
    "    mfccs = librosa.feature.mfcc(y=x, sr=sr)\n",
    "    mfcc_list.append(mfccs)\n",
    "\n",
    "\n",
    "    # Fourier tempogram\n",
    "    oenv = librosa.onset.onset_strength(y=x, sr=sr)\n",
    "    fourier_tempogram = librosa.feature.fourier_tempogram(onset_envelope=oenv, sr=sr)\n",
    "    tempogram_fourier.append(fourier_tempogram)\n",
    "                \n",
    "spectrogram_array = np.array(spectrogram_list)\n",
    "chromagram_array = np.array(chromagram_list)\n",
    "mfcc_array = np.array(mfcc_list)\n",
    "tempogram_fourier_array = np.array(tempogram_fourier)"
   ]
  },
  {
   "cell_type": "code",
   "execution_count": null,
   "id": "ee94c901",
   "metadata": {},
   "outputs": [],
   "source": []
  },
  {
   "cell_type": "code",
   "execution_count": 303,
   "id": "08de1215",
   "metadata": {},
   "outputs": [
    {
     "name": "stderr",
     "output_type": "stream",
     "text": [
      "/var/folders/b7/xyl_ztjs1sb1072vbvkjzyx80000gn/T/ipykernel_49320/786134775.py:74: UserWarning: To copy construct from a tensor, it is recommended to use sourceTensor.clone().detach() or sourceTensor.clone().detach().requires_grad_(True), rather than torch.tensor(sourceTensor).\n",
      "  train2 = torch.tensor(train,dtype=torch.float32)\n"
     ]
    }
   ],
   "source": [
    "output_test_fc1 = []\n",
    "device = torch.device(\"mps\" if torch.backends.mps.is_available() else \"cpu\")\n",
    "\n",
    "# Saving output of fully connected layer of Spectrogram\n",
    "loaded_model_spectrogram = SpectrogramCNN()\n",
    "state_dict = torch.load('spectrogram.pth')['state_dict']\n",
    "loaded_model_spectrogram.load_state_dict(state_dict)\n",
    "loaded_model_spectrogram.to(device)\n",
    "loaded_model_spectrogram.fc1.register_forward_hook(get_activation('fc1'))\n",
    "\n",
    "\n",
    "with torch.no_grad():\n",
    "    x_dim = 128\n",
    "    y_dim = 431\n",
    "    images = spectrogram_array\n",
    "    images = torch.tensor(images)\n",
    "    train = images.view(images.shape[0], 1, x_dim, y_dim)\n",
    "    train = train.to(device)\n",
    "    outputs = loaded_model_spectrogram(train)\n",
    "    output_test_fc1.append(activation[\"fc1\"])\n",
    "\n",
    "\n",
    "# Saving output of fully connected layer of Chromagram\n",
    "loaded_model_chromagram = ChromagramCNN()\n",
    "state_dict = torch.load('chromagram.pth')['state_dict']\n",
    "loaded_model_chromagram.load_state_dict(state_dict)\n",
    "loaded_model_chromagram.to(device)\n",
    "loaded_model_chromagram.fc1.register_forward_hook(get_activation('fc1'))\n",
    "\n",
    "\n",
    "with torch.no_grad():\n",
    "    x_dim = 12\n",
    "    y_dim = 431\n",
    "    images = chromagram_array\n",
    "    images = torch.tensor(images)\n",
    "    train = images.view(images.shape[0], 1, x_dim, y_dim)\n",
    "    train = train.to(device)\n",
    "    outputs = loaded_model_chromagram(train)\n",
    "    output_test_fc1.append(activation[\"fc1\"])\n",
    "\n",
    "# Saving output of fully connected layer of MFCC\n",
    "loaded_model_mfcc = MfccCNN()\n",
    "state_dict = torch.load('mfcc.pth')['state_dict']\n",
    "loaded_model_mfcc.load_state_dict(state_dict)\n",
    "loaded_model_mfcc.to(device)\n",
    "loaded_model_mfcc.fc1.register_forward_hook(get_activation('fc1'))\n",
    "\n",
    "\n",
    "with torch.no_grad():\n",
    "    x_dim = 20\n",
    "    y_dim = 431\n",
    "    images = mfcc_array\n",
    "    images = torch.tensor(images)\n",
    "    train = images.view(images.shape[0], 1, x_dim, y_dim)\n",
    "    train = train.to(device)\n",
    "    outputs = loaded_model_mfcc(train)\n",
    "    output_test_fc1.append(activation[\"fc1\"])\n",
    "\n",
    "# Saving output of fully connected layer of Fourier Tempogram\n",
    "#device='cpu'\n",
    "loaded_model_fourier_tempogram = FourierCNN()\n",
    "state_dict = torch.load('fourier_tempogram.pth')['state_dict']\n",
    "loaded_model_fourier_tempogram.load_state_dict(state_dict)\n",
    "loaded_model_fourier_tempogram.to(device)\n",
    "loaded_model_fourier_tempogram.fc1.register_forward_hook(get_activation('fc1'))\n",
    "\n",
    "\n",
    "with torch.no_grad():\n",
    "    x_dim = 193\n",
    "    y_dim = 432\n",
    "    images = tempogram_fourier_array\n",
    "    images = torch.tensor(images)\n",
    "    train = images.view(images.shape[0], 1, x_dim, y_dim)\n",
    "    train2 = torch.tensor(train,dtype=torch.float32)\n",
    "    train2 = train2.to(device)\n",
    "    outputs = loaded_model_fourier_tempogram(train2)\n",
    "    output_test_fc1.append(activation[\"fc1\"])"
   ]
  },
  {
   "cell_type": "code",
   "execution_count": null,
   "id": "2e94d172",
   "metadata": {},
   "outputs": [],
   "source": []
  },
  {
   "cell_type": "markdown",
   "id": "65e9a3e6",
   "metadata": {},
   "source": [
    "Feature1, Feature2 are from spectrogram\n",
    "\n",
    "Feature3, Feature4 are from chromagram\n",
    "\n",
    "Feature5, Feature6 are from mfcc\n",
    "\n",
    "Feature7, Feature8 are from fourier tempogram"
   ]
  },
  {
   "cell_type": "code",
   "execution_count": 59,
   "id": "80bb5a93",
   "metadata": {},
   "outputs": [],
   "source": [
    "df = pd.read_csv('spectrogram.csv')"
   ]
  },
  {
   "cell_type": "code",
   "execution_count": 60,
   "id": "776382cc",
   "metadata": {},
   "outputs": [
    {
     "data": {
      "text/html": [
       "<div>\n",
       "<style scoped>\n",
       "    .dataframe tbody tr th:only-of-type {\n",
       "        vertical-align: middle;\n",
       "    }\n",
       "\n",
       "    .dataframe tbody tr th {\n",
       "        vertical-align: top;\n",
       "    }\n",
       "\n",
       "    .dataframe thead th {\n",
       "        text-align: right;\n",
       "    }\n",
       "</style>\n",
       "<table border=\"1\" class=\"dataframe\">\n",
       "  <thead>\n",
       "    <tr style=\"text-align: right;\">\n",
       "      <th></th>\n",
       "      <th>Feature1</th>\n",
       "      <th>Feature2</th>\n",
       "      <th>Feature3</th>\n",
       "      <th>Feature4</th>\n",
       "      <th>Feature5</th>\n",
       "      <th>Feature6</th>\n",
       "      <th>Feature7</th>\n",
       "      <th>Feature8</th>\n",
       "      <th>label</th>\n",
       "    </tr>\n",
       "  </thead>\n",
       "  <tbody>\n",
       "    <tr>\n",
       "      <th>0</th>\n",
       "      <td>1.769813</td>\n",
       "      <td>-0.892365</td>\n",
       "      <td>2.279249</td>\n",
       "      <td>-2.060477</td>\n",
       "      <td>1.382306</td>\n",
       "      <td>-0.659354</td>\n",
       "      <td>5.530251</td>\n",
       "      <td>-3.936052</td>\n",
       "      <td>0</td>\n",
       "    </tr>\n",
       "    <tr>\n",
       "      <th>1</th>\n",
       "      <td>0.691573</td>\n",
       "      <td>0.017698</td>\n",
       "      <td>1.142589</td>\n",
       "      <td>-1.403917</td>\n",
       "      <td>0.642756</td>\n",
       "      <td>-1.032157</td>\n",
       "      <td>0.138073</td>\n",
       "      <td>0.214382</td>\n",
       "      <td>0</td>\n",
       "    </tr>\n",
       "    <tr>\n",
       "      <th>2</th>\n",
       "      <td>-3.298020</td>\n",
       "      <td>3.867458</td>\n",
       "      <td>-2.051159</td>\n",
       "      <td>1.767512</td>\n",
       "      <td>-16.259651</td>\n",
       "      <td>17.907198</td>\n",
       "      <td>-2.680306</td>\n",
       "      <td>2.704731</td>\n",
       "      <td>1</td>\n",
       "    </tr>\n",
       "    <tr>\n",
       "      <th>3</th>\n",
       "      <td>1.228543</td>\n",
       "      <td>-0.069084</td>\n",
       "      <td>1.247297</td>\n",
       "      <td>-1.886493</td>\n",
       "      <td>1.169763</td>\n",
       "      <td>-0.590005</td>\n",
       "      <td>0.046369</td>\n",
       "      <td>0.061320</td>\n",
       "      <td>0</td>\n",
       "    </tr>\n",
       "    <tr>\n",
       "      <th>4</th>\n",
       "      <td>1.304672</td>\n",
       "      <td>-0.928618</td>\n",
       "      <td>1.962691</td>\n",
       "      <td>-1.987120</td>\n",
       "      <td>0.317284</td>\n",
       "      <td>-0.148242</td>\n",
       "      <td>0.907161</td>\n",
       "      <td>0.584621</td>\n",
       "      <td>0</td>\n",
       "    </tr>\n",
       "    <tr>\n",
       "      <th>...</th>\n",
       "      <td>...</td>\n",
       "      <td>...</td>\n",
       "      <td>...</td>\n",
       "      <td>...</td>\n",
       "      <td>...</td>\n",
       "      <td>...</td>\n",
       "      <td>...</td>\n",
       "      <td>...</td>\n",
       "      <td>...</td>\n",
       "    </tr>\n",
       "    <tr>\n",
       "      <th>7961</th>\n",
       "      <td>-0.854711</td>\n",
       "      <td>1.707785</td>\n",
       "      <td>0.313657</td>\n",
       "      <td>-0.113813</td>\n",
       "      <td>-0.465890</td>\n",
       "      <td>1.007331</td>\n",
       "      <td>-0.725872</td>\n",
       "      <td>0.879664</td>\n",
       "      <td>1</td>\n",
       "    </tr>\n",
       "    <tr>\n",
       "      <th>7962</th>\n",
       "      <td>1.016944</td>\n",
       "      <td>-0.708170</td>\n",
       "      <td>1.324575</td>\n",
       "      <td>-1.718325</td>\n",
       "      <td>0.125760</td>\n",
       "      <td>0.004079</td>\n",
       "      <td>1.721415</td>\n",
       "      <td>-1.184145</td>\n",
       "      <td>0</td>\n",
       "    </tr>\n",
       "    <tr>\n",
       "      <th>7963</th>\n",
       "      <td>1.021482</td>\n",
       "      <td>1.194517</td>\n",
       "      <td>-1.088494</td>\n",
       "      <td>0.832456</td>\n",
       "      <td>0.874150</td>\n",
       "      <td>-1.263929</td>\n",
       "      <td>-0.140281</td>\n",
       "      <td>0.506388</td>\n",
       "      <td>1</td>\n",
       "    </tr>\n",
       "    <tr>\n",
       "      <th>7964</th>\n",
       "      <td>-1.158176</td>\n",
       "      <td>1.590503</td>\n",
       "      <td>-0.639704</td>\n",
       "      <td>0.595209</td>\n",
       "      <td>-1.215676</td>\n",
       "      <td>0.899299</td>\n",
       "      <td>-1.242446</td>\n",
       "      <td>1.870675</td>\n",
       "      <td>1</td>\n",
       "    </tr>\n",
       "    <tr>\n",
       "      <th>7965</th>\n",
       "      <td>0.102891</td>\n",
       "      <td>-0.511675</td>\n",
       "      <td>0.760105</td>\n",
       "      <td>-0.862077</td>\n",
       "      <td>0.072752</td>\n",
       "      <td>0.440855</td>\n",
       "      <td>-0.221556</td>\n",
       "      <td>0.801482</td>\n",
       "      <td>0</td>\n",
       "    </tr>\n",
       "  </tbody>\n",
       "</table>\n",
       "<p>7966 rows × 9 columns</p>\n",
       "</div>"
      ],
      "text/plain": [
       "      Feature1  Feature2  Feature3  Feature4   Feature5   Feature6  Feature7  \\\n",
       "0     1.769813 -0.892365  2.279249 -2.060477   1.382306  -0.659354  5.530251   \n",
       "1     0.691573  0.017698  1.142589 -1.403917   0.642756  -1.032157  0.138073   \n",
       "2    -3.298020  3.867458 -2.051159  1.767512 -16.259651  17.907198 -2.680306   \n",
       "3     1.228543 -0.069084  1.247297 -1.886493   1.169763  -0.590005  0.046369   \n",
       "4     1.304672 -0.928618  1.962691 -1.987120   0.317284  -0.148242  0.907161   \n",
       "...        ...       ...       ...       ...        ...        ...       ...   \n",
       "7961 -0.854711  1.707785  0.313657 -0.113813  -0.465890   1.007331 -0.725872   \n",
       "7962  1.016944 -0.708170  1.324575 -1.718325   0.125760   0.004079  1.721415   \n",
       "7963  1.021482  1.194517 -1.088494  0.832456   0.874150  -1.263929 -0.140281   \n",
       "7964 -1.158176  1.590503 -0.639704  0.595209  -1.215676   0.899299 -1.242446   \n",
       "7965  0.102891 -0.511675  0.760105 -0.862077   0.072752   0.440855 -0.221556   \n",
       "\n",
       "      Feature8  label  \n",
       "0    -3.936052      0  \n",
       "1     0.214382      0  \n",
       "2     2.704731      1  \n",
       "3     0.061320      0  \n",
       "4     0.584621      0  \n",
       "...        ...    ...  \n",
       "7961  0.879664      1  \n",
       "7962 -1.184145      0  \n",
       "7963  0.506388      1  \n",
       "7964  1.870675      1  \n",
       "7965  0.801482      0  \n",
       "\n",
       "[7966 rows x 9 columns]"
      ]
     },
     "execution_count": 60,
     "metadata": {},
     "output_type": "execute_result"
    }
   ],
   "source": [
    "df"
   ]
  },
  {
   "cell_type": "code",
   "execution_count": 65,
   "id": "f48408e5",
   "metadata": {},
   "outputs": [
    {
     "data": {
      "text/plain": [
       "<matplotlib.collections.PathCollection at 0x7fbb01151fa0>"
      ]
     },
     "execution_count": 65,
     "metadata": {},
     "output_type": "execute_result"
    },
    {
     "data": {
      "image/png": "[encoded data removed]",
      "text/plain": [
       "<Figure size 640x480 with 1 Axes>"
      ]
     },
     "metadata": {},
     "output_type": "display_data"
    }
   ],
   "source": [
    "plt.scatter(df['Feature1'],df['Feature2'],c='r')\n",
    "plt.scatter(df['Feature3'],df['Feature4'],c='b')\n",
    "plt.scatter(df['Feature5'],df['Feature6'],c='g')\n",
    "plt.scatter(df['Feature7'],df['Feature8'],c='k')"
   ]
  },
  {
   "cell_type": "code",
   "execution_count": 95,
   "id": "8229b739",
   "metadata": {},
   "outputs": [
    {
     "data": {
      "image/png": "[encoded data removed]",
      "text/plain": [
       "<Figure size 800x800 with 1 Axes>"
      ]
     },
     "metadata": {},
     "output_type": "display_data"
    }
   ],
   "source": [
    "import matplotlib\n",
    "fig = plt.figure(figsize=(8,8))\n",
    "labels = ['Spectrogram_Not prog rock','Spectrogram_prog rock',\n",
    "         'Chromagram_Not prog rock','Chromagram_prog rock',\n",
    "         'Mfcc_Not prog rock','Mfcc_prog rock',\n",
    "         'Fourier_temogram_Not prog rock','Fourier_temogram_prog rock']\n",
    "colors = ['red','green']\n",
    "scatter_spectrogram = plt.scatter(df['Feature1'],df['Feature2'], c=df['label'], cmap=matplotlib.colors.ListedColormap(colors))\n",
    "colors = ['purple','brown']\n",
    "scatter_chromagram = plt.scatter(df['Feature3'],df['Feature4'], c=df['label'], cmap=matplotlib.colors.ListedColormap(colors))\n",
    "colors = ['violet','salmon']\n",
    "scatter_mfcc = plt.scatter(df['Feature5'],df['Feature6'], c=df['label'], cmap=matplotlib.colors.ListedColormap(colors))\n",
    "colors = ['olive','dimgray']\n",
    "scatter_fourier = plt.scatter(df['Feature7'],df['Feature8'], c=df['label'], cmap=matplotlib.colors.ListedColormap(colors))\n",
    "plt.legend(handles=scatter_spectrogram.legend_elements()[0]\n",
    "           +scatter_chromagram.legend_elements()[0]\n",
    "           +scatter_mfcc.legend_elements()[0]\n",
    "           +scatter_fourier.legend_elements()[0], \n",
    "           labels=labels,\n",
    "           title=\"CNN Feature Extraction\")\n",
    "plt.show()"
   ]
  },
  {
   "cell_type": "code",
   "execution_count": null,
   "id": "87219346",
   "metadata": {},
   "outputs": [],
   "source": []
  },
  {
   "cell_type": "code",
   "execution_count": 96,
   "id": "d7f3a71b",
   "metadata": {},
   "outputs": [
    {
     "data": {
      "image/png": "[encoded data removed]",
      "text/plain": [
       "<Figure size 640x480 with 1 Axes>"
      ]
     },
     "metadata": {},
     "output_type": "display_data"
    }
   ],
   "source": [
    "colors = ['red','green']\n",
    "labels = ['Spectrogram_Not prog rock','Spectrogram_prog rock']\n",
    "scatter_spectrogram = plt.scatter(df['Feature1'],df['Feature2'], c=df['label'], cmap=matplotlib.colors.ListedColormap(colors))\n",
    "plt.legend(handles=scatter_spectrogram.legend_elements()[0], \n",
    "           labels=labels,\n",
    "           title=\"Spectrogram Feature Extraction\")\n",
    "plt.show()"
   ]
  },
  {
   "cell_type": "code",
   "execution_count": 97,
   "id": "13ec7376",
   "metadata": {},
   "outputs": [
    {
     "data": {
      "image/png": "[encoded data removed]",
      "text/plain": [
       "<Figure size 640x480 with 1 Axes>"
      ]
     },
     "metadata": {},
     "output_type": "display_data"
    }
   ],
   "source": [
    "colors = ['purple','brown']\n",
    "labels = ['Chromagram_Not prog rock','Chromagram_prog rock']\n",
    "scatter_chromagram = plt.scatter(df['Feature3'],df['Feature4'], c=df['label'], cmap=matplotlib.colors.ListedColormap(colors))\n",
    "plt.legend(handles=scatter_chromagram.legend_elements()[0], \n",
    "           labels=labels,\n",
    "           title=\"Chromagram Feature Extraction\")\n",
    "plt.show()"
   ]
  },
  {
   "cell_type": "code",
   "execution_count": 99,
   "id": "a7f890f7",
   "metadata": {
    "scrolled": true
   },
   "outputs": [
    {
     "data": {
      "image/png": "[encoded data removed]",
      "text/plain": [
       "<Figure size 640x480 with 1 Axes>"
      ]
     },
     "metadata": {},
     "output_type": "display_data"
    }
   ],
   "source": [
    "colors = ['violet','salmon']\n",
    "labels = ['Mfcc_Not prog rock','Mfcc_prog rock']\n",
    "scatter_mfcc = plt.scatter(df['Feature5'],df['Feature6'], c=df['label'], cmap=matplotlib.colors.ListedColormap(colors))\n",
    "plt.legend(handles=scatter_mfcc.legend_elements()[0], \n",
    "           labels=labels,\n",
    "           title=\"Mfcc Feature Extraction\")\n",
    "plt.show()"
   ]
  },
  {
   "cell_type": "code",
   "execution_count": 100,
   "id": "879731a7",
   "metadata": {},
   "outputs": [
    {
     "data": {
      "image/png": "[encoded data removed]",
      "text/plain": [
       "<Figure size 640x480 with 1 Axes>"
      ]
     },
     "metadata": {},
     "output_type": "display_data"
    }
   ],
   "source": [
    "colors = ['olive','dimgray']\n",
    "labels = ['Fourier_tempogram_Not prog rock','Fourier_tempogram_prog rock']\n",
    "scatter_fourier_tempogram = plt.scatter(df['Feature7'],df['Feature8'], c=df['label'], cmap=matplotlib.colors.ListedColormap(colors))\n",
    "plt.legend(handles=scatter_fourier_tempogram.legend_elements()[0], \n",
    "           labels=labels,\n",
    "           title=\"Fourier Tempogram Feature Extraction\")\n",
    "plt.show()"
   ]
  },
  {
   "cell_type": "markdown",
   "id": "211d6b5b",
   "metadata": {},
   "source": [
    "# SVM meta classifier"
   ]
  },
  {
   "cell_type": "code",
   "execution_count": 102,
   "id": "f81dfa04",
   "metadata": {},
   "outputs": [],
   "source": [
    "X=np.array(df.iloc[:,:-1])\n",
    "y=np.array(df.iloc[:,-1])"
   ]
  },
  {
   "cell_type": "code",
   "execution_count": 103,
   "id": "062baf38",
   "metadata": {},
   "outputs": [],
   "source": [
    "X_train,X_test,y_train,y_test=train_test_split(X,y,train_size=0.5,shuffle=True,stratify=y,random_state=37)"
   ]
  },
  {
   "cell_type": "code",
   "execution_count": 104,
   "id": "c9820159",
   "metadata": {},
   "outputs": [],
   "source": [
    "scaler=StandardScaler()\n",
    "X_train=scaler.fit_transform(X_train)\n",
    "X_test=scaler.transform(X_test)"
   ]
  },
  {
   "cell_type": "code",
   "execution_count": 105,
   "id": "59839e5f",
   "metadata": {},
   "outputs": [],
   "source": [
    "clf=LinearSVC(C=0.01,max_iter=1000)"
   ]
  },
  {
   "cell_type": "code",
   "execution_count": 106,
   "id": "8c7ea586",
   "metadata": {},
   "outputs": [
    {
     "data": {
      "text/html": [
       "<style>#sk-container-id-1 {color: black;background-color: white;}#sk-container-id-1 pre{padding: 0;}#sk-container-id-1 div.sk-toggleable {background-color: white;}#sk-container-id-1 label.sk-toggleable__label {cursor: pointer;display: block;width: 100%;margin-bottom: 0;padding: 0.3em;box-sizing: border-box;text-align: center;}#sk-container-id-1 label.sk-toggleable__label-arrow:before {content: \"▸\";float: left;margin-right: 0.25em;color: #696969;}#sk-container-id-1 label.sk-toggleable__label-arrow:hover:before {color: black;}#sk-container-id-1 div.sk-estimator:hover label.sk-toggleable__label-arrow:before {color: black;}#sk-container-id-1 div.sk-toggleable__content {max-height: 0;max-width: 0;overflow: hidden;text-align: left;background-color: #f0f8ff;}#sk-container-id-1 div.sk-toggleable__content pre {margin: 0.2em;color: black;border-radius: 0.25em;background-color: #f0f8ff;}#sk-container-id-1 input.sk-toggleable__control:checked~div.sk-toggleable__content {max-height: 200px;max-width: 100%;overflow: auto;}#sk-container-id-1 input.sk-toggleable__control:checked~label.sk-toggleable__label-arrow:before {content: \"▾\";}#sk-container-id-1 div.sk-estimator input.sk-toggleable__control:checked~label.sk-toggleable__label {background-color: #d4ebff;}#sk-container-id-1 div.sk-label input.sk-toggleable__control:checked~label.sk-toggleable__label {background-color: #d4ebff;}#sk-container-id-1 input.sk-hidden--visually {border: 0;clip: rect(1px 1px 1px 1px);clip: rect(1px, 1px, 1px, 1px);height: 1px;margin: -1px;overflow: hidden;padding: 0;position: absolute;width: 1px;}#sk-container-id-1 div.sk-estimator {font-family: monospace;background-color: #f0f8ff;border: 1px dotted black;border-radius: 0.25em;box-sizing: border-box;margin-bottom: 0.5em;}#sk-container-id-1 div.sk-estimator:hover {background-color: #d4ebff;}#sk-container-id-1 div.sk-parallel-item::after {content: \"\";width: 100%;border-bottom: 1px solid gray;flex-grow: 1;}#sk-container-id-1 div.sk-label:hover label.sk-toggleable__label {background-color: #d4ebff;}#sk-container-id-1 div.sk-serial::before {content: \"\";position: absolute;border-left: 1px solid gray;box-sizing: border-box;top: 0;bottom: 0;left: 50%;z-index: 0;}#sk-container-id-1 div.sk-serial {display: flex;flex-direction: column;align-items: center;background-color: white;padding-right: 0.2em;padding-left: 0.2em;position: relative;}#sk-container-id-1 div.sk-item {position: relative;z-index: 1;}#sk-container-id-1 div.sk-parallel {display: flex;align-items: stretch;justify-content: center;background-color: white;position: relative;}#sk-container-id-1 div.sk-item::before, #sk-container-id-1 div.sk-parallel-item::before {content: \"\";position: absolute;border-left: 1px solid gray;box-sizing: border-box;top: 0;bottom: 0;left: 50%;z-index: -1;}#sk-container-id-1 div.sk-parallel-item {display: flex;flex-direction: column;z-index: 1;position: relative;background-color: white;}#sk-container-id-1 div.sk-parallel-item:first-child::after {align-self: flex-end;width: 50%;}#sk-container-id-1 div.sk-parallel-item:last-child::after {align-self: flex-start;width: 50%;}#sk-container-id-1 div.sk-parallel-item:only-child::after {width: 0;}#sk-container-id-1 div.sk-dashed-wrapped {border: 1px dashed gray;margin: 0 0.4em 0.5em 0.4em;box-sizing: border-box;padding-bottom: 0.4em;background-color: white;}#sk-container-id-1 div.sk-label label {font-family: monospace;font-weight: bold;display: inline-block;line-height: 1.2em;}#sk-container-id-1 div.sk-label-container {text-align: center;}#sk-container-id-1 div.sk-container {/* jupyter's `normalize.less` sets `[hidden] { display: none; }` but bootstrap.min.css set `[hidden] { display: none !important; }` so we also need the `!important` here to be able to override the default hidden behavior on the sphinx rendered scikit-learn.org. See: https://github.com/scikit-learn/scikit-learn/issues/21755 */display: inline-block !important;position: relative;}#sk-container-id-1 div.sk-text-repr-fallback {display: none;}</style><div id=\"sk-container-id-1\" class=\"sk-top-container\"><div class=\"sk-text-repr-fallback\"><pre>LinearSVC(C=0.01)</pre><b>In a Jupyter environment, please rerun this cell to show the HTML representation or trust the notebook. <br />On GitHub, the HTML representation is unable to render, please try loading this page with nbviewer.org.</b></div><div class=\"sk-container\" hidden><div class=\"sk-item\"><div class=\"sk-estimator sk-toggleable\"><input class=\"sk-toggleable__control sk-hidden--visually\" id=\"sk-estimator-id-1\" type=\"checkbox\" checked><label for=\"sk-estimator-id-1\" class=\"sk-toggleable__label sk-toggleable__label-arrow\">LinearSVC</label><div class=\"sk-toggleable__content\"><pre>LinearSVC(C=0.01)</pre></div></div></div></div></div>"
      ],
      "text/plain": [
       "LinearSVC(C=0.01)"
      ]
     },
     "execution_count": 106,
     "metadata": {},
     "output_type": "execute_result"
    }
   ],
   "source": [
    "clf.fit(X_train,y_train)"
   ]
  },
  {
   "cell_type": "code",
   "execution_count": 107,
   "id": "e8728289",
   "metadata": {},
   "outputs": [],
   "source": [
    "y_pred_train=clf.predict(X_train)\n",
    "y_pred_test=clf.predict(X_test)\n",
    "print(\"Train Set Accuracy\")      \n",
    "print(\"Accuracy on train set is {:.2f}\".format(accuracy_score(y_pred_train,y_train)))\n",
    "print('----------')\n",
    "print(\"Test Set Accuracy\")      \n",
    "print(\"Accuracy on test set is {:.2f}\".format(accuracy_score(y_pred_test,y_test)))"
   ]
  },
  {
   "cell_type": "code",
   "execution_count": 108,
   "id": "9f3a4e83",
   "metadata": {},
   "outputs": [
    {
     "name": "stdout",
     "output_type": "stream",
     "text": [
      "Train Set Accuracy\n",
      "Accuracy on train set is 0.93\n",
      "----------\n",
      "Test Set Accuracy\n",
      "Accuracy on test set is 0.94\n"
     ]
    }
   ],
   "source": [
    "print(\"Train Set Accuracy\")      \n",
    "print(\"Accuracy on train set is {:.2f}\".format(accuracy_score(y_pred_train,y_train)))\n",
    "print('----------')\n",
    "print(\"Test Set Accuracy\")      \n",
    "print(\"Accuracy on test set is {:.2f}\".format(accuracy_score(y_pred_test,y_test)))"
   ]
  },
  {
   "cell_type": "code",
   "execution_count": 109,
   "id": "a3df7bfb",
   "metadata": {},
   "outputs": [
    {
     "data": {
      "image/png": "[encoded data removed]",
      "text/plain": [
       "<Figure size 640x480 with 2 Axes>"
      ]
     },
     "metadata": {},
     "output_type": "display_data"
    }
   ],
   "source": [
    "cm_display = ConfusionMatrixDisplay(confusion_matrix = confusion_matrix(y_test,y_pred_test))\n",
    "cm_display.plot()\n",
    "plt.show()"
   ]
  },
  {
   "cell_type": "code",
   "execution_count": 112,
   "id": "b11dc80d",
   "metadata": {},
   "outputs": [
    {
     "name": "stdout",
     "output_type": "stream",
     "text": [
      "Accuracy of Not Prog Rock is: 90.82094376212024%\n",
      "Accuracy of Prog rock is: 95.60755336617406%\n"
     ]
    }
   ],
   "source": [
    "cm=confusion_matrix(y_test,y_pred_test)\n",
    "accuracies = [0 for i in range(2)]\n",
    "for i in range(2):\n",
    "    row_sum=0\n",
    "    for j in range(2):\n",
    "        row_sum+=cm[i][j]\n",
    "    accuracies[i]=(cm[i][i]/row_sum)*100\n",
    "for i in range(2):\n",
    "    print(\"Accuracy of {output_label} is: {acc}%\".format(output_label=output_label(i),acc=accuracies[i]))"
   ]
  },
  {
   "cell_type": "code",
   "execution_count": 114,
   "id": "5969a055",
   "metadata": {},
   "outputs": [
    {
     "name": "stdout",
     "output_type": "stream",
     "text": [
      "Maximum accuracy acheived with K-Fold Cross validation is 0.9372647427854455\n"
     ]
    }
   ],
   "source": [
    "#Performing KFold Cross Validation\n",
    "from sklearn.model_selection import StratifiedKFold\n",
    "skf=StratifiedKFold(n_splits=5,random_state=37,shuffle=True)\n",
    "val_accuracies=[]\n",
    "for train_index,val_index in skf.split(X_train,y_train):\n",
    "    X_train_split,X_val_split=X_train[train_index],X_train[val_index]\n",
    "    y_train_split,y_val_split=y_train[train_index],y_train[val_index]\n",
    "    clf=LinearSVC(C=0.01,max_iter=1000)\n",
    "    clf.fit(X_train_split,y_train_split)\n",
    "    val_accuracies.append(np.mean(clf.predict(X_val_split)==y_val_split))\n",
    "#print(len(test_accuracies))\n",
    "print(\"Maximum accuracy acheived with K-Fold Cross validation is {}\".format(max(val_accuracies)))"
   ]
  },
  {
   "cell_type": "code",
   "execution_count": null,
   "id": "ad2485a6",
   "metadata": {},
   "outputs": [],
   "source": []
  }
 ],
 "metadata": {
  "kernelspec": {
   "display_name": "Python 3 (ipykernel)",
   "language": "python",
   "name": "python3"
  },
  "language_info": {
   "codemirror_mode": {
    "name": "ipython",
    "version": 3
   },
   "file_extension": ".py",
   "mimetype": "text/x-python",
   "name": "python",
   "nbconvert_exporter": "python",
   "pygments_lexer": "ipython3",
   "version": "3.9.12"
  }
 },
 "nbformat": 4,
 "nbformat_minor": 5
}
