{
 "cells": [
  {
   "cell_type": "markdown",
   "id": "988c13a8",
   "metadata": {},
   "source": [
    "## 1D features plus mfcc, contrast and chromagram (with windows in each segment)\n",
    "\n",
    "2D Features:\n",
    "- Contrast (mean - 7, var - 7)\n",
    "- chromagram (mean - 12, var - 12)\n",
    "- mfcc (mean - 20, var - 20)\n",
    "\n",
    "1D Features:\n",
    "- spectral centroid\n",
    "- zero crossing\n",
    "- spectral rolloff\n",
    "- rms\n",
    "- beat\n",
    "\n",
    "total features = 88\n",
    "\n",
    "Extra addition: Removing first and last 20 seconds of each song"
   ]
  },
  {
   "cell_type": "code",
   "execution_count": 1,
   "id": "a36e3cce",
   "metadata": {},
   "outputs": [],
   "source": [
    "import librosa\n",
    "import librosa.display\n",
    "import numpy as np\n",
    "import os"
   ]
  },
  {
   "cell_type": "code",
   "execution_count": 2,
   "id": "a3aeded1",
   "metadata": {},
   "outputs": [],
   "source": [
    "# get the file names in the folders\n",
    "prog_rock_directory = \"C:/Users/dhruv.kushwaha/Dropbox (UFL)/CAP6610_Music_Genre_Classification/Code/Train_set/Progressive_Rock_Songs\"\n",
    "prog_rock_filenames = os.listdir(prog_rock_directory)\n",
    "\n",
    "other_songs_directory = \"C:/Users/dhruv.kushwaha/Dropbox (UFL)/CAP6610_Music_Genre_Classification/Code/Train_set/Other_Songs\"\n",
    "other_songs_filenames = os.listdir(other_songs_directory)\n",
    "\n",
    "top_of_the_pops_directory = \"C:/Users/dhruv.kushwaha/Dropbox (UFL)/CAP6610_Music_Genre_Classification/Code/Train_set/Top_Of_The_Pops\"\n",
    "top_of_the_pops_filenames = os.listdir(top_of_the_pops_directory)\n",
    "\n",
    "song_dict = {\n",
    "    \"prog_rock\": prog_rock_filenames,\n",
    "    \"other_songs\": other_songs_filenames,\n",
    "    \"top_of_the_pops\": top_of_the_pops_filenames\n",
    "}\n",
    "\n",
    "path_dict = {\n",
    "    \"prog_rock\": prog_rock_directory,\n",
    "    \"other_songs\": other_songs_directory,\n",
    "    \"top_of_the_pops\": top_of_the_pops_directory\n",
    "}\n",
    "\n",
    "folders = [\"prog_rock\", \"other_songs\", \"top_of_the_pops\"]\n",
    "\n",
    "# Params\n",
    "segment_length = 5# Snippets in each track considered\n",
    "# rp% of the spectral energy lies below the value of spectral rolloff\n",
    "roll_percent = 0.85\n",
    "sr = 44100 # Sampling rate - 22 kHz"
   ]
  },
  {
   "cell_type": "code",
   "execution_count": 3,
   "id": "b21473e1",
   "metadata": {},
   "outputs": [
    {
     "name": "stderr",
     "output_type": "stream",
     "text": [
      "c:\\Users\\dhruv.kushwaha\\Anaconda3\\envs\\ML_env\\lib\\site-packages\\librosa\\util\\decorators.py:88: UserWarning: Trying to estimate tuning from empty frequency set.\n",
      "  return f(*args, **kwargs)\n"
     ]
    }
   ],
   "source": [
    "# 1D features\n",
    "# Init\n",
    "label_list, feature_matrix_list = [], []\n",
    "segment_count = 0\n",
    "\n",
    "# Start loop\n",
    "for folder in folders:\n",
    "    os.chdir(path_dict[folder])\n",
    "    for filename in song_dict[folder]:\n",
    "        try:\n",
    "            x , sr = librosa.load(filename, sr=sr)\n",
    "\n",
    "            # compute number of audio segments for fixed segment length\n",
    "            num_segments = int(len(x)/(sr*segment_length))\n",
    "\n",
    "            # Sanity check\n",
    "            #print(\"Number of segments: {}\".format(num_segments))\n",
    "            segment_count += num_segments\n",
    "\n",
    "            segments = np.arange(4,num_segments-4,1,dtype=int)\n",
    "\n",
    "            for segment in segments:\n",
    "                x, sr = librosa.load(filename, sr=sr, offset=segment_length*segment, duration=segment_length)\n",
    "\n",
    "                # zero crossings rate\n",
    "                # gives the fraction of zero crossings in a timeframe\n",
    "                zero_crossings = librosa.feature.zero_crossing_rate(x)[0]\n",
    "\n",
    "                # spectral centroid\n",
    "                # indicates where the center of mass lies, e.g. for metal songs generally towards the end\n",
    "                # might be not that useful when cutting the songs into 30sec snippets\n",
    "                spectral_centroids = librosa.feature.spectral_centroid(y=x, sr=sr)[0]\n",
    "\n",
    "                # spectral rolloff\n",
    "                spectral_rolloff = librosa.feature.spectral_rolloff(\n",
    "                    y=x, sr=sr, roll_percent=roll_percent)[0]\n",
    "\n",
    "                # chroma frequencies\n",
    "                # x-axis = time\n",
    "                # y-axis = chroma\n",
    "                chromagram = librosa.feature.chroma_stft(y=x, sr=sr, S=None, n_fft=2048,\n",
    "                                                         hop_length=512, win_length=None, window='hann', center=True,\n",
    "                                                         pad_mode='constant', tuning=None, n_chroma=12)\n",
    "\n",
    "                # mfccs\n",
    "                mfccs = librosa.feature.mfcc(y=x, sr=sr)\n",
    "\n",
    "                # spectral contrast\n",
    "                spectral_contrast = librosa.feature.spectral_contrast(y=x)\n",
    "\n",
    "                # root mean squared energy\n",
    "                rms = librosa.feature.rms(y=x)[0]\n",
    "\n",
    "                # beat\n",
    "                beat = librosa.beat.plp(y=x)\n",
    "\n",
    "                # Add label to each segment\n",
    "                if folder == 'prog_rock':\n",
    "                    label_list.append(1)\n",
    "                else:\n",
    "                    label_list.append(0)\n",
    "\n",
    "                # Compute mean and variance for 1D and 2D features\n",
    "                # Compute 1D features\n",
    "                # Stack 1D features\n",
    "                feature1d_temp = np.vstack((spectral_centroids.reshape(1, -1), zero_crossings.reshape(1, -1),\n",
    "                                            spectral_rolloff.reshape(1, -1), rms.reshape(1, -1), beat.reshape(1, -1)))\n",
    "\n",
    "\n",
    "                num_windows = int(len(spectral_centroids)/(38))\n",
    "                list1d_temp1, list1d_temp2 = [], []\n",
    "\n",
    "                for idx in range(0, len(spectral_centroids), num_windows):\n",
    "                    feature1D_m = np.mean(feature1d_temp[:, idx:idx+num_windows-1], axis=1)\n",
    "                    feature1D_v = np.var(feature1d_temp[:, idx:idx+num_windows-1], axis=1)\n",
    "\n",
    "                    temp1d = np.hstack((feature1D_m, feature1D_v))\n",
    "                    list1d_temp1.append(feature1D_m)\n",
    "                    list1d_temp2.append(feature1D_v)\n",
    "\n",
    "                # Convert list to numpy array and calculate average over windows\n",
    "                feature1D_mean = np.mean(np.array(list1d_temp1), axis=0)\n",
    "                feature1D_var = np.mean(np.array(list1d_temp2), axis=0)\n",
    "\n",
    "                # Combine mean and var\n",
    "                feature_matrix1D = np.hstack(\n",
    "                    (feature1D_mean.reshape(-1, 1), feature1D_var.reshape(-1, 1)))\n",
    "\n",
    "                feature_matrix1D = feature_matrix1D.flatten()\n",
    "\n",
    "                # print(\"mean: {}; variance: {}\".format(feature1D_mean, feature1D_var))\n",
    "\n",
    "                # Compute 2D features\n",
    "                feature2D_temp = np.vstack((mfccs.reshape(20, -1),\n",
    "                                            chromagram.reshape(12, -1), spectral_contrast.reshape(7, -1)))\n",
    "\n",
    "                # Compute mean and variance\n",
    "                list2d_temp1, list2d_temp2 = [], []\n",
    "                for idx in range(0, len(spectral_centroids), num_windows):\n",
    "                    feature2D_m = np.mean(feature2D_temp[:, idx:idx+num_windows-1], axis=1)\n",
    "                    feature2D_v = np.var(feature2D_temp[:, idx:idx+num_windows-1], axis=1)\n",
    "\n",
    "                    list2d_temp1.append(feature2D_m)\n",
    "                    list2d_temp2.append(feature2D_v)\n",
    "\n",
    "                # Convert list to numpy array and calculate average over windows\n",
    "                feature2D_mean = np.mean(np.array(list2d_temp1), axis=0)\n",
    "                feature2D_var = np.mean(np.array(list2d_temp2), axis=0)\n",
    "\n",
    "                # Combine mean and var\n",
    "                feature_matrix2D = np.hstack(\n",
    "                    (feature2D_mean.reshape(-1, 1), feature2D_var.reshape(-1, 1)))\n",
    "\n",
    "                feature_matrix2D = feature_matrix2D.flatten()\n",
    "\n",
    "                feature_matrix_temp = np.append(feature_matrix1D, feature_matrix2D)\n",
    "\n",
    "                #print(\"Shape of final matrix:{}\".format(feature_matrix_temp.shape))\n",
    "\n",
    "                feature_matrix_list.append(feature_matrix_temp)\n",
    "\n",
    "            # Remove song from list\n",
    "            song_dict[folder].remove(filename)\n",
    "        except:\n",
    "            pass\n",
    "\n"
   ]
  },
  {
   "cell_type": "code",
   "execution_count": 4,
   "id": "0a87b19b",
   "metadata": {},
   "outputs": [
    {
     "name": "stdout",
     "output_type": "stream",
     "text": [
      "(8560, 88)\n",
      "9384\n"
     ]
    }
   ],
   "source": [
    "# Sanity check\n",
    "print(np.array(feature_matrix_list).shape)\n",
    "print(segment_count)\n"
   ]
  },
  {
   "cell_type": "code",
   "execution_count": 5,
   "id": "a78c772e",
   "metadata": {},
   "outputs": [
    {
     "name": "stdout",
     "output_type": "stream",
     "text": [
      "Dimension of final feature matrix: (8560, 89)\n"
     ]
    }
   ],
   "source": [
    "# Combine labels for final feature matrix\n",
    "final_feature_matrix = np.hstack((np.array(label_list).reshape(-1, 1),np.array(feature_matrix_list)))\n",
    "\n",
    "print(\"Dimension of final feature matrix: {}\".format(final_feature_matrix.shape))"
   ]
  },
  {
   "cell_type": "code",
   "execution_count": null,
   "id": "3cf85fef",
   "metadata": {},
   "outputs": [],
   "source": [
    "# save final dataset\n",
    "os.chdir('C:/Users/dhruv.kushwaha/Dropbox (UFL)/CAP6610_Music_Genre_Classification/Code/Extracted_data')\n",
    "np.savez_compressed('Feature_matrix_window', final_feature_matrix)"
   ]
  },
  {
   "cell_type": "markdown",
   "id": "c8da727f",
   "metadata": {},
   "source": [
    "### If one feels like creating a pandas dataframe"
   ]
  },
  {
   "cell_type": "code",
   "execution_count": null,
   "id": "8d4741d4",
   "metadata": {},
   "outputs": [],
   "source": [
    "# Column order \n",
    "\n",
    "# column names for feature dataframe\n",
    "column_names = ([f\"{feature}_{statistic}\" for feature in [\"centroid\", \"crossings\", \"rolloff\", \"rms\", \"beat\"] for statistic in [\"mean\", \"var\"]] +\n",
    "                [f\"contrast_mean_{i}\" for i in range(7)] + [f\"contrast_var_{i}\" for i in range(7)] +\n",
    "                [f\"chromogram_mean_{i}\" for i in range(12)] + [f\"chromogram_var_{i}\" for i in range(12)] +\n",
    "                [f\"mfccs_mean_{i}\" for i in range(20)] + [f\"mfccs_var_{i}\" for i in range(20)] + [f\"label\"])\n"
   ]
  }
 ],
 "metadata": {
  "kernelspec": {
   "display_name": "Python 3 (ipykernel)",
   "language": "python",
   "name": "python3"
  },
  "language_info": {
   "codemirror_mode": {
    "name": "ipython",
    "version": 3
   },
   "file_extension": ".py",
   "mimetype": "text/x-python",
   "name": "python",
   "nbconvert_exporter": "python",
   "pygments_lexer": "ipython3",
   "version": "3.9.12"
  },
  "vscode": {
   "interpreter": {
    "hash": "bbc15c2aec24558971d5abe21601ee71dd1fb1ef386ff55144614be297c6371c"
   }
  }
 },
 "nbformat": 4,
 "nbformat_minor": 5
}
